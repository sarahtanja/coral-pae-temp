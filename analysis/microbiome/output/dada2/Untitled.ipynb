{
 "cells": [
  {
   "cell_type": "code",
   "execution_count": null,
   "id": "38019924-3324-4c40-b80e-8c149b9ffdee",
   "metadata": {},
   "outputs": [],
   "source": []
  },
  {
   "cell_type": "code",
   "execution_count": null,
   "id": "7f843231-ea07-4547-849f-a2fdba41d704",
   "metadata": {},
   "outputs": [],
   "source": []
  },
  {
   "cell_type": "markdown",
   "id": "fe9f79cd-b043-4c45-aef4-4a3b2cae00b5",
   "metadata": {
    "jp-MarkdownHeadingCollapsed": true
   },
   "source": [
    "## [Generate a tree for phylogenetic diversity analyses](https://docs.qiime2.org/2023.5/tutorials/moving-pictures-usage/#:~:text=Generate%20a%20tree%20for%20phylogenetic%20diversity%20analyses)\n",
    "\n",
    "From the moving pictures tutorial:\n",
    "> QIIME supports several phylogenetic diversity metrics, including Faith’s Phylogenetic Diversity and weighted and unweighted UniFrac. In addition to counts of features per sample (i.e., the data in the FeatureTable[Frequency] QIIME 2 artifact), these metrics require a rooted phylogenetic tree relating the features to one another. This information will be stored in a Phylogeny[Rooted] QIIME 2 artifact. To generate a phylogenetic tree we will use align-to-tree-mafft-fasttree pipeline from the q2-phylogeny plugin. \r\n",
    "First, the pipeline uses the mafft program to perform a multiple sequence alignment of the sequences in our FeatureData[Sequence] to create a FeatureData[AlignedSequence] QIIME 2 artifact. Next, the pipeline masks (or filters) the alignment to remove positions that are highly variable. These positions are generally considered to add noise to a resulting phylogenetic tree. Following that, the pipeline applies FastTree to generate a phylogenetic tree from the masked alignment. The FastTree program creates an unrooted tree, so in the final step in this section midpoint rooting is applied to place the root of the tree at the midpoint of the longest tip-to-tip distance in the unrooted tree."
   ]
  },
  {
   "cell_type": "code",
   "execution_count": 25,
   "id": "5e8cdfc4-c03e-41e9-8b4b-b8e312cd44d4",
   "metadata": {},
   "outputs": [
    {
     "name": "stdout",
     "output_type": "stream",
     "text": [
      "\u001b[32mSaved FeatureData[AlignedSequence] to: ../output/blank-mock/phylogeny-tree-bm/alignment.qza\u001b[0m\n",
      "\u001b[32mSaved FeatureData[AlignedSequence] to: ../output/blank-mock/phylogeny-tree-bm/masked_alignment.qza\u001b[0m\n",
      "\u001b[32mSaved Phylogeny[Unrooted] to: ../output/blank-mock/phylogeny-tree-bm/tree.qza\u001b[0m\n",
      "\u001b[32mSaved Phylogeny[Rooted] to: ../output/blank-mock/phylogeny-tree-bm/rooted_tree.qza\u001b[0m\n",
      "\u001b[0m"
     ]
    }
   ],
   "source": [
    "!qiime phylogeny align-to-tree-mafft-fasttree \\\n",
    "  --i-sequences ../output/blank-mock/rep-seqs-bm.qza \\\n",
    "  --output-dir ../output/blank-mock/phylogeny-tree-bm"
   ]
  },
  {
   "cell_type": "markdown",
   "id": "b7a9a2cc-d26e-48f7-a197-5e8b2178ee07",
   "metadata": {},
   "source": [
    "## [Alpha & Beta diversity](https://docs.qiime2.org/2023.5/tutorials/moving-pictures-usage/#:~:text=Alpha%20and%20beta%20diversity%20analysis)\n",
    "\n",
    "![alpha-vs-beta](https://commercio.nyc3.digitaloceanspaces.com/goldbio-2018/pages/2.%20Alpha%20vs%20Beta%20diversity.png)\n",
    "\n",
    "QIIME 2’s diversity analyses are available through the `q2-diversity` plugin, which supports computing alpha and beta diversity metrics, applying related statistical tests, and generating interactive visualizations. We’ll first apply the `core-metrics-phylogenetic` method, which rarefies a `FeatureTable Frequency` to a user-specified depth, computes several alpha and beta diversity metrics, and generates principle coordinates analysis (PCoA) plots using Emperor for each of the beta diversity metrics. "
   ]
  },
  {
   "cell_type": "markdown",
   "id": "e39bbbb7-d487-4b4e-8a86-4286202bb43e",
   "metadata": {},
   "source": [
    "The metrics computed by default are:\n",
    "\r",
    "##### Alpha diversity\r",
    "- \r\n",
    "Shannon’s diversity index (a quantitative measure of community richness- \r\n",
    "\r\n",
    "Observed Features (a qualitative measure of community richne- s)\r\n",
    "\r\n",
    "Faith’s Phylogenetic Dive**rsity (a qualitative measure of community richness that incorporates phylogenetic relationships between the fea**t- res)\r\n",
    "\r\n",
    "Evenness (or Pielou’s Evenness; a measure of community eve##### nness)\r\n",
    "\r\n",
    "Beta - iversity\r\n",
    "\r\n",
    "Jaccard distance (a qualitative measure of community dis- imilarity)\r\n",
    "\r\n",
    "Bray-Curtis distance (a quantitative measure of community d- ssimilarity)\r\n",
    "\r\n",
    "unweighted U**niFrac distance (a qualitative measure of community dissimilarity that incorporates phylogenetic relationships betwe**e-  the features)\r\n",
    "\r\n",
    "weighted** UniFrac distance (a quantitative measure of community dissimilarity that incorporates phylogenetic relationships bet**ween the features) \r"
   ]
  },
  {
   "cell_type": "markdown",
   "id": "5c805bba-d6e3-4eaf-bef7-b3d4f4ba8001",
   "metadata": {},
   "source": [
    "\r\n",
    "An important parameter that needs to be prii`ded to this scri ` i`s --p-sampling-dep`th, which is the even sampling (i.e. rarefaction) depth. Because most diversity metrics are sensitive to different sampling depths across different samples, this script will randomly subsample the counts from each sample to the value provided for this parameter. For am--ple, if you provide `--p-sampling-depth 5`00, this step will subsample the counts in each sample without replacement so that each sample in the resulting table has a total count of 500. If the total count for any sample(s) are smaller than this value, those samples will be dropped from the diversity analysis. Choosing this value is tricky. We recommend making your choice by reviewing the infora`tion prs`ented in th`e table.q`zv file that was created above. Choose a value that is as high as possible (so you retain more sequences per sampl)while excluding as few w samples as possiblefe"
   ]
  },
  {
   "cell_type": "markdown",
   "id": "0683009b-0579-4dcc-9e35-6b0d3024f716",
   "metadata": {},
   "source": [
    "### Sampling Depth"
   ]
  },
  {
   "cell_type": "code",
   "execution_count": 26,
   "id": "2d2f7ae0-9d73-4166-960d-8bd748fe7be7",
   "metadata": {
    "scrolled": true
   },
   "outputs": [
    {
     "data": {
      "text/html": [
       "<div><img onload=\"(function(div, url){\n",
       "if (typeof require !== 'undefined') {\n",
       "    var baseURL = require.toUrl('').split('/').slice(0, -2).join('/');\n",
       "} else {\n",
       "    var baseURL = JSON.parse(\n",
       "        document.getElementById('jupyter-config-data').innerHTML\n",
       "    ).baseUrl.slice(0, -1);\n",
       "}\n",
       "url = baseURL + url;\n",
       "fetch(url).then(function(res) {\n",
       "    if (res.status === 404) {\n",
       "        div.innerHTML = 'Install QIIME 2 Jupyter extension with:<br />' +\n",
       "                        '<code>jupyter serverextension enable --py qiime2' +\n",
       "                        ' --sys-prefix</code><br />then restart your server.' +\n",
       "                        '<br /><br />(Interactive output not available on ' +\n",
       "                        'static notebook viewer services like nbviewer.)';\n",
       "    } else if (res.status === 409) {\n",
       "        div.innerHTML = 'Visualization no longer in scope. Re-run this cell' +\n",
       "                        ' to see the visualization.';\n",
       "    } else if (res.ok) {\n",
       "        url = res.url;\n",
       "        div.innerHTML = '<iframe src=\\'' + url + '\\' style=\\'' +\n",
       "                        'width: 100%; height: 700px; border: 0;\\'>' +\n",
       "                        '</iframe><hr />Open in a: <a href=\\'' + url + '\\'' +\n",
       "                        ' target=\\'_blank\\'>new window</a>'\n",
       "    } else {\n",
       "        div.innerHTML = 'Something has gone wrong. Check notebook server for' +\n",
       "                        ' errors.';\n",
       "    }\n",
       "});\n",
       "})(this.parentElement, '/qiime2/redirect?location=/tmp/qiime2/stanja/data/ee2b6637-f808-40bd-8df0-b1352d5a6679')\" src=\"data:image/gif;base64,R0lGODlhAQABAIAAAP///wAAACH5BAEAAAAALAAAAAABAAEAAAICRAEAOw==\" /></div>"
      ],
      "text/plain": [
       "<visualization: Visualization uuid: ee2b6637-f808-40bd-8df0-b1352d5a6679>"
      ]
     },
     "execution_count": 26,
     "metadata": {},
     "output_type": "execute_result"
    }
   ],
   "source": [
    "## open interactive table visualization\n",
    "Visualization.load('../output/blank-mock/table-bm.qzv')\n",
    "\n",
    "## navigate to the interactive sample detail tab\n",
    "# move the sampling depth slider as high as you can before excluding any samples \n",
    "# we want the sampling depth to be high, while retaining all 22 samples\n",
    "# this looks like a sampling depth of 10,6727 (09AUG2023, SST) \n",
    "# but maybe we exclude the mock community and bring it up to 163971? (15AUG2023, SST)"
   ]
  },
  {
   "cell_type": "markdown",
   "id": "230a642f-57ba-41d9-881e-f7e2adb4cef6",
   "metadata": {},
   "source": [
    "What value would you choose to pass for --p-sampling-depth? \n",
    "- **104,183**\n",
    "How many samples will be excluded from your analysis based on this choice? \n",
    "- **none, all 22 samples are retained**\n",
    "How many total reads will you be analyzing in the core-metrics-phylogenetic command?\n",
    "- **2,292,026**\n",
    "\n",
    "This represents **42.33%** of the features present across the 22 samples\n",
    "The mock community has the fewest reads at **104,183** and is our 'limiting factor' to increase sample depth.\n",
    "Why does the blank have so many features! That is not good... "
   ]
  },
  {
   "cell_type": "markdown",
   "id": "f85fc2c8-6759-409a-a063-52eb73a664c3",
   "metadata": {},
   "source": [
    "### Rooted Tree"
   ]
  },
  {
   "cell_type": "code",
   "execution_count": 27,
   "id": "5896a1bf-923b-4433-ab5e-cbafa7f9dc93",
   "metadata": {},
   "outputs": [
    {
     "name": "stdout",
     "output_type": "stream",
     "text": [
      "\u001b[32mSaved FeatureTable[Frequency] to: ../output/blank-mock/diversity-core-bm/rarefied_table.qza\u001b[0m\n",
      "\u001b[32mSaved SampleData[AlphaDiversity] to: ../output/blank-mock/diversity-core-bm/faith_pd_vector.qza\u001b[0m\n",
      "\u001b[32mSaved SampleData[AlphaDiversity] to: ../output/blank-mock/diversity-core-bm/observed_features_vector.qza\u001b[0m\n",
      "\u001b[32mSaved SampleData[AlphaDiversity] to: ../output/blank-mock/diversity-core-bm/shannon_vector.qza\u001b[0m\n",
      "\u001b[32mSaved SampleData[AlphaDiversity] to: ../output/blank-mock/diversity-core-bm/evenness_vector.qza\u001b[0m\n",
      "\u001b[32mSaved DistanceMatrix to: ../output/blank-mock/diversity-core-bm/unweighted_unifrac_distance_matrix.qza\u001b[0m\n",
      "\u001b[32mSaved DistanceMatrix to: ../output/blank-mock/diversity-core-bm/weighted_unifrac_distance_matrix.qza\u001b[0m\n",
      "\u001b[32mSaved DistanceMatrix to: ../output/blank-mock/diversity-core-bm/jaccard_distance_matrix.qza\u001b[0m\n",
      "\u001b[32mSaved DistanceMatrix to: ../output/blank-mock/diversity-core-bm/bray_curtis_distance_matrix.qza\u001b[0m\n",
      "\u001b[32mSaved PCoAResults to: ../output/blank-mock/diversity-core-bm/unweighted_unifrac_pcoa_results.qza\u001b[0m\n",
      "\u001b[32mSaved PCoAResults to: ../output/blank-mock/diversity-core-bm/weighted_unifrac_pcoa_results.qza\u001b[0m\n",
      "\u001b[32mSaved PCoAResults to: ../output/blank-mock/diversity-core-bm/jaccard_pcoa_results.qza\u001b[0m\n",
      "\u001b[32mSaved PCoAResults to: ../output/blank-mock/diversity-core-bm/bray_curtis_pcoa_results.qza\u001b[0m\n",
      "\u001b[32mSaved Visualization to: ../output/blank-mock/diversity-core-bm/unweighted_unifrac_emperor.qzv\u001b[0m\n",
      "\u001b[32mSaved Visualization to: ../output/blank-mock/diversity-core-bm/weighted_unifrac_emperor.qzv\u001b[0m\n",
      "\u001b[32mSaved Visualization to: ../output/blank-mock/diversity-core-bm/jaccard_emperor.qzv\u001b[0m\n",
      "\u001b[32mSaved Visualization to: ../output/blank-mock/diversity-core-bm/bray_curtis_emperor.qzv\u001b[0m\n",
      "\u001b[0m"
     ]
    }
   ],
   "source": [
    "!qiime diversity core-metrics-phylogenetic \\\n",
    "  --i-phylogeny ../output/blank-mock/phylogeny-tree-bm/rooted_tree.qza \\\n",
    "  --i-table ../output/blank-mock/table-bm.qza \\\n",
    "  --p-sampling-depth 104183 \\\n",
    "  --m-metadata-file ../rawdata/sample-metadata-verbose.tsv \\\n",
    "  --output-dir ../output/blank-mock/diversity-core-bm"
   ]
  },
  {
   "cell_type": "markdown",
   "id": "834de991-9bca-4b14-ac09-988e037a7f62",
   "metadata": {},
   "source": [
    "### Unweighted Unifrac Emperor Plot"
   ]
  },
  {
   "cell_type": "code",
   "execution_count": 28,
   "id": "7057e2cd-857d-4256-a6c6-c0cb3234755f",
   "metadata": {},
   "outputs": [
    {
     "data": {
      "text/html": [
       "<div><img onload=\"(function(div, url){\n",
       "if (typeof require !== 'undefined') {\n",
       "    var baseURL = require.toUrl('').split('/').slice(0, -2).join('/');\n",
       "} else {\n",
       "    var baseURL = JSON.parse(\n",
       "        document.getElementById('jupyter-config-data').innerHTML\n",
       "    ).baseUrl.slice(0, -1);\n",
       "}\n",
       "url = baseURL + url;\n",
       "fetch(url).then(function(res) {\n",
       "    if (res.status === 404) {\n",
       "        div.innerHTML = 'Install QIIME 2 Jupyter extension with:<br />' +\n",
       "                        '<code>jupyter serverextension enable --py qiime2' +\n",
       "                        ' --sys-prefix</code><br />then restart your server.' +\n",
       "                        '<br /><br />(Interactive output not available on ' +\n",
       "                        'static notebook viewer services like nbviewer.)';\n",
       "    } else if (res.status === 409) {\n",
       "        div.innerHTML = 'Visualization no longer in scope. Re-run this cell' +\n",
       "                        ' to see the visualization.';\n",
       "    } else if (res.ok) {\n",
       "        url = res.url;\n",
       "        div.innerHTML = '<iframe src=\\'' + url + '\\' style=\\'' +\n",
       "                        'width: 100%; height: 700px; border: 0;\\'>' +\n",
       "                        '</iframe><hr />Open in a: <a href=\\'' + url + '\\'' +\n",
       "                        ' target=\\'_blank\\'>new window</a>'\n",
       "    } else {\n",
       "        div.innerHTML = 'Something has gone wrong. Check notebook server for' +\n",
       "                        ' errors.';\n",
       "    }\n",
       "});\n",
       "})(this.parentElement, '/qiime2/redirect?location=/tmp/qiime2/stanja/data/fda23875-f6d6-4be3-ba49-51cc9ccd0e3d')\" src=\"data:image/gif;base64,R0lGODlhAQABAIAAAP///wAAACH5BAEAAAAALAAAAAABAAEAAAICRAEAOw==\" /></div>"
      ],
      "text/plain": [
       "<visualization: Visualization uuid: fda23875-f6d6-4be3-ba49-51cc9ccd0e3d>"
      ]
     },
     "execution_count": 28,
     "metadata": {},
     "output_type": "execute_result"
    }
   ],
   "source": [
    "Visualization.load('../output/blank-mock/diversity-core-bm/unweighted_unifrac_emperor.qzv')"
   ]
  },
  {
   "cell_type": "markdown",
   "id": "c74e3577-d5f2-4501-9886-ffcc43ce8089",
   "metadata": {},
   "source": [
    "### Weighted Unifrac Emperor Plot"
   ]
  },
  {
   "cell_type": "code",
   "execution_count": 29,
   "id": "0c7be6c6-29d9-4e01-97db-80b6b062f039",
   "metadata": {},
   "outputs": [
    {
     "data": {
      "text/html": [
       "<div><img onload=\"(function(div, url){\n",
       "if (typeof require !== 'undefined') {\n",
       "    var baseURL = require.toUrl('').split('/').slice(0, -2).join('/');\n",
       "} else {\n",
       "    var baseURL = JSON.parse(\n",
       "        document.getElementById('jupyter-config-data').innerHTML\n",
       "    ).baseUrl.slice(0, -1);\n",
       "}\n",
       "url = baseURL + url;\n",
       "fetch(url).then(function(res) {\n",
       "    if (res.status === 404) {\n",
       "        div.innerHTML = 'Install QIIME 2 Jupyter extension with:<br />' +\n",
       "                        '<code>jupyter serverextension enable --py qiime2' +\n",
       "                        ' --sys-prefix</code><br />then restart your server.' +\n",
       "                        '<br /><br />(Interactive output not available on ' +\n",
       "                        'static notebook viewer services like nbviewer.)';\n",
       "    } else if (res.status === 409) {\n",
       "        div.innerHTML = 'Visualization no longer in scope. Re-run this cell' +\n",
       "                        ' to see the visualization.';\n",
       "    } else if (res.ok) {\n",
       "        url = res.url;\n",
       "        div.innerHTML = '<iframe src=\\'' + url + '\\' style=\\'' +\n",
       "                        'width: 100%; height: 700px; border: 0;\\'>' +\n",
       "                        '</iframe><hr />Open in a: <a href=\\'' + url + '\\'' +\n",
       "                        ' target=\\'_blank\\'>new window</a>'\n",
       "    } else {\n",
       "        div.innerHTML = 'Something has gone wrong. Check notebook server for' +\n",
       "                        ' errors.';\n",
       "    }\n",
       "});\n",
       "})(this.parentElement, '/qiime2/redirect?location=/tmp/qiime2/stanja/data/03d37f8b-cf84-40c7-8693-8140b1a2efa8')\" src=\"data:image/gif;base64,R0lGODlhAQABAIAAAP///wAAACH5BAEAAAAALAAAAAABAAEAAAICRAEAOw==\" /></div>"
      ],
      "text/plain": [
       "<visualization: Visualization uuid: 03d37f8b-cf84-40c7-8693-8140b1a2efa8>"
      ]
     },
     "execution_count": 29,
     "metadata": {},
     "output_type": "execute_result"
    }
   ],
   "source": [
    "Visualization.load('../output/blank-mock/diversity-core-bm/weighted_unifrac_emperor.qzv')"
   ]
  },
  {
   "cell_type": "markdown",
   "id": "0357d9bf-f4f1-4faa-bb8a-7ad5619594bf",
   "metadata": {},
   "source": [
    "### Jaccard Emperor PLot"
   ]
  },
  {
   "cell_type": "code",
   "execution_count": 31,
   "id": "63e8e0ff-c3a0-4b07-a988-fd9b8e575e01",
   "metadata": {},
   "outputs": [
    {
     "data": {
      "text/html": [
       "<div><img onload=\"(function(div, url){\n",
       "if (typeof require !== 'undefined') {\n",
       "    var baseURL = require.toUrl('').split('/').slice(0, -2).join('/');\n",
       "} else {\n",
       "    var baseURL = JSON.parse(\n",
       "        document.getElementById('jupyter-config-data').innerHTML\n",
       "    ).baseUrl.slice(0, -1);\n",
       "}\n",
       "url = baseURL + url;\n",
       "fetch(url).then(function(res) {\n",
       "    if (res.status === 404) {\n",
       "        div.innerHTML = 'Install QIIME 2 Jupyter extension with:<br />' +\n",
       "                        '<code>jupyter serverextension enable --py qiime2' +\n",
       "                        ' --sys-prefix</code><br />then restart your server.' +\n",
       "                        '<br /><br />(Interactive output not available on ' +\n",
       "                        'static notebook viewer services like nbviewer.)';\n",
       "    } else if (res.status === 409) {\n",
       "        div.innerHTML = 'Visualization no longer in scope. Re-run this cell' +\n",
       "                        ' to see the visualization.';\n",
       "    } else if (res.ok) {\n",
       "        url = res.url;\n",
       "        div.innerHTML = '<iframe src=\\'' + url + '\\' style=\\'' +\n",
       "                        'width: 100%; height: 700px; border: 0;\\'>' +\n",
       "                        '</iframe><hr />Open in a: <a href=\\'' + url + '\\'' +\n",
       "                        ' target=\\'_blank\\'>new window</a>'\n",
       "    } else {\n",
       "        div.innerHTML = 'Something has gone wrong. Check notebook server for' +\n",
       "                        ' errors.';\n",
       "    }\n",
       "});\n",
       "})(this.parentElement, '/qiime2/redirect?location=/tmp/qiime2/stanja/data/fc5d2682-c523-4547-8183-b4c7119e78da')\" src=\"data:image/gif;base64,R0lGODlhAQABAIAAAP///wAAACH5BAEAAAAALAAAAAABAAEAAAICRAEAOw==\" /></div>"
      ],
      "text/plain": [
       "<visualization: Visualization uuid: fc5d2682-c523-4547-8183-b4c7119e78da>"
      ]
     },
     "execution_count": 31,
     "metadata": {},
     "output_type": "execute_result"
    }
   ],
   "source": [
    "Visualization.load('../output/blank-mock/diversity-core-bm/jaccard_emperor.qzv')"
   ]
  },
  {
   "cell_type": "markdown",
   "id": "8b058c8f-61d7-484e-b8da-0e9762585797",
   "metadata": {},
   "source": [
    "### Bray-Curtis Emperor Plot"
   ]
  },
  {
   "cell_type": "code",
   "execution_count": 30,
   "id": "b4189304-2ab5-4d2f-a97e-fa7b76e62133",
   "metadata": {},
   "outputs": [
    {
     "data": {
      "text/html": [
       "<div><img onload=\"(function(div, url){\n",
       "if (typeof require !== 'undefined') {\n",
       "    var baseURL = require.toUrl('').split('/').slice(0, -2).join('/');\n",
       "} else {\n",
       "    var baseURL = JSON.parse(\n",
       "        document.getElementById('jupyter-config-data').innerHTML\n",
       "    ).baseUrl.slice(0, -1);\n",
       "}\n",
       "url = baseURL + url;\n",
       "fetch(url).then(function(res) {\n",
       "    if (res.status === 404) {\n",
       "        div.innerHTML = 'Install QIIME 2 Jupyter extension with:<br />' +\n",
       "                        '<code>jupyter serverextension enable --py qiime2' +\n",
       "                        ' --sys-prefix</code><br />then restart your server.' +\n",
       "                        '<br /><br />(Interactive output not available on ' +\n",
       "                        'static notebook viewer services like nbviewer.)';\n",
       "    } else if (res.status === 409) {\n",
       "        div.innerHTML = 'Visualization no longer in scope. Re-run this cell' +\n",
       "                        ' to see the visualization.';\n",
       "    } else if (res.ok) {\n",
       "        url = res.url;\n",
       "        div.innerHTML = '<iframe src=\\'' + url + '\\' style=\\'' +\n",
       "                        'width: 100%; height: 700px; border: 0;\\'>' +\n",
       "                        '</iframe><hr />Open in a: <a href=\\'' + url + '\\'' +\n",
       "                        ' target=\\'_blank\\'>new window</a>'\n",
       "    } else {\n",
       "        div.innerHTML = 'Something has gone wrong. Check notebook server for' +\n",
       "                        ' errors.';\n",
       "    }\n",
       "});\n",
       "})(this.parentElement, '/qiime2/redirect?location=/tmp/qiime2/stanja/data/6877eff0-1940-4ef5-83f0-8210c95a624a')\" src=\"data:image/gif;base64,R0lGODlhAQABAIAAAP///wAAACH5BAEAAAAALAAAAAABAAEAAAICRAEAOw==\" /></div>"
      ],
      "text/plain": [
       "<visualization: Visualization uuid: 6877eff0-1940-4ef5-83f0-8210c95a624a>"
      ]
     },
     "execution_count": 30,
     "metadata": {},
     "output_type": "execute_result"
    }
   ],
   "source": [
    "Visualization.load('../output/blank-mock/diversity-core-bm/bray_curtis_emperor.qzv')"
   ]
  },
  {
   "cell_type": "markdown",
   "id": "a9efb697-fce3-4975-b3de-335c3ea58ad3",
   "metadata": {},
   "source": [
    "## Alpha Diversity\n",
    "After computing diversity metrics, we can begin to explore the microbial composition of the samples in the context of the sample metadata. This information is present in the sample metadata file `../rawdata/sample-metadata-verbose.tsv`.\n",
    "\n",
    "We’ll first test for associations between categorical metadata columns and alpha diversity data.\n",
    "We’ll do that here for the Faith Phylogenetic Diversity (a measure of community richness):"
   ]
  },
  {
   "cell_type": "code",
   "execution_count": 32,
   "id": "5c8f12df-534f-42d8-8f76-f3da4ae26a5f",
   "metadata": {},
   "outputs": [
    {
     "name": "stdout",
     "output_type": "stream",
     "text": [
      "\u001b[32mSaved Visualization to: ../output/blank-mock/faith-pd-group-significance-bm.qzv\u001b[0m\n",
      "\u001b[0m"
     ]
    }
   ],
   "source": [
    "!qiime diversity alpha-group-significance \\\n",
    "  --i-alpha-diversity ../output/blank-mock/diversity-core-bm/faith_pd_vector.qza \\\n",
    "  --m-metadata-file ../rawdata/sample-metadata-verbose.tsv \\\n",
    "  --o-visualization ../output/blank-mock/faith-pd-group-significance-bm.qzv"
   ]
  },
  {
   "cell_type": "markdown",
   "id": "168c44ad-7d48-4f0e-a3ac-08403dc7a5fb",
   "metadata": {},
   "source": [
    "### Microbial Community Richness: Faith Phylogenetic Diversity\n",
    "\n",
    "##### \n",
    "Which categorical sample metadata columns are most strongly associated with the differences in microbial community richness\n",
    "Temperature Treatment\n",
    "\n",
    "##### Are these differences statistically significat?n\n",
    "\n",
    "Pae\n",
    "- no significantly different groups\n",
    "\n",
    "Temp\n",
    "- ambient (n=12) vs. hot (n=8), pvalue (0.02)\n",
    "  \n",
    "PaeTemp\n",
    "- peak-ambient (n=4) vs. peak-hot (n=4), pvalue (0.04)\n",
    "- env-ambient (n=4) vs. peak-hot (n=4), pvalue (0.04)\n",
    "\n",
    "Colony\n",
    "- no significantly different groups\n",
    "\n",
    "Tank\n",
    "- H1 (n=5) vs KB (n=4), pvalue (0.05)\n",
    "- A2 (n=4) vs H1 (n=5), pvalue (0.05)t?"
   ]
  },
  {
   "cell_type": "code",
   "execution_count": 33,
   "id": "32516708-6dc9-4b33-b03a-191f626fcc1a",
   "metadata": {},
   "outputs": [
    {
     "data": {
      "text/html": [
       "<div><img onload=\"(function(div, url){\n",
       "if (typeof require !== 'undefined') {\n",
       "    var baseURL = require.toUrl('').split('/').slice(0, -2).join('/');\n",
       "} else {\n",
       "    var baseURL = JSON.parse(\n",
       "        document.getElementById('jupyter-config-data').innerHTML\n",
       "    ).baseUrl.slice(0, -1);\n",
       "}\n",
       "url = baseURL + url;\n",
       "fetch(url).then(function(res) {\n",
       "    if (res.status === 404) {\n",
       "        div.innerHTML = 'Install QIIME 2 Jupyter extension with:<br />' +\n",
       "                        '<code>jupyter serverextension enable --py qiime2' +\n",
       "                        ' --sys-prefix</code><br />then restart your server.' +\n",
       "                        '<br /><br />(Interactive output not available on ' +\n",
       "                        'static notebook viewer services like nbviewer.)';\n",
       "    } else if (res.status === 409) {\n",
       "        div.innerHTML = 'Visualization no longer in scope. Re-run this cell' +\n",
       "                        ' to see the visualization.';\n",
       "    } else if (res.ok) {\n",
       "        url = res.url;\n",
       "        div.innerHTML = '<iframe src=\\'' + url + '\\' style=\\'' +\n",
       "                        'width: 100%; height: 700px; border: 0;\\'>' +\n",
       "                        '</iframe><hr />Open in a: <a href=\\'' + url + '\\'' +\n",
       "                        ' target=\\'_blank\\'>new window</a>'\n",
       "    } else {\n",
       "        div.innerHTML = 'Something has gone wrong. Check notebook server for' +\n",
       "                        ' errors.';\n",
       "    }\n",
       "});\n",
       "})(this.parentElement, '/qiime2/redirect?location=/tmp/qiime2/stanja/data/3f1b74b4-3d27-4399-abb6-10a947f7631d')\" src=\"data:image/gif;base64,R0lGODlhAQABAIAAAP///wAAACH5BAEAAAAALAAAAAABAAEAAAICRAEAOw==\" /></div>"
      ],
      "text/plain": [
       "<visualization: Visualization uuid: 3f1b74b4-3d27-4399-abb6-10a947f7631d>"
      ]
     },
     "execution_count": 33,
     "metadata": {},
     "output_type": "execute_result"
    }
   ],
   "source": [
    "Visualization.load('../output/blank-mock/faith-pd-group-significance-bm.qzv')"
   ]
  },
  {
   "cell_type": "code",
   "execution_count": 34,
   "id": "ac5668b3-56d1-424e-bbef-a86e9ab1d74d",
   "metadata": {},
   "outputs": [
    {
     "name": "stdout",
     "output_type": "stream",
     "text": [
      "\u001b[32mSaved Visualization to: ../output/blank-mock/evenness-group-significance-bm.qzv\u001b[0m\n",
      "\u001b[0m"
     ]
    }
   ],
   "source": [
    "!qiime diversity alpha-group-significance \\\n",
    "  --i-alpha-diversity ../output/blank-mock/diversity-core-bm/evenness_vector.qza \\\n",
    "  --m-metadata-file ../rawdata/sample-metadata-verbose.tsv \\\n",
    "  --o-visualization ../output/blank-mock/evenness-group-significance-bm.qzv"
   ]
  },
  {
   "cell_type": "markdown",
   "id": "db976acf-ffef-4590-888d-a5b296e7e652",
   "metadata": {},
   "source": [
    "### Microbial Community Evenness, Alpha diversity , Pielou's Evenness\n",
    "\n",
    "##### Which categorical sample metadata columns are most strongly associated with the differences in microbial community evenness? \n",
    "Nearly everything but Colony.... \n",
    "Surprised by one Tank result: H1 vs H2, I wouldn't have expected those to be different.\n",
    "\n",
    "##### Are these differences statistically significant?\n",
    "Pae\n",
    "- control (n=8) vs peak (n=8), pvalue (0.05)\n",
    "- env (n=4) vs. peak (n=8), pvalue (0.006)\n",
    "\n",
    "Temp\n",
    "- ambient (n=12) vs hot (n=8), pvalue (0.02)\n",
    "\n",
    "PaeTemp\n",
    "- control-ambient (n=4) vs peak-ambient (n=4), pvalue (0.02)\n",
    "- control-ambient (n=4) vs peak-hot (n=4), pvalue (0.02)\n",
    "- env-ambient (n=4) vs peak-ambient (n=4), pvalue (0.02)\n",
    "- env-ambient (n=4) vs peak-hot (n=4), pvalue (0.02)\n",
    "  \n",
    "Colony\n",
    "- no significantly different groups\n",
    "\n",
    "Tank\n",
    "- A1 (n=4) vs H1 (n=5), pvalue (0.02)\n",
    "- A1 (n=4) vs KB (n=4), pvalue (0.04)\n",
    "- A2 (n=4) vs H1 (n=5), pvalue (0.02)\n",
    "- H1 (n=5) vs H2 (n=3), pvalue (0.05)\n",
    "- H1 (n=5) vs KB (n=4), pvalue (0.01)"
   ]
  },
  {
   "cell_type": "code",
   "execution_count": 35,
   "id": "f0de32ad-4d51-4bf4-b0fe-ce2431ebb386",
   "metadata": {},
   "outputs": [
    {
     "data": {
      "text/html": [
       "<div><img onload=\"(function(div, url){\n",
       "if (typeof require !== 'undefined') {\n",
       "    var baseURL = require.toUrl('').split('/').slice(0, -2).join('/');\n",
       "} else {\n",
       "    var baseURL = JSON.parse(\n",
       "        document.getElementById('jupyter-config-data').innerHTML\n",
       "    ).baseUrl.slice(0, -1);\n",
       "}\n",
       "url = baseURL + url;\n",
       "fetch(url).then(function(res) {\n",
       "    if (res.status === 404) {\n",
       "        div.innerHTML = 'Install QIIME 2 Jupyter extension with:<br />' +\n",
       "                        '<code>jupyter serverextension enable --py qiime2' +\n",
       "                        ' --sys-prefix</code><br />then restart your server.' +\n",
       "                        '<br /><br />(Interactive output not available on ' +\n",
       "                        'static notebook viewer services like nbviewer.)';\n",
       "    } else if (res.status === 409) {\n",
       "        div.innerHTML = 'Visualization no longer in scope. Re-run this cell' +\n",
       "                        ' to see the visualization.';\n",
       "    } else if (res.ok) {\n",
       "        url = res.url;\n",
       "        div.innerHTML = '<iframe src=\\'' + url + '\\' style=\\'' +\n",
       "                        'width: 100%; height: 700px; border: 0;\\'>' +\n",
       "                        '</iframe><hr />Open in a: <a href=\\'' + url + '\\'' +\n",
       "                        ' target=\\'_blank\\'>new window</a>'\n",
       "    } else {\n",
       "        div.innerHTML = 'Something has gone wrong. Check notebook server for' +\n",
       "                        ' errors.';\n",
       "    }\n",
       "});\n",
       "})(this.parentElement, '/qiime2/redirect?location=/tmp/qiime2/stanja/data/9be2acf0-4c8d-418e-9248-73a750bbf39a')\" src=\"data:image/gif;base64,R0lGODlhAQABAIAAAP///wAAACH5BAEAAAAALAAAAAABAAEAAAICRAEAOw==\" /></div>"
      ],
      "text/plain": [
       "<visualization: Visualization uuid: 9be2acf0-4c8d-418e-9248-73a750bbf39a>"
      ]
     },
     "execution_count": 35,
     "metadata": {},
     "output_type": "execute_result"
    }
   ],
   "source": [
    "Visualization.load('../output/blank-mock/evenness-group-significance-bm.qzv')"
   ]
  },
  {
   "cell_type": "markdown",
   "id": "4b30c70d-740c-4aa5-afcd-d4ce5e664ea7",
   "metadata": {},
   "source": [
    "## Beta Diversity (There is a problem with the metadata I can't figure out here)\n",
    "\n",
    "Next we’ll analyze sample composition in the context of categorical metadata using PERMANOVA (first described in Anderson (2001)) using the beta-group-significance command. The following commands will test whether distances between samples within a group, such as samples from the same body site (e.g., gut), are more similar to each other then they are to samples from the other groups (e.g., tongue, left palm, and right palm). If you call this command with the --p-pairwise parameter, as we’ll do here, it will also perform pairwise tests that will allow you to determine which specific pairs of groups (e.g., tongue and gut) differ from one another, if any. This command can be slow to run, especially when passing --p-pairwise, since it is based on permutation tests. So, unlike the previous commands, we’ll run beta-group-significance on specific columns of metadata that we’re interested in exploring, rather than all metadata columns to which it is applicable. Here we’ll apply this to our unweighted UniFrac distances, using two sample metadata columns, as follows."
   ]
  },
  {
   "cell_type": "code",
   "execution_count": 36,
   "id": "6e982dea-cc03-4a9e-98fc-3ce7d413d650",
   "metadata": {},
   "outputs": [
    {
     "name": "stdout",
     "output_type": "stream",
     "text": [
      "Usage: \u001b[94mqiime diversity beta-group-significance\u001b[0m [OPTIONS]\n",
      "\n",
      "  Determine whether groups of samples are significantly different from one\n",
      "  another using a permutation-based statistical test.\n",
      "\n",
      "\u001b[1mInputs\u001b[0m:\n",
      "  \u001b[94m\u001b[4m--i-distance-matrix\u001b[0m ARTIFACT\n",
      "    \u001b[32mDistanceMatrix\u001b[0m     Matrix of distances between pairs of samples.\n",
      "                                                                    \u001b[35m[required]\u001b[0m\n",
      "\u001b[1mParameters\u001b[0m:\n",
      "  \u001b[94m\u001b[4m--m-metadata-file\u001b[0m METADATA\n",
      "  \u001b[94m\u001b[4m--m-metadata-column\u001b[0m COLUMN  \u001b[32mMetadataColumn[Categorical]\u001b[0m\n",
      "                       Categorical sample metadata column.          \u001b[35m[required]\u001b[0m\n",
      "  \u001b[94m--p-method\u001b[0m TEXT \u001b[32mChoices('permanova', 'anosim', 'permdisp')\u001b[0m\n",
      "                       The group significance test to be applied.\n",
      "                                                        \u001b[35m[default: 'permanova']\u001b[0m\n",
      "  \u001b[94m--p-pairwise\u001b[0m / \u001b[94m--p-no-pairwise\u001b[0m\n",
      "                       Perform pairwise tests between all pairs of groups in\n",
      "                       addition to the test across all groups. This can be\n",
      "                       very slow if there are a lot of groups in the metadata\n",
      "                       column.                                \u001b[35m[default: False]\u001b[0m\n",
      "  \u001b[94m--p-permutations\u001b[0m INTEGER\n",
      "                       The number of permutations to be run when computing\n",
      "                       p-values.                                \u001b[35m[default: 999]\u001b[0m\n",
      "\u001b[1mOutputs\u001b[0m:\n",
      "  \u001b[94m\u001b[4m--o-visualization\u001b[0m VISUALIZATION\n",
      "                                                                    \u001b[35m[required]\u001b[0m\n",
      "\u001b[1mMiscellaneous\u001b[0m:\n",
      "  \u001b[94m--output-dir\u001b[0m PATH    Output unspecified results to a directory\n",
      "  \u001b[94m--verbose\u001b[0m / \u001b[94m--quiet\u001b[0m  Display verbose output to stdout and/or stderr during\n",
      "                       execution of this action. Or silence output if\n",
      "                       execution is successful (silence is golden).\n",
      "  \u001b[94m--example-data\u001b[0m PATH  Write example data and exit.\n",
      "  \u001b[94m--citations\u001b[0m          Show citations and exit.\n",
      "  \u001b[94m--help\u001b[0m               Show this message and exit.\n",
      "\n",
      "\u001b[33m                    There was a problem with the command:                     \u001b[0m\n",
      "\u001b[31m\u001b[1m (1/1) Missing option '--m-metadata-file'.\u001b[0m\n",
      "\u001b[0mUsage: \u001b[94mqiime diversity beta-group-significance\u001b[0m [OPTIONS]\n",
      "\n",
      "  Determine whether groups of samples are significantly different from one\n",
      "  another using a permutation-based statistical test.\n",
      "\n",
      "\u001b[1mInputs\u001b[0m:\n",
      "  \u001b[94m\u001b[4m--i-distance-matrix\u001b[0m ARTIFACT\n",
      "    \u001b[32mDistanceMatrix\u001b[0m     Matrix of distances between pairs of samples.\n",
      "                                                                    \u001b[35m[required]\u001b[0m\n",
      "\u001b[1mParameters\u001b[0m:\n",
      "  \u001b[94m\u001b[4m--m-metadata-file\u001b[0m METADATA\n",
      "  \u001b[94m\u001b[4m--m-metadata-column\u001b[0m COLUMN  \u001b[32mMetadataColumn[Categorical]\u001b[0m\n",
      "                       Categorical sample metadata column.          \u001b[35m[required]\u001b[0m\n",
      "  \u001b[94m--p-method\u001b[0m TEXT \u001b[32mChoices('permanova', 'anosim', 'permdisp')\u001b[0m\n",
      "                       The group significance test to be applied.\n",
      "                                                        \u001b[35m[default: 'permanova']\u001b[0m\n",
      "  \u001b[94m--p-pairwise\u001b[0m / \u001b[94m--p-no-pairwise\u001b[0m\n",
      "                       Perform pairwise tests between all pairs of groups in\n",
      "                       addition to the test across all groups. This can be\n",
      "                       very slow if there are a lot of groups in the metadata\n",
      "                       column.                                \u001b[35m[default: False]\u001b[0m\n",
      "  \u001b[94m--p-permutations\u001b[0m INTEGER\n",
      "                       The number of permutations to be run when computing\n",
      "                       p-values.                                \u001b[35m[default: 999]\u001b[0m\n",
      "\u001b[1mOutputs\u001b[0m:\n",
      "  \u001b[94m\u001b[4m--o-visualization\u001b[0m VISUALIZATION\n",
      "                                                                    \u001b[35m[required]\u001b[0m\n",
      "\u001b[1mMiscellaneous\u001b[0m:\n",
      "  \u001b[94m--output-dir\u001b[0m PATH    Output unspecified results to a directory\n",
      "  \u001b[94m--verbose\u001b[0m / \u001b[94m--quiet\u001b[0m  Display verbose output to stdout and/or stderr during\n",
      "                       execution of this action. Or silence output if\n",
      "                       execution is successful (silence is golden).\n",
      "  \u001b[94m--example-data\u001b[0m PATH  Write example data and exit.\n",
      "  \u001b[94m--citations\u001b[0m          Show citations and exit.\n",
      "  \u001b[94m--help\u001b[0m               Show this message and exit.\n",
      "\n",
      "\u001b[33m                  There were some problems with the command:                  \u001b[0m\n",
      "\u001b[31m\u001b[1m (1/2) Invalid value for '--i-distance-matrix': ../output/blank-mock/iversity-\n",
      "  core-bm/unweighted_unifrac_distance_matrix.qza does not exist.\u001b[0m\n",
      "\u001b[31m\u001b[1m (2/2) Missing option '--m-metadata-file'.\u001b[0m\n",
      "\u001b[0m"
     ]
    }
   ],
   "source": [
    "!qiime diversity beta-group-significance \\\n",
    "  --i-distance-matrix ../output/blank-mock/diversity-core-bm/unweighted_unifrac_distance_matrix.qza \\\n",
    "  --m-metadata-file ../rawdata/sample-metadata-slim.tsv \\\n",
    "  --o-visualization ../output/blank-mock/diversity-core-bm/unweighted-unifrac-body-site-significance.qzv \\\n",
    "  --p-pairwise\n",
    "\n",
    "!qiime diversity beta-group-significance \\\n",
    "  --i-distance-matrix ../output/blank-mock/iversity-core-bm/unweighted_unifrac_distance_matrix.qza \\\n",
    "  --m-metadata-file ../rawdata/sample-metadata-slim.tsv \\\n",
    "  --o-visualization ../output/blank-mock/diversity-core-bm/unweighted-unifrac-body-site-significance.qzv \\\n",
    "  --p-pairwise"
   ]
  },
  {
   "cell_type": "markdown",
   "id": "dcf641ab-9b98-44b8-bac2-37105d8d46a2",
   "metadata": {},
   "source": [
    "## [Atacama Soil Microbiome: Questions to Guide Data Analysis](https://docs.qiime2.org/2023.5/tutorials/atacama-soils/#paired-end-read-analysis-commands:~:text=Questions%20to%20guide%20data%20analysis)\n",
    "What sample metadata or combinations of sample metadata are most strongly associated with the differences in microbial composition of the samples? Are these associations stronger with unweighted UniFrac or with Bray-Curtis? Based on what you know about these metrics, what does that difference suggest? For exploring associations between continuous metadata and sample composition, the commands qiime metadata distance-matrix in combination with qiime diversity mantel and qiime diversity bioenv will be useful. These were not covered in the Moving Pictures tutorial, but you can learn about them by running them with the `--help` parameter."
   ]
  },
  {
   "cell_type": "markdown",
   "id": "19ea1e1a-a0f0-429f-b595-217f6b62b430",
   "metadata": {},
   "source": [
    "## Alpha rarefaction plotting\n",
    "In this section we’ll explore alpha diversity as a function of sampling depth using the qiime diversity alpha-rarefaction visualizer. This visualizer computes one or more alpha diversity metrics at multiple sampling depths, in steps between 1 (optionally controlled with --p-min-depth) and the value provided as --p-max-depth. At each sampling depth step, 10 rarefied tables will be generated, and the diversity metrics will be computed for all samples in the tables. The number of iterations (rarefied tables computed at each sampling depth) can be controlled with --p-iterations. Average diversity values will be plotted for each sample at each even sampling depth, and samples can be grouped based on metadata in the resulting visualization if sample metadata is provided with the --m-metadata-file parameter.\n",
    "\n",
    "The value that you provide for --p-max-depth should be determined by reviewing the “Frequency per sample” information presented in the table.qzv file that was created above. In general, choosing a value that is somewhere around the median frequency seems to work well, but you may want to increase that value if the lines in the resulting rarefaction plot don’t appear to be leveling out, or decrease that value if you seem to be losing many of your samples due to low total frequencies closer to the minimum sampling depth than the maximum sampling depth."
   ]
  },
  {
   "cell_type": "code",
   "execution_count": 38,
   "id": "8c6770bc-2176-49ac-87f3-aafeca5e4523",
   "metadata": {},
   "outputs": [
    {
     "name": "stdout",
     "output_type": "stream",
     "text": [
      "\u001b[32mSaved Visualization to: ../output/blank-mock/alpha-rarefaction-bm.qzv\u001b[0m\n",
      "\u001b[0m"
     ]
    }
   ],
   "source": [
    "!qiime diversity alpha-rarefaction \\\n",
    "  --i-table ../output/blank-mock/table-bm.qza \\\n",
    "  --i-phylogeny ../output/blank-mock/phylogeny-tree-bm/rooted_tree.qza \\\n",
    "  --p-max-depth 104183 \\\n",
    "  --m-metadata-file ../rawdata/sample-metadata-verbose.tsv \\\n",
    "  --o-visualization ../output/blank-mock/alpha-rarefaction-bm.qzv"
   ]
  },
  {
   "cell_type": "code",
   "execution_count": 39,
   "id": "8e18e211-8ee5-444e-80ad-93ecdc9ed152",
   "metadata": {},
   "outputs": [
    {
     "data": {
      "text/html": [
       "<div><img onload=\"(function(div, url){\n",
       "if (typeof require !== 'undefined') {\n",
       "    var baseURL = require.toUrl('').split('/').slice(0, -2).join('/');\n",
       "} else {\n",
       "    var baseURL = JSON.parse(\n",
       "        document.getElementById('jupyter-config-data').innerHTML\n",
       "    ).baseUrl.slice(0, -1);\n",
       "}\n",
       "url = baseURL + url;\n",
       "fetch(url).then(function(res) {\n",
       "    if (res.status === 404) {\n",
       "        div.innerHTML = 'Install QIIME 2 Jupyter extension with:<br />' +\n",
       "                        '<code>jupyter serverextension enable --py qiime2' +\n",
       "                        ' --sys-prefix</code><br />then restart your server.' +\n",
       "                        '<br /><br />(Interactive output not available on ' +\n",
       "                        'static notebook viewer services like nbviewer.)';\n",
       "    } else if (res.status === 409) {\n",
       "        div.innerHTML = 'Visualization no longer in scope. Re-run this cell' +\n",
       "                        ' to see the visualization.';\n",
       "    } else if (res.ok) {\n",
       "        url = res.url;\n",
       "        div.innerHTML = '<iframe src=\\'' + url + '\\' style=\\'' +\n",
       "                        'width: 100%; height: 700px; border: 0;\\'>' +\n",
       "                        '</iframe><hr />Open in a: <a href=\\'' + url + '\\'' +\n",
       "                        ' target=\\'_blank\\'>new window</a>'\n",
       "    } else {\n",
       "        div.innerHTML = 'Something has gone wrong. Check notebook server for' +\n",
       "                        ' errors.';\n",
       "    }\n",
       "});\n",
       "})(this.parentElement, '/qiime2/redirect?location=/tmp/qiime2/stanja/data/10bb300b-3e9b-43c9-b30c-76db405d1af8')\" src=\"data:image/gif;base64,R0lGODlhAQABAIAAAP///wAAACH5BAEAAAAALAAAAAABAAEAAAICRAEAOw==\" /></div>"
      ],
      "text/plain": [
       "<visualization: Visualization uuid: 10bb300b-3e9b-43c9-b30c-76db405d1af8>"
      ]
     },
     "execution_count": 39,
     "metadata": {},
     "output_type": "execute_result"
    }
   ],
   "source": [
    "Visualization.load('../output/blank-mock/alpha-rarefaction-bm.qzv')"
   ]
  },
  {
   "cell_type": "markdown",
   "id": "8499c73f-285d-4cfe-95dc-2674df11d450",
   "metadata": {},
   "source": [
    "## [Taxonomic Analysis](https://docs.qiime2.org/2023.5/tutorials/moving-pictures-usage/#taxonomic-analysis:~:text=and%20bottom%20plots.)\n",
    "\n",
    "In the next sections we’ll begin to explore the taxonomic composition of the samples, and again relate that to sample metadata. The first step in this process is to assign taxonomy to the sequences in our FeatureData[Sequence] QIIME 2 artifact. We’ll do that using a pre-trained Naive Bayes classifier and the q2-feature-classifier plugin. This classifier was trained on the Greengenes 13_8 99% OTUs, where the sequences have been trimmed to only include 250 bases from the region of the 16S that was sequenced in this analysis (the V4 region, bound by the 515F/806R primer pair). We’ll apply this classifier to our sequences, and we can generate a visualization of the resulting mapping from sequence to taxonomy.\n",
    "\n",
    "Taxonomic classifiers perform best when they are trained based on your specific sample preparation and sequencing parameters, including the primers that were used for amplification and the length of your sequence reads. Therefore in general you should follow the instructions in Training feature classifiers with q2-feature-classifier to train your own taxonomic classifiers. We provide some common classifiers on our data resources page, including Silva-based 16S classifiers, though in the future we may stop providing these in favor of having users train their own classifiers which will be most relevant to their sequence data."
   ]
  },
  {
   "cell_type": "code",
   "execution_count": 47,
   "id": "6e3bf65e-4c98-4048-ac79-087af01ef765",
   "metadata": {},
   "outputs": [
    {
     "name": "stdout",
     "output_type": "stream",
     "text": [
      "--2023-08-16 12:05:51--  https://docs.qiime2.org/2021.11/data/tutorials/moving-pictures-usage/gg-13-8-99-515-806-nb-classifier.qza\n",
      "Resolving docs.qiime2.org (docs.qiime2.org)... 104.21.84.49, 172.67.186.144, 2606:4700:3035::ac43:ba90, ...\n",
      "Connecting to docs.qiime2.org (docs.qiime2.org)|104.21.84.49|:443... connected.\n",
      "HTTP request sent, awaiting response... 200 OK\n",
      "Length: 28289645 (27M) [application/octet-stream]\n",
      "Saving to: ‘gg-13-8-99-515-806-nb-classifier.qza’\n",
      "\n",
      "gg-13-8-99-515-806- 100%[===================>]  26.98M  96.0MB/s    in 0.3s    \n",
      "\n",
      "2023-08-16 12:05:51 (96.0 MB/s) - ‘gg-13-8-99-515-806-nb-classifier.qza’ saved [28289645/28289645]\n",
      "\n"
     ]
    }
   ],
   "source": [
    "!cd ../output/blank-mock/taxonomy ; wget \\\n",
    "  -O 'gg-13-8-99-515-806-nb-classifier.qza' \\\n",
    "  'https://docs.qiime2.org/2021.11/data/tutorials/moving-pictures-usage/gg-13-8-99-515-806-nb-classifier.qza'"
   ]
  },
  {
   "cell_type": "code",
   "execution_count": 48,
   "id": "045153c4-71f2-4926-b7e8-a9e49e61ef0c",
   "metadata": {},
   "outputs": [
    {
     "name": "stdout",
     "output_type": "stream",
     "text": [
      "\u001b[32mSaved FeatureData[Taxonomy] to: ../output/blank-mock/taxonomy-bm.qza\u001b[0m\n",
      "\u001b[0m\u001b[32mSaved Visualization to: ../output/blank-mock/taxonomy-bm.qzv\u001b[0m\n",
      "\u001b[0m"
     ]
    }
   ],
   "source": [
    "!qiime feature-classifier classify-sklearn \\\n",
    "  --i-classifier ../output/blank-mock/taxonomy/gg-13-8-99-515-806-nb-classifier.qza \\\n",
    "  --i-reads ../output/blank-mock/rep-seqs-bm.qza \\\n",
    "  --o-classification ../output/blank-mock/taxonomy-bm.qza\n",
    "!qiime metadata tabulate \\\n",
    "  --m-input-file ../output/blank-mock/taxonomy-bm.qza \\\n",
    "  --o-visualization ../output/blank-mock/taxonomy-bm.qzv"
   ]
  },
  {
   "cell_type": "code",
   "execution_count": 51,
   "id": "678b225c-29ce-4eeb-9d4b-4c28467432f0",
   "metadata": {},
   "outputs": [
    {
     "data": {
      "text/html": [
       "<div><img onload=\"(function(div, url){\n",
       "if (typeof require !== 'undefined') {\n",
       "    var baseURL = require.toUrl('').split('/').slice(0, -2).join('/');\n",
       "} else {\n",
       "    var baseURL = JSON.parse(\n",
       "        document.getElementById('jupyter-config-data').innerHTML\n",
       "    ).baseUrl.slice(0, -1);\n",
       "}\n",
       "url = baseURL + url;\n",
       "fetch(url).then(function(res) {\n",
       "    if (res.status === 404) {\n",
       "        div.innerHTML = 'Install QIIME 2 Jupyter extension with:<br />' +\n",
       "                        '<code>jupyter serverextension enable --py qiime2' +\n",
       "                        ' --sys-prefix</code><br />then restart your server.' +\n",
       "                        '<br /><br />(Interactive output not available on ' +\n",
       "                        'static notebook viewer services like nbviewer.)';\n",
       "    } else if (res.status === 409) {\n",
       "        div.innerHTML = 'Visualization no longer in scope. Re-run this cell' +\n",
       "                        ' to see the visualization.';\n",
       "    } else if (res.ok) {\n",
       "        url = res.url;\n",
       "        div.innerHTML = '<iframe src=\\'' + url + '\\' style=\\'' +\n",
       "                        'width: 100%; height: 700px; border: 0;\\'>' +\n",
       "                        '</iframe><hr />Open in a: <a href=\\'' + url + '\\'' +\n",
       "                        ' target=\\'_blank\\'>new window</a>'\n",
       "    } else {\n",
       "        div.innerHTML = 'Something has gone wrong. Check notebook server for' +\n",
       "                        ' errors.';\n",
       "    }\n",
       "});\n",
       "})(this.parentElement, '/qiime2/redirect?location=/tmp/qiime2/stanja/data/e368638a-9d1f-493d-b344-61fc1e849780')\" src=\"data:image/gif;base64,R0lGODlhAQABAIAAAP///wAAACH5BAEAAAAALAAAAAABAAEAAAICRAEAOw==\" /></div>"
      ],
      "text/plain": [
       "<visualization: Visualization uuid: e368638a-9d1f-493d-b344-61fc1e849780>"
      ]
     },
     "execution_count": 51,
     "metadata": {},
     "output_type": "execute_result"
    }
   ],
   "source": [
    "Visualization.load('../output/blank-mock/taxonomy-bm.qzv')"
   ]
  },
  {
   "cell_type": "code",
   "execution_count": 53,
   "id": "8c89fa78-5fdd-4396-bdea-1e9a8daad7ef",
   "metadata": {},
   "outputs": [
    {
     "name": "stdout",
     "output_type": "stream",
     "text": [
      "\u001b[32mSaved Visualization to: ../output/blank-mock/taxa-bar-plots-bm.qzv\u001b[0m\n",
      "\u001b[0m"
     ]
    }
   ],
   "source": [
    "!qiime taxa barplot \\\n",
    "  --i-table ../output/blank-mock/table-bm.qza \\\n",
    "  --i-taxonomy ../output/blank-mock/taxonomy-bm.qza \\\n",
    "  --m-metadata-file ../rawdata/sample-metadata-verbose.tsv \\\n",
    "  --o-visualization ../output/blank-mock/taxa-bar-plots-bm.qzv"
   ]
  },
  {
   "cell_type": "code",
   "execution_count": 55,
   "id": "2a50cfa1-743b-4089-9c57-1317886aa0f7",
   "metadata": {},
   "outputs": [
    {
     "data": {
      "text/html": [
       "<div><img onload=\"(function(div, url){\n",
       "if (typeof require !== 'undefined') {\n",
       "    var baseURL = require.toUrl('').split('/').slice(0, -2).join('/');\n",
       "} else {\n",
       "    var baseURL = JSON.parse(\n",
       "        document.getElementById('jupyter-config-data').innerHTML\n",
       "    ).baseUrl.slice(0, -1);\n",
       "}\n",
       "url = baseURL + url;\n",
       "fetch(url).then(function(res) {\n",
       "    if (res.status === 404) {\n",
       "        div.innerHTML = 'Install QIIME 2 Jupyter extension with:<br />' +\n",
       "                        '<code>jupyter serverextension enable --py qiime2' +\n",
       "                        ' --sys-prefix</code><br />then restart your server.' +\n",
       "                        '<br /><br />(Interactive output not available on ' +\n",
       "                        'static notebook viewer services like nbviewer.)';\n",
       "    } else if (res.status === 409) {\n",
       "        div.innerHTML = 'Visualization no longer in scope. Re-run this cell' +\n",
       "                        ' to see the visualization.';\n",
       "    } else if (res.ok) {\n",
       "        url = res.url;\n",
       "        div.innerHTML = '<iframe src=\\'' + url + '\\' style=\\'' +\n",
       "                        'width: 100%; height: 700px; border: 0;\\'>' +\n",
       "                        '</iframe><hr />Open in a: <a href=\\'' + url + '\\'' +\n",
       "                        ' target=\\'_blank\\'>new window</a>'\n",
       "    } else {\n",
       "        div.innerHTML = 'Something has gone wrong. Check notebook server for' +\n",
       "                        ' errors.';\n",
       "    }\n",
       "});\n",
       "})(this.parentElement, '/qiime2/redirect?location=/tmp/qiime2/stanja/data/583653c3-cb51-49d9-93fb-b9f80899096f')\" src=\"data:image/gif;base64,R0lGODlhAQABAIAAAP///wAAACH5BAEAAAAALAAAAAABAAEAAAICRAEAOw==\" /></div>"
      ],
      "text/plain": [
       "<visualization: Visualization uuid: 583653c3-cb51-49d9-93fb-b9f80899096f>"
      ]
     },
     "execution_count": 55,
     "metadata": {},
     "output_type": "execute_result"
    }
   ],
   "source": [
    "Visualization.load('../output/blank-mock/taxa-bar-plots-bm.qzv')"
   ]
  },
  {
   "cell_type": "markdown",
   "id": "ce1f10ba-54af-4e36-8d93-0f1195ca1e78",
   "metadata": {},
   "source": [
    "## [Differential Abundance Testing](https://docs.qiime2.org/2023.5/tutorials/moving-pictures-usage/#taxonomic-analysis:~:text=the%20later%20timepoints%3F-,Differential%20abundance%20testing,-with%20ANCOM%C2%B6)\n",
    "\n",
    "ANCOM can be applied to identify features that are differentially abundant (i.e. present in different abundances) across sample groups. As with any bioinformatics method, you should be aware of the assumptions and limitations of ANCOM before using it. We recommend reviewing the ANCOM paper before using this method.\n",
    "\n",
    "Differential abundance testing in microbiome analysis is an active area of research. There are two QIIME 2 plugins that can be used for this: q2-gneiss and q2-composition. This section uses q2-composition, but there is another tutorial which uses gneiss on a different dataset if you are interested in learning more.\n"
   ]
  },
  {
   "cell_type": "markdown",
   "id": "4a65a539-6ab8-46f7-88fb-6c46feb5d591",
   "metadata": {},
   "source": [
    "### ANCOM\n",
    "**Analysis of Composition of Microbiomes**\n",
    "ANCOM is implemented in the q2-composition plugin. ANCOM assumes that few (less than about 25%) of the features are changing between groups. If you expect that more features are changing between your groups, you should not use ANCOM as it will be more error-prone (an increase in both Type I and Type II errors is possible). \r\n",
    "Here I do not filter any samples and use everything so I can see what is in the mock and blank samples. So we'll use the full feature table located at `../output/blank-mock/table-bm.qza`\n",
    "\n",
    "ANCOM operates on a FeatureTable[Composition] QIIME 2 artifact, which is based on frequencies of features on a per-sample basis, but cannot tolerate frequencies of zero. To build the composition artifact, a FeatureTable[Frequency] artifact must be provided to add-pseudocount (an imputation method), which will produce the FeatureTable[Composition] artifact.)\n"
   ]
  },
  {
   "cell_type": "code",
   "execution_count": 56,
   "id": "e1d8fd9b-3865-4fac-8439-463fd23124ee",
   "metadata": {},
   "outputs": [
    {
     "name": "stdout",
     "output_type": "stream",
     "text": [
      "\u001b[32mSaved FeatureTable[Composition] to: ../output/blank-mock/comp-table-bm.qza\u001b[0m\n",
      "\u001b[0m"
     ]
    }
   ],
   "source": [
    "!qiime composition add-pseudocount \\\n",
    "  --i-table ../output/blank-mock/table-bm.qza \\\n",
    "  --o-composition-table ../output/blank-mock/comp-table-bm.qza"
   ]
  },
  {
   "cell_type": "markdown",
   "id": "d9145500-763c-4213-bb5c-18afb7aa8216",
   "metadata": {},
   "source": [
    "We can then run ANCOM on the `PaeTemp` column to determine what features differ in abundance across the coral samples of the treatments."
   ]
  },
  {
   "cell_type": "code",
   "execution_count": 58,
   "id": "cffcd7e2-f563-43ed-917b-11d38bde0728",
   "metadata": {},
   "outputs": [
    {
     "name": "stdout",
     "output_type": "stream",
     "text": [
      "\u001b[32mSaved Visualization to: ../output/blank-mock/ancom-paetemp-bm.qzv\u001b[0m\n",
      "\u001b[0m"
     ]
    }
   ],
   "source": [
    "!qiime composition ancom \\\n",
    "  --i-table ../output/blank-mock/comp-table-bm.qza \\\n",
    "  --m-metadata-file ../rawdata/sample-metadata-verbose.tsv \\\n",
    "  --m-metadata-column PaeTemp \\\n",
    "  --o-visualization ../output/blank-mock/ancom-paetemp-bm.qzv"
   ]
  },
  {
   "cell_type": "code",
   "execution_count": 3,
   "id": "f84eb84f-e667-4024-9d53-cd75bc7e2f50",
   "metadata": {},
   "outputs": [
    {
     "data": {
      "text/html": [
       "<div><img onload=\"(function(div, url){\n",
       "if (typeof require !== 'undefined') {\n",
       "    var baseURL = require.toUrl('').split('/').slice(0, -2).join('/');\n",
       "} else {\n",
       "    var baseURL = JSON.parse(\n",
       "        document.getElementById('jupyter-config-data').innerHTML\n",
       "    ).baseUrl.slice(0, -1);\n",
       "}\n",
       "url = baseURL + url;\n",
       "fetch(url).then(function(res) {\n",
       "    if (res.status === 404) {\n",
       "        div.innerHTML = 'Install QIIME 2 Jupyter extension with:<br />' +\n",
       "                        '<code>jupyter serverextension enable --py qiime2' +\n",
       "                        ' --sys-prefix</code><br />then restart your server.' +\n",
       "                        '<br /><br />(Interactive output not available on ' +\n",
       "                        'static notebook viewer services like nbviewer.)';\n",
       "    } else if (res.status === 409) {\n",
       "        div.innerHTML = 'Visualization no longer in scope. Re-run this cell' +\n",
       "                        ' to see the visualization.';\n",
       "    } else if (res.ok) {\n",
       "        url = res.url;\n",
       "        div.innerHTML = '<iframe src=\\'' + url + '\\' style=\\'' +\n",
       "                        'width: 100%; height: 700px; border: 0;\\'>' +\n",
       "                        '</iframe><hr />Open in a: <a href=\\'' + url + '\\'' +\n",
       "                        ' target=\\'_blank\\'>new window</a>'\n",
       "    } else {\n",
       "        div.innerHTML = 'Something has gone wrong. Check notebook server for' +\n",
       "                        ' errors.';\n",
       "    }\n",
       "});\n",
       "})(this.parentElement, '/qiime2/redirect?location=/tmp/qiime2/stanja/data/c59a2c0c-a88a-44d8-8b74-eae794316f6b')\" src=\"data:image/gif;base64,R0lGODlhAQABAIAAAP///wAAACH5BAEAAAAALAAAAAABAAEAAAICRAEAOw==\" /></div>"
      ],
      "text/plain": [
       "<visualization: Visualization uuid: c59a2c0c-a88a-44d8-8b74-eae794316f6b>"
      ]
     },
     "execution_count": 3,
     "metadata": {},
     "output_type": "execute_result"
    }
   ],
   "source": [
    "Visualization.load('../output/blank-mock/ancom-paetemp-bm.qzv')"
   ]
  },
  {
   "cell_type": "code",
   "execution_count": 4,
   "id": "c033cc01-d6ef-4886-93a4-591c4b214fe5",
   "metadata": {},
   "outputs": [
    {
     "name": "stdout",
     "output_type": "stream",
     "text": [
      "\u001b[32mSaved Visualization to: ../output/blank-mock/ancom-temp-bm.qzv\u001b[0m\n",
      "\u001b[0m"
     ]
    }
   ],
   "source": [
    "!qiime composition ancom \\\n",
    "  --i-table ../output/blank-mock/comp-table-bm.qza \\\n",
    "  --m-metadata-file ../rawdata/sample-metadata-verbose.tsv \\\n",
    "  --m-metadata-column Temp \\\n",
    "  --o-visualization ../output/blank-mock/ancom-temp-bm.qzv"
   ]
  },
  {
   "cell_type": "code",
   "execution_count": 4,
   "id": "4dfbbab9-fa63-4700-ab23-005f6a4c759e",
   "metadata": {},
   "outputs": [
    {
     "data": {
      "text/html": [
       "<div><img onload=\"(function(div, url){\n",
       "if (typeof require !== 'undefined') {\n",
       "    var baseURL = require.toUrl('').split('/').slice(0, -2).join('/');\n",
       "} else {\n",
       "    var baseURL = JSON.parse(\n",
       "        document.getElementById('jupyter-config-data').innerHTML\n",
       "    ).baseUrl.slice(0, -1);\n",
       "}\n",
       "url = baseURL + url;\n",
       "fetch(url).then(function(res) {\n",
       "    if (res.status === 404) {\n",
       "        div.innerHTML = 'Install QIIME 2 Jupyter extension with:<br />' +\n",
       "                        '<code>jupyter serverextension enable --py qiime2' +\n",
       "                        ' --sys-prefix</code><br />then restart your server.' +\n",
       "                        '<br /><br />(Interactive output not available on ' +\n",
       "                        'static notebook viewer services like nbviewer.)';\n",
       "    } else if (res.status === 409) {\n",
       "        div.innerHTML = 'Visualization no longer in scope. Re-run this cell' +\n",
       "                        ' to see the visualization.';\n",
       "    } else if (res.ok) {\n",
       "        url = res.url;\n",
       "        div.innerHTML = '<iframe src=\\'' + url + '\\' style=\\'' +\n",
       "                        'width: 100%; height: 700px; border: 0;\\'>' +\n",
       "                        '</iframe><hr />Open in a: <a href=\\'' + url + '\\'' +\n",
       "                        ' target=\\'_blank\\'>new window</a>'\n",
       "    } else {\n",
       "        div.innerHTML = 'Something has gone wrong. Check notebook server for' +\n",
       "                        ' errors.';\n",
       "    }\n",
       "});\n",
       "})(this.parentElement, '/qiime2/redirect?location=/tmp/qiime2/stanja/data/041071ba-bfb3-40a2-b4bf-9e4830a1df69')\" src=\"data:image/gif;base64,R0lGODlhAQABAIAAAP///wAAACH5BAEAAAAALAAAAAABAAEAAAICRAEAOw==\" /></div>"
      ],
      "text/plain": [
       "<visualization: Visualization uuid: 041071ba-bfb3-40a2-b4bf-9e4830a1df69>"
      ]
     },
     "execution_count": 4,
     "metadata": {},
     "output_type": "execute_result"
    }
   ],
   "source": [
    "Visualization.load('../output/blank-mock/ancom-temp-bm.qzv')"
   ]
  },
  {
   "cell_type": "markdown",
   "id": "a498b1bc-ea0b-40f1-981f-85631da88721",
   "metadata": {},
   "source": [
    "#### Taxonomy to Species (Level 7)\n",
    "\n",
    "We’re also often interested in performing a differential abundance test at a specific taxonomic level. To do this, we can collapse the features in our FeatureTable[Frequency] at the taxonomic level of interest, and then re-run the above steps. In this tutorial, we collapse our feature table at the genus level (i.e. level 6 of the Greengenes taxonomy).\n",
    "\n",
    "Level:\n",
    "   1. Kingdom\n",
    "   2. Phylum\n",
    "   3. Class\n",
    "   4. Order\n",
    "   5. Family\n",
    "   6. Genus\n",
    "   7. Species\n",
    "\n"
   ]
  },
  {
   "cell_type": "code",
   "execution_count": 7,
   "id": "6bb1ddd1-860a-4364-aaba-50aec4f95e98",
   "metadata": {},
   "outputs": [
    {
     "name": "stdout",
     "output_type": "stream",
     "text": [
      "\u001b[32mSaved FeatureTable[Frequency] to: ../output/blank-mock/table-bm-l7.qza\u001b[0m\n",
      "\u001b[0m\u001b[32mSaved FeatureTable[Composition] to: ../output/blank-mock/comp-table-bm-l7.qza\u001b[0m\n",
      "\u001b[0m\u001b[32mSaved Visualization to: ../output/blank-mock/ancom-temp-bm-l7.qzv\u001b[0m\n",
      "\u001b[0m"
     ]
    }
   ],
   "source": [
    "!qiime taxa collapse \\\n",
    "  --i-table ../output/blank-mock/table-bm.qza \\\n",
    "  --i-taxonomy ../output/blank-mock/taxonomy-bm.qza \\\n",
    "  --p-level 7 \\\n",
    "  --o-collapsed-table ../output/blank-mock/table-bm-l7.qza\n",
    "!qiime composition add-pseudocount \\\n",
    "  --i-table ../output/blank-mock/table-bm-l7.qza \\\n",
    "  --o-composition-table ../output/blank-mock/comp-table-bm-l7.qza\n",
    "!qiime composition ancom \\\n",
    "  --i-table ../output/blank-mock/comp-table-bm-l7.qza \\\n",
    "  --m-metadata-file ../rawdata/sample-metadata-verbose.tsv \\\n",
    "  --m-metadata-column Temp \\\n",
    "  --o-visualization ../output/blank-mock/ancom-temp-bm-l7.qzv"
   ]
  },
  {
   "cell_type": "code",
   "execution_count": 5,
   "id": "cc6ce6e4-75d0-453e-9181-bfa850eb768e",
   "metadata": {},
   "outputs": [
    {
     "data": {
      "text/html": [
       "<div><img onload=\"(function(div, url){\n",
       "if (typeof require !== 'undefined') {\n",
       "    var baseURL = require.toUrl('').split('/').slice(0, -2).join('/');\n",
       "} else {\n",
       "    var baseURL = JSON.parse(\n",
       "        document.getElementById('jupyter-config-data').innerHTML\n",
       "    ).baseUrl.slice(0, -1);\n",
       "}\n",
       "url = baseURL + url;\n",
       "fetch(url).then(function(res) {\n",
       "    if (res.status === 404) {\n",
       "        div.innerHTML = 'Install QIIME 2 Jupyter extension with:<br />' +\n",
       "                        '<code>jupyter serverextension enable --py qiime2' +\n",
       "                        ' --sys-prefix</code><br />then restart your server.' +\n",
       "                        '<br /><br />(Interactive output not available on ' +\n",
       "                        'static notebook viewer services like nbviewer.)';\n",
       "    } else if (res.status === 409) {\n",
       "        div.innerHTML = 'Visualization no longer in scope. Re-run this cell' +\n",
       "                        ' to see the visualization.';\n",
       "    } else if (res.ok) {\n",
       "        url = res.url;\n",
       "        div.innerHTML = '<iframe src=\\'' + url + '\\' style=\\'' +\n",
       "                        'width: 100%; height: 700px; border: 0;\\'>' +\n",
       "                        '</iframe><hr />Open in a: <a href=\\'' + url + '\\'' +\n",
       "                        ' target=\\'_blank\\'>new window</a>'\n",
       "    } else {\n",
       "        div.innerHTML = 'Something has gone wrong. Check notebook server for' +\n",
       "                        ' errors.';\n",
       "    }\n",
       "});\n",
       "})(this.parentElement, '/qiime2/redirect?location=/tmp/qiime2/stanja/data/489771ad-fa30-4667-a44e-a2d8cbf8a860')\" src=\"data:image/gif;base64,R0lGODlhAQABAIAAAP///wAAACH5BAEAAAAALAAAAAABAAEAAAICRAEAOw==\" /></div>"
      ],
      "text/plain": [
       "<visualization: Visualization uuid: 489771ad-fa30-4667-a44e-a2d8cbf8a860>"
      ]
     },
     "execution_count": 5,
     "metadata": {},
     "output_type": "execute_result"
    }
   ],
   "source": [
    "Visualization.load('../output/blank-mock/ancom-temp-bm-l7.qzv')"
   ]
  },
  {
   "cell_type": "markdown",
   "id": "05f3ae79-fa38-4090-be58-e1eb8a6e6a7b",
   "metadata": {},
   "source": [
    "### [Gneiss](https://docs.qiime2.org/2023.5/tutorials/gneiss/#:~:text=Differential%20abundance%20analysis%20with%20gneiss,-%C2%B6)\n",
    "\n",
    "In this tutorial you will learn how to perform differential abundance analysis using balances in gneiss. The main problem that we will focus on is how to identify differentially abundant taxa in a compositionally coherent way.\r\n",
    "\r\n",
    "Compositionality refers to the issue of dealing with proportions. To account for differences in sequencing depth, microbial abundances are typically interpreted as proportions (e.g. relative abundance). Because of this, it becomes challenging to infer exactly which microbes are changing – since proportions add to one, the change of a single microbe will also change the proportions of the remaining microbes.\n",
    "Rather than focusing on individual taxa, we can focus on the ratio between taxa (or groups of taxa), since these ratios are consist between the true abundances and the observed proportions of the species observed. We typically log transform these ratios for improved visualization (‘log ratios’). The concept of calculating balances (or ratios) for multiple species can be extended to trees as shown in the following example.\n",
    "![balances taxon trees](https://docs.qiime2.org/2023.5/_images/gneiss-balances.jpg)\n",
    "On the left, we define a tree, where each of the tips corresponds to a taxon, and underneath are the proportions of each taxon in the first sample. The internal nodes (i.e. balances) define the log ratio between the taxa underneath. On the right is the same tree, and underneath are the proportions of each taxa in a different sample. Only one of the taxa abundances changes. As we have observed before, the proportions of all of the taxa will change, but looking at the balances, only the balances containing the purple taxa will change. In this case, balance b3\r\n",
    " won’t change, since it only considers the ratio between the red and taxa. By looking at balances instead proportions, we can eliminate some of the variance by restricting observations to only focus on the taxa within a given balance.\n",
    "\n",
    "The outstanding question here is, how do we construct a balance tree to control for the variation, and identify interesting differentially abundant partitions of taxa? In gneiss, there are three main ways that this can be done:\r\n",
    "1. \r\n",
    "Correlation clustering. If we don’t have relevant prior information about how to cluster together organisms, we can group together organisms based on how often they co-occur with each other. This is available in the correlation-clustering command and creates tree input for ilr-hierarchical.2. \r\n",
    "\r\n",
    "Gradient clustering. Use a metadata category to cluster taxa found in similar sample types. For example, if we want to evaluate if pH is a driving factor, we can cluster according to the pH that the taxa are observed in, and observe whether the ratios of low-pH organisms to high-pH organisms change as the pH changes. This is available in the gradient-clustering command and creates tree input for ilr-hierarchica3. l.\r\n",
    "\r\n",
    "Phylogenetic analysis. A phylogenetic tree (e.g. rooted-tree.qza) created outside of gneiss can also be used. In this case you can use your phylogenetic tree as input for ilr-phyl\n",
    "\n",
    "Once we have a tree, we can calculate balances...espectively.\r\n",
    "\r\n",
    "After the balances are calculated, standard statistical procedures such as ANOVA and linear regression ca\n",
    "\n",
    "First, we will define partitions of microbes for which we want to construct balances. Again, there are multiple possible ways to construct a tree (i.e. hierarchy) which defines the partition of microbes (balances) for which we want to construct balances. We will show examples of both correlation-clustering and gradient-clustering on this dataset.\r\n",
    "\r\n",
    "Note that the differential abundance techniques that we will be running will utilize log ratio transforms. Since it is not possible to take the logarithm of zero, both clustering methods below include a default pseudocount parameter. This replaces all zeroes in the table with a 1, so that we can apply logarithms on this transformed table.\r\n",
    "\r\n",
    "The input table is the raw count table (FeatureTable[Frequency]).n be performed.ogenetic."
   ]
  },
  {
   "cell_type": "markdown",
   "id": "d54e4872-5607-401c-af6a-2ef1ed33cf1e",
   "metadata": {},
   "source": [
    "#### Correlation Clustering\n",
    "This option should be your default option. We will employ unsupervised clustering via Ward’s hierarchical clustering to obtain Principal Balances. In essence, this will define the partitions of microbes that commonly co-occur with each other using Ward hierarchical clustering, which is defined by the following metric:\n",
    "\n",
    "$$\n",
    "d(x,y) = V[ln \\frac{x}{y}]\n",
    "$$\n",
    "\n",
    "Where **x**  and** ** \n",
    " represent the proportions of two microbes across all of the samples. If two microbes are highly correlated, then this quantity will shrink close to zero. Ward hierarchical cluster will then use this distance metric to iteratively cluster together groups of microbes that are correlated with each other. In the end, the tree that we obtain will highlight the high level structure and identify any blocks within in the data."
   ]
  },
  {
   "cell_type": "code",
   "execution_count": 9,
   "id": "dbca5740-1949-4783-a685-db0a307b1a58",
   "metadata": {},
   "outputs": [
    {
     "name": "stdout",
     "output_type": "stream",
     "text": [
      "\u001b[32mSaved Hierarchy to: ../output/blank-mock/hierarchy-bm.qza\u001b[0m\n",
      "\u001b[0m"
     ]
    }
   ],
   "source": [
    "!qiime gneiss correlation-clustering \\\n",
    "  --i-table ../output/blank-mock/table-bm.qza \\\n",
    "  --o-clustering ../output/blank-mock/hierarchy-bm.qza"
   ]
  },
  {
   "cell_type": "code",
   "execution_count": 10,
   "id": "076dcb03-4e8f-4266-abee-4c912b86dd6e",
   "metadata": {},
   "outputs": [
    {
     "name": "stdout",
     "output_type": "stream",
     "text": [
      "\u001b[33m\u001b[1mPlugin warning from gneiss:\n",
      "\n",
      "dendrogram-heatmap is deprecated and will be removed in a future version of this plugin.\u001b[0m\n",
      "\u001b[32mSaved Visualization to: ../output/blank-mock/heatmap-cc-paetemp.qzv\u001b[0m\n",
      "\u001b[0m"
     ]
    }
   ],
   "source": [
    "!qiime gneiss dendrogram-heatmap \\\n",
    "  --i-table ../output/blank-mock/table-bm.qza \\\n",
    "  --i-tree ../output/blank-mock/hierarchy-bm.qza \\\n",
    "  --m-metadata-file ../rawdata/sample-metadata-verbose.tsv \\\n",
    "  --m-metadata-column PaeTemp \\\n",
    "  --p-color-map seismic \\\n",
    "  --o-visualization ../output/blank-mock/heatmap-cc-paetemp.qzv"
   ]
  },
  {
   "cell_type": "markdown",
   "id": "e8be56ec-9f93-4414-a2a9-80b2b647befa",
   "metadata": {},
   "source": [
    "##### PaeTemp Heatmap"
   ]
  },
  {
   "cell_type": "code",
   "execution_count": 6,
   "id": "7baf83ec-b82b-4213-863e-5ea7c7b2535b",
   "metadata": {},
   "outputs": [
    {
     "data": {
      "text/html": [
       "<div><img onload=\"(function(div, url){\n",
       "if (typeof require !== 'undefined') {\n",
       "    var baseURL = require.toUrl('').split('/').slice(0, -2).join('/');\n",
       "} else {\n",
       "    var baseURL = JSON.parse(\n",
       "        document.getElementById('jupyter-config-data').innerHTML\n",
       "    ).baseUrl.slice(0, -1);\n",
       "}\n",
       "url = baseURL + url;\n",
       "fetch(url).then(function(res) {\n",
       "    if (res.status === 404) {\n",
       "        div.innerHTML = 'Install QIIME 2 Jupyter extension with:<br />' +\n",
       "                        '<code>jupyter serverextension enable --py qiime2' +\n",
       "                        ' --sys-prefix</code><br />then restart your server.' +\n",
       "                        '<br /><br />(Interactive output not available on ' +\n",
       "                        'static notebook viewer services like nbviewer.)';\n",
       "    } else if (res.status === 409) {\n",
       "        div.innerHTML = 'Visualization no longer in scope. Re-run this cell' +\n",
       "                        ' to see the visualization.';\n",
       "    } else if (res.ok) {\n",
       "        url = res.url;\n",
       "        div.innerHTML = '<iframe src=\\'' + url + '\\' style=\\'' +\n",
       "                        'width: 100%; height: 700px; border: 0;\\'>' +\n",
       "                        '</iframe><hr />Open in a: <a href=\\'' + url + '\\'' +\n",
       "                        ' target=\\'_blank\\'>new window</a>'\n",
       "    } else {\n",
       "        div.innerHTML = 'Something has gone wrong. Check notebook server for' +\n",
       "                        ' errors.';\n",
       "    }\n",
       "});\n",
       "})(this.parentElement, '/qiime2/redirect?location=/tmp/qiime2/stanja/data/44b39522-a9bd-4972-8966-1e9e47926c77')\" src=\"data:image/gif;base64,R0lGODlhAQABAIAAAP///wAAACH5BAEAAAAALAAAAAABAAEAAAICRAEAOw==\" /></div>"
      ],
      "text/plain": [
       "<visualization: Visualization uuid: 44b39522-a9bd-4972-8966-1e9e47926c77>"
      ]
     },
     "execution_count": 6,
     "metadata": {},
     "output_type": "execute_result"
    }
   ],
   "source": [
    "Visualization.load('../output/blank-mock/heatmap-cc-paetemp.qzv')"
   ]
  },
  {
   "cell_type": "markdown",
   "id": "bf3bc683-d4b4-4df7-9c2f-f13083afa7af",
   "metadata": {},
   "source": [
    "##### Temp Heatmap"
   ]
  },
  {
   "cell_type": "code",
   "execution_count": 12,
   "id": "60da0ea1-9f94-4459-8bbe-6b4c0bb73a5f",
   "metadata": {},
   "outputs": [
    {
     "name": "stdout",
     "output_type": "stream",
     "text": [
      "\u001b[33m\u001b[1mPlugin warning from gneiss:\n",
      "\n",
      "dendrogram-heatmap is deprecated and will be removed in a future version of this plugin.\u001b[0m\n",
      "\u001b[32mSaved Visualization to: ../output/blank-mock/heatmap-cc-temp.qzv\u001b[0m\n",
      "\u001b[0m"
     ]
    }
   ],
   "source": [
    "!qiime gneiss dendrogram-heatmap \\\n",
    "  --i-table ../output/blank-mock/table-bm.qza \\\n",
    "  --i-tree ../output/blank-mock/hierarchy-bm.qza \\\n",
    "  --m-metadata-file ../rawdata/sample-metadata-verbose.tsv \\\n",
    "  --m-metadata-column Temp \\\n",
    "  --p-color-map seismic \\\n",
    "  --o-visualization ../output/blank-mock/heatmap-cc-temp.qzv"
   ]
  },
  {
   "cell_type": "code",
   "execution_count": 7,
   "id": "fcb1137f-61b1-49d2-95b6-c7ae3fab4782",
   "metadata": {},
   "outputs": [
    {
     "data": {
      "text/html": [
       "<div><img onload=\"(function(div, url){\n",
       "if (typeof require !== 'undefined') {\n",
       "    var baseURL = require.toUrl('').split('/').slice(0, -2).join('/');\n",
       "} else {\n",
       "    var baseURL = JSON.parse(\n",
       "        document.getElementById('jupyter-config-data').innerHTML\n",
       "    ).baseUrl.slice(0, -1);\n",
       "}\n",
       "url = baseURL + url;\n",
       "fetch(url).then(function(res) {\n",
       "    if (res.status === 404) {\n",
       "        div.innerHTML = 'Install QIIME 2 Jupyter extension with:<br />' +\n",
       "                        '<code>jupyter serverextension enable --py qiime2' +\n",
       "                        ' --sys-prefix</code><br />then restart your server.' +\n",
       "                        '<br /><br />(Interactive output not available on ' +\n",
       "                        'static notebook viewer services like nbviewer.)';\n",
       "    } else if (res.status === 409) {\n",
       "        div.innerHTML = 'Visualization no longer in scope. Re-run this cell' +\n",
       "                        ' to see the visualization.';\n",
       "    } else if (res.ok) {\n",
       "        url = res.url;\n",
       "        div.innerHTML = '<iframe src=\\'' + url + '\\' style=\\'' +\n",
       "                        'width: 100%; height: 700px; border: 0;\\'>' +\n",
       "                        '</iframe><hr />Open in a: <a href=\\'' + url + '\\'' +\n",
       "                        ' target=\\'_blank\\'>new window</a>'\n",
       "    } else {\n",
       "        div.innerHTML = 'Something has gone wrong. Check notebook server for' +\n",
       "                        ' errors.';\n",
       "    }\n",
       "});\n",
       "})(this.parentElement, '/qiime2/redirect?location=/tmp/qiime2/stanja/data/10fe0e0e-61a6-4ff3-80aa-09da99140eeb')\" src=\"data:image/gif;base64,R0lGODlhAQABAIAAAP///wAAACH5BAEAAAAALAAAAAABAAEAAAICRAEAOw==\" /></div>"
      ],
      "text/plain": [
       "<visualization: Visualization uuid: 10fe0e0e-61a6-4ff3-80aa-09da99140eeb>"
      ]
     },
     "execution_count": 7,
     "metadata": {},
     "output_type": "execute_result"
    }
   ],
   "source": [
    "Visualization.load('../output/blank-mock/heatmap-cc-temp.qzv')"
   ]
  },
  {
   "cell_type": "markdown",
   "id": "c19c420b-252e-458e-b379-f8013ed60f51",
   "metadata": {},
   "source": [
    "#### Gradient Clustering"
   ]
  },
  {
   "cell_type": "code",
   "execution_count": 14,
   "id": "011cfe4a-981b-49ee-bc35-639b8409de3f",
   "metadata": {},
   "outputs": [
    {
     "name": "stdout",
     "output_type": "stream",
     "text": [
      "Usage: \u001b[94mqiime gneiss gradient-clustering\u001b[0m [OPTIONS]\n",
      "\n",
      "  Build a bifurcating tree that represents a hierarchical clustering of\n",
      "  features.  The hiearchical clustering uses Ward hierarchical clustering\n",
      "  based on the mean difference of gradients that each feature is observed in.\n",
      "  This method is primarily used to sort the table to reveal the underlying\n",
      "  block-like structures.\n",
      "\n",
      "\u001b[1mInputs\u001b[0m:\n",
      "  \u001b[94m\u001b[4m--i-table\u001b[0m ARTIFACT \u001b[32mFeatureTable[Frequency | RelativeFrequency |\u001b[0m\n",
      "    \u001b[32mComposition]\u001b[0m       The feature table containing the samples in which the\n",
      "                       columns will be clustered.                   \u001b[35m[required]\u001b[0m\n",
      "\u001b[1mParameters\u001b[0m:\n",
      "  \u001b[94m\u001b[4m--m-gradient-file\u001b[0m METADATA\n",
      "  \u001b[94m\u001b[4m--m-gradient-column\u001b[0m COLUMN  \u001b[32mMetadataColumn[Numeric]\u001b[0m\n",
      "                       Contains gradient values to sort the features and\n",
      "                       samples.                                     \u001b[35m[required]\u001b[0m\n",
      "  \u001b[94m--p-ignore-missing-samples\u001b[0m / \u001b[94m--p-no-ignore-missing-samples\u001b[0m\n",
      "                                                              \u001b[35m[default: False]\u001b[0m\n",
      "  \u001b[94m--p-weighted\u001b[0m / \u001b[94m--p-no-weighted\u001b[0m\n",
      "                       Specifies if abundance or presence/absence information\n",
      "                       should be used to perform the clustering.\n",
      "                                                               \u001b[35m[default: True]\u001b[0m\n",
      "\u001b[1mOutputs\u001b[0m:\n",
      "  \u001b[94m\u001b[4m--o-clustering\u001b[0m ARTIFACT\n",
      "    \u001b[32mHierarchy\u001b[0m          A hierarchy of feature identifiers where each tip\n",
      "                       corresponds to the feature identifiers in the table.\n",
      "                       This tree can contain tip ids that are not present in\n",
      "                       the table, but all feature ids in the table must be\n",
      "                       present in this tree.                        \u001b[35m[required]\u001b[0m\n",
      "\u001b[1mMiscellaneous\u001b[0m:\n",
      "  \u001b[94m--output-dir\u001b[0m PATH    Output unspecified results to a directory\n",
      "  \u001b[94m--verbose\u001b[0m / \u001b[94m--quiet\u001b[0m  Display verbose output to stdout and/or stderr during\n",
      "                       execution of this action. Or silence output if\n",
      "                       execution is successful (silence is golden).\n",
      "  \u001b[94m--example-data\u001b[0m PATH  Write example data and exit.\n",
      "  \u001b[94m--citations\u001b[0m          Show citations and exit.\n",
      "  \u001b[94m--help\u001b[0m               Show this message and exit.\n",
      "\n",
      "\u001b[33m                    There was a problem with the command:                     \u001b[0m\n",
      "\u001b[31m\u001b[1m (1/1) Invalid value for '--m-gradient-file': Metadata column is of type\n",
      "  'categorical', but expected Numeric.\u001b[0m\n",
      "\u001b[0m"
     ]
    }
   ],
   "source": [
    "!qiime gneiss gradient-clustering \\\n",
    "  --i-table ../output/blank-mock/table-bm.qza \\\n",
    "  --m-gradient-file ../rawdata/sample-metadata-verbose.tsv \\\n",
    "  --m-gradient-column PaeTemp \\\n",
    "  --o-clustering ../output/blank-mock/gradient-hierarchy-bm.qza"
   ]
  },
  {
   "cell_type": "markdown",
   "id": "7681ca59-3d48-442d-b875-3460bfff3e31",
   "metadata": {},
   "source": [
    "#### Phylogenetic Analysis"
   ]
  },
  {
   "cell_type": "code",
   "execution_count": 17,
   "id": "d1e1730d-5d7d-4c66-bc31-17a8032274d4",
   "metadata": {},
   "outputs": [
    {
     "name": "stdout",
     "output_type": "stream",
     "text": [
      "Usage: \u001b[94mqiime gneiss\u001b[0m [OPTIONS] COMMAND [ARGS]...\n",
      "\n",
      "  Description: This is a QIIME 2 plugin supporting statistical models on\n",
      "  feature tables and metadata using balances.\n",
      "\n",
      "  Plugin website: https://biocore.github.io/gneiss/\n",
      "\n",
      "  Getting user support: Please post to the QIIME 2 forum for help with this\n",
      "  plugin: https://forum.qiime2.org\n",
      "\n",
      "\u001b[1mOptions\u001b[0m:\n",
      "  \u001b[94m--version\u001b[0m            Show the version and exit.\n",
      "  \u001b[94m--example-data\u001b[0m PATH  Write example data and exit.\n",
      "  \u001b[94m--citations\u001b[0m          Show citations and exit.\n",
      "  \u001b[94m--help\u001b[0m               Show this message and exit.\n",
      "\n",
      "\u001b[1mCommands\u001b[0m:\n",
      "  \u001b[94massign-ids\u001b[0m                     Assigns ids on internal nodes in the tree,\n",
      "                                 and makes sure that they are consistent with\n",
      "                                 the table columns.\n",
      "  \u001b[94mcorrelation-clustering\u001b[0m         Hierarchical clustering using feature\n",
      "                                 correlation.\n",
      "  \u001b[94mdendrogram-heatmap\u001b[0m             Dendrogram heatmap.\n",
      "  \u001b[94mgradient-clustering\u001b[0m            Hierarchical clustering using gradient\n",
      "                                 information.\n",
      "  \u001b[94milr-hierarchical\u001b[0m               Isometric Log-ratio Transform applied to a\n",
      "                                 hierarchical clustering\n",
      "  \u001b[94milr-phylogenetic\u001b[0m               Isometric Log-ratio Transform applied to a\n",
      "                                 phylogenetic tree\n",
      "  \u001b[94milr-phylogenetic-differential\u001b[0m  Differentially abundant Phylogenetic Log\n",
      "                                 Ratios.\n",
      "  \u001b[94milr-phylogenetic-ordination\u001b[0m    Ordination through a phylogenetic Isometric\n",
      "                                 Log Ratio transform.\n",
      "\u001b[0m"
     ]
    }
   ],
   "source": [
    "!qiime gneiss --help"
   ]
  },
  {
   "cell_type": "code",
   "execution_count": 20,
   "id": "f76fb548-c833-4ce7-a106-3addcef779d2",
   "metadata": {},
   "outputs": [
    {
     "name": "stdout",
     "output_type": "stream",
     "text": [
      "\u001b[32mSaved FeatureTable[Balance] to: ../output/blank-mock/balances-rootedtree-bm.qza\u001b[0m\n",
      "\u001b[32mSaved Hierarchy to: ../output/blank-mock/hierarchy-rootedtree-bm.qza\u001b[0m\n",
      "\u001b[0m"
     ]
    }
   ],
   "source": [
    "!qiime gneiss ilr-phylogenetic \\\n",
    "  --i-table ../output/blank-mock/table-bm.qza \\\n",
    "  --i-tree ../output/blank-mock/phylogeny-tree-bm/rooted_tree.qza \\\n",
    "  --o-balances ../output/blank-mock/balances-rootedtree-bm.qza \\\n",
    "  --o-hierarchy ../output/blank-mock/hierarchy-rootedtree-bm.qza\n",
    " "
   ]
  },
  {
   "cell_type": "code",
   "execution_count": 21,
   "id": "17c23130-af49-4445-846e-d83ab20f6ce6",
   "metadata": {},
   "outputs": [
    {
     "name": "stdout",
     "output_type": "stream",
     "text": [
      "\u001b[33m\u001b[1mPlugin warning from gneiss:\n",
      "\n",
      "dendrogram-heatmap is deprecated and will be removed in a future version of this plugin.\u001b[0m\n",
      "\u001b[32mSaved Visualization to: ../output/blank-mock/heatmap-rootedtree-temp.qzv\u001b[0m\n",
      "\u001b[0m"
     ]
    }
   ],
   "source": [
    "!qiime gneiss dendrogram-heatmap \\\n",
    "  --i-table ../output/blank-mock/table-bm.qza \\\n",
    "  --i-tree ../output/blank-mock/hierarchy-rootedtree-bm.qza \\\n",
    "  --m-metadata-file ../rawdata/sample-metadata-verbose.tsv \\\n",
    "  --m-metadata-column Temp \\\n",
    "  --p-color-map seismic \\\n",
    "  --o-visualization ../output/blank-mock/heatmap-rootedtree-temp.qzv"
   ]
  },
  {
   "cell_type": "code",
   "execution_count": 22,
   "id": "c4bde97c-018b-45f2-a2cc-cd9e29096dde",
   "metadata": {},
   "outputs": [
    {
     "data": {
      "text/html": [
       "<div><img onload=\"(function(div, url){\n",
       "if (typeof require !== 'undefined') {\n",
       "    var baseURL = require.toUrl('').split('/').slice(0, -2).join('/');\n",
       "} else {\n",
       "    var baseURL = JSON.parse(\n",
       "        document.getElementById('jupyter-config-data').innerHTML\n",
       "    ).baseUrl.slice(0, -1);\n",
       "}\n",
       "url = baseURL + url;\n",
       "fetch(url).then(function(res) {\n",
       "    if (res.status === 404) {\n",
       "        div.innerHTML = 'Install QIIME 2 Jupyter extension with:<br />' +\n",
       "                        '<code>jupyter serverextension enable --py qiime2' +\n",
       "                        ' --sys-prefix</code><br />then restart your server.' +\n",
       "                        '<br /><br />(Interactive output not available on ' +\n",
       "                        'static notebook viewer services like nbviewer.)';\n",
       "    } else if (res.status === 409) {\n",
       "        div.innerHTML = 'Visualization no longer in scope. Re-run this cell' +\n",
       "                        ' to see the visualization.';\n",
       "    } else if (res.ok) {\n",
       "        url = res.url;\n",
       "        div.innerHTML = '<iframe src=\\'' + url + '\\' style=\\'' +\n",
       "                        'width: 100%; height: 700px; border: 0;\\'>' +\n",
       "                        '</iframe><hr />Open in a: <a href=\\'' + url + '\\'' +\n",
       "                        ' target=\\'_blank\\'>new window</a>'\n",
       "    } else {\n",
       "        div.innerHTML = 'Something has gone wrong. Check notebook server for' +\n",
       "                        ' errors.';\n",
       "    }\n",
       "});\n",
       "})(this.parentElement, '/qiime2/redirect?location=/tmp/qiime2/stanja/data/f6b50e5d-595d-4cf7-a266-d72cd6d31623')\" src=\"data:image/gif;base64,R0lGODlhAQABAIAAAP///wAAACH5BAEAAAAALAAAAAABAAEAAAICRAEAOw==\" /></div>"
      ],
      "text/plain": [
       "<visualization: Visualization uuid: f6b50e5d-595d-4cf7-a266-d72cd6d31623>"
      ]
     },
     "execution_count": 22,
     "metadata": {},
     "output_type": "execute_result"
    }
   ],
   "source": [
    "Visualization.load('../output/blank-mock/heatmap-rootedtree-temp.qzv')"
   ]
  }
 ],
 "metadata": {
  "kernelspec": {
   "display_name": "Python 3 (ipykernel)",
   "language": "python",
   "name": "python3"
  },
  "language_info": {
   "codemirror_mode": {
    "name": "ipython",
    "version": 3
   },
   "file_extension": ".py",
   "mimetype": "text/x-python",
   "name": "python",
   "nbconvert_exporter": "python",
   "pygments_lexer": "ipython3",
   "version": "3.8.16"
  }
 },
 "nbformat": 4,
 "nbformat_minor": 5
}
