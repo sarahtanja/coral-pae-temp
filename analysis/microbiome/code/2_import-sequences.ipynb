{
 "cells": [
  {
   "cell_type": "markdown",
   "id": "eed08058-9a5e-477d-94a5-a0f5c47aa23b",
   "metadata": {},
   "source": [
    "---\n",
    "title: \"Microbiome Sequence Analysis\"\n",
    "subtitle: \"Importing 16S Sequence Data\"\n",
    "author: \"Sarah Tanja\"\n",
    "format: html\n",
    "editor: visual\n",
    "toc: true\n",
    "toc-title: Contents <i class=\"bi bi-bookmark-heart\"></i>\n",
    "toc-depth: 5\n",
    "toc-location: left\n",
    "reference-location: margin\n",
    "citation-location: margin\n",
    "bibliography: ./references/qiime2.bib\n",
    "---"
   ]
  },
  {
   "cell_type": "markdown",
   "id": "122fda22-a268-433a-b619-ec18f7946413",
   "metadata": {},
   "source": [
    "## Overview\n",
    "\n",
    "The 16S sequences were provided to me from Mr. DNA via a DropBox download link. They are **Demultiplexed** (aka **Demuxed**) sequences that still have the forward and reverse primers in the sequences.\n",
    "\n",
    "-   The Raw Data is **demultiplexed**\n",
    "\n",
    "-   A R1 and R2 fastq.gz file has been generated for each individual sample\n",
    "\n",
    "-   All forward reads are binned into the R1 fastq.gz files\n",
    "\n",
    "-   All reverse reads are binned into the R2 fastq.gz files\n",
    "\n",
    "-   Other than demultiplexing; you can consider the Raw Data on BaseSpace as untouched (**The Forward and Reverse Primer Sequences have not been removed**)\n",
    "\n",
    "Here I follow the QIIME2 [Casava 1.8 paired-end demultiplexed fastq](https://docs.qiime2.org/2023.5/tutorials/importing/#:~:text=Casava%201.8%20paired%2Dend%20demultiplexed%20fastq) tutorial example on importing data, using the files provided to me by Mr. DNA, Molecular Research via dropbox. \n",
    "\n",
    "## Data download\n",
    "\n",
    "I got an email from Mr. DNA with a Dropbox link to the data files, where I downloaded two .zip folders; one had raw data files and the other had analysis pipeline files that Mr. DNA generated.\n",
    "\n",
    "Here I am working with the raw data files located in `coral-pae-temp/analysis/microbiome/rawdata/demux`\n",
    "\n",
    "In the `demux` folder is a `fastq.gz` file for each sample.\n",
    "\n",
    "The file name includes the sample identifier and should look like `4.Ea_S1_L001_R1_001.fastq.gz`. \n",
    "The underscore-separated fields in this file name are:\n",
    "\n",
    "1.  the sample identifier,\n",
    "\n",
    "2.  the barcode sequence or a barcode identifier,\n",
    "\n",
    "3.  the lane number,\n",
    "\n",
    "4.  the direction of the read (i.e. R1 or R2, because these are paired-end reads), and\n",
    "\n",
    "5.  the set number.\n"
   ]
  },
  {
   "cell_type": "markdown",
   "id": "b95b87c4",
   "metadata": {},
   "source": [
    "[Using Python to run QIIME2](https://docs.qiime2.org/2023.5/interfaces/artifact-api/)"
   ]
  },
  {
   "cell_type": "code",
   "execution_count": 7,
   "id": "c420fcd4-0a0c-4fa7-a36f-4a1d4069b4ed",
   "metadata": {},
   "outputs": [],
   "source": [
    "from qiime2.plugins import feature_table\n",
    "from qiime2 import Artifact"
   ]
  },
  {
   "cell_type": "code",
   "execution_count": null,
   "id": "d522fc49",
   "metadata": {},
   "outputs": [],
   "source": []
  }
 ],
 "metadata": {
  "kernelspec": {
   "display_name": "Python 3 (ipykernel)",
   "language": "python",
   "name": "python3"
  },
  "language_info": {
   "codemirror_mode": {
    "name": "ipython",
    "version": 3
   },
   "file_extension": ".py",
   "mimetype": "text/x-python",
   "name": "python",
   "nbconvert_exporter": "python",
   "pygments_lexer": "ipython3",
   "version": "3.8.16"
  }
 },
 "nbformat": 4,
 "nbformat_minor": 5
}
