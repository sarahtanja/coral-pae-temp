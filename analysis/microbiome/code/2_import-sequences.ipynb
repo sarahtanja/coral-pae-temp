{
 "cells": [
  {
   "cell_type": "markdown",
   "id": "eed08058-9a5e-477d-94a5-a0f5c47aa23b",
   "metadata": {},
   "source": [
    "---\n",
    "title: \"Microbiome Sequence Analysis\"\n",
    "subtitle: \"Importing 16S Sequence Data\"\n",
    "author: \"Sarah Tanja\"\n",
    "format: html\n",
    "editor: visual\n",
    "toc: true\n",
    "toc-title: Contents <i class=\"bi bi-bookmark-heart\"></i>\n",
    "toc-depth: 5\n",
    "toc-location: left\n",
    "reference-location: margin\n",
    "citation-location: margin\n",
    "bibliography: ./references/qiime2.bib\n",
    "---"
   ]
  },
  {
   "cell_type": "markdown",
   "id": "122fda22-a268-433a-b619-ec18f7946413",
   "metadata": {},
   "source": [
    "## Overview\n",
    "\n",
    "The 16S sequences were provided to me from Mr. DNA via a DropBox download link. They are **Demultiplexed** (aka **Demuxed**) sequences that still have the forward and reverse primers in the sequences.\n",
    "\n",
    "-   The Raw Data is **demultiplexed**\n",
    "\n",
    "-   A R1 and R2 fastq.gz file has been generated for each individual sample\n",
    "\n",
    "-   All forward reads are binned into the R1 fastq.gz files\n",
    "\n",
    "-   All reverse reads are binned into the R2 fastq.gz files\n",
    "\n",
    "-   Other than demultiplexing; you can consider the Raw Data on BaseSpace as untouched (**The Forward and Reverse Primer Sequences have not been removed**)\n",
    "\n",
    "Here I follow the QIIME2 [Casava 1.8 paired-end demultiplexed fastq](https://docs.qiime2.org/2023.5/tutorials/importing/#:~:text=Casava%201.8%20paired%2Dend%20demultiplexed%20fastq) tutorial example on importing data, using the files provided to me by Mr. DNA, Molecular Research via dropbox. \n",
    "\n",
    "## Data download\n",
    "\n",
    "I got an email from Mr. DNA with a Dropbox link to the data files, where I downloaded two .zip folders; one had raw data files and the other had analysis pipeline files that Mr. DNA generated.\n",
    "\n",
    "Here I am working with the raw data files located in `coral-pae-temp/analysis/microbiome/rawdata/demux`\n",
    "\n",
    "In the `demux` folder is a `fastq.gz` file for each sample.\n",
    "\n",
    "The file name includes the sample identifier and should look like `4.Ea_S1_L001_R1_001.fastq.gz`. \n",
    "The underscore-separated fields in this file name are:\n",
    "\n",
    "1.  the sample identifier,\n",
    "\n",
    "2.  the barcode sequence or a barcode identifier,\n",
    "\n",
    "3.  the lane number,\n",
    "\n",
    "4.  the direction of the read (i.e. R1 or R2, because these are paired-end reads), and\n",
    "\n",
    "5.  the set number.\n"
   ]
  },
  {
   "cell_type": "markdown",
   "id": "6ae66c8a",
   "metadata": {},
   "source": [
    "[Using Python to run QIIME2](https://docs.qiime2.org/2023.5/interfaces/artifact-api/)"
   ]
  },
  {
   "cell_type": "code",
   "execution_count": 17,
   "id": "c420fcd4-0a0c-4fa7-a36f-4a1d4069b4ed",
   "metadata": {},
   "outputs": [
    {
     "name": "stdout",
     "output_type": "stream",
     "text": [
      "\u001b[32mSaved Visualization to: ../output/metadata.qzv\u001b[0m\r\n",
      "\u001b[0m"
     ]
    }
   ],
   "source": [
    "!qiime metadata tabulate \\\n",
    "  --m-input-file ../rawdata/sample-metadata.tsv \\\n",
    "  --o-visualization ../output/metadata.qzv"
   ]
  },
  {
   "cell_type": "markdown",
   "id": "3a565265",
   "metadata": {},
   "source": [
    "drag metadata.qzv into (view.qiime2.org)[https://view.qiime2.org/]"
   ]
  },
  {
   "cell_type": "markdown",
   "id": "d07d3edb-f17e-4f7e-adc2-76f88601e2a5",
   "metadata": {},
   "source": [
    "How Do You Run qiime2 in Jupyter?\n",
    "Checkout [this forum post](https://forum.qiime2.org/t/how-to-run-qiime2-in-jupiter-notebook/24705) \n",
    "\n",
    "Option 1. Activate qiime2 environment and install jupyter notebook there.\n",
    "\n",
    "Option 2. If jupyter notebook should be launched outside of environment, you need to install nb-kernels in \"base\":\n",
    "\n",
    "conda install -n notebook_env nb_conda_kernels\n",
    "\n",
    "and then inside of qiime2 env:\n",
    "\n",
    "conda install -c anaconda ipykernel\n",
    "\n",
    "In this case you will be able to choose qiime2 kernel in the notebook from \"base\".\n",
    "\n",
    "When launched, qiime2 commands can be executed by providing \"!\" sign at the beginning of the first line of the command, or by using qiime2\n",
    "\n",
    "Checkout [this forum post](https://forum.qiime2.org/t/activating-jupyterlab-in-qiime2/9697) \n",
    "\n"
   ]
  },
  {
   "cell_type": "markdown",
   "id": "d9afbd41",
   "metadata": {},
   "source": [
    "Import Sequences into qiime"
   ]
  },
  {
   "cell_type": "code",
   "execution_count": 16,
   "id": "dbb298fe-3e96-4f98-9060-408d3b24511a",
   "metadata": {},
   "outputs": [
    {
     "name": "stdout",
     "output_type": "stream",
     "text": [
      "\u001b[32mImported ../rawdata/demux as CasavaOneEightSingleLanePerSampleDirFmt to ../output/demux-paired-end.qza\u001b[0m\n",
      "\u001b[0m"
     ]
    }
   ],
   "source": [
    "!qiime tools import \\\n",
    "  --type 'SampleData[PairedEndSequencesWithQuality]' \\\n",
    "  --input-path ../rawdata/demux \\\n",
    "  --input-format CasavaOneEightSingleLanePerSampleDirFmt \\\n",
    "  --output-path ../output/demux-paired-end.qza"
   ]
  },
  {
   "cell_type": "markdown",
   "id": "ae103a38",
   "metadata": {},
   "source": [
    "Checkout the `demux-paired-end.qza` in "
   ]
  },
  {
   "cell_type": "code",
   "execution_count": 3,
   "id": "f2708415",
   "metadata": {},
   "outputs": [
    {
     "name": "stdout",
     "output_type": "stream",
     "text": [
      "Usage: \u001b[94mqiime\u001b[0m [OPTIONS] COMMAND [ARGS]...\r\n",
      "\r\n",
      "  QIIME 2 command-line interface (q2cli)\r\n",
      "  --------------------------------------\r\n",
      "\r\n",
      "  To get help with QIIME 2, visit https://qiime2.org.\r\n",
      "\r\n",
      "  To enable tab completion in Bash, run the following command or add it to\r\n",
      "  your .bashrc/.bash_profile:\r\n",
      "\r\n",
      "      source tab-qiime\r\n",
      "\r\n",
      "  To enable tab completion in ZSH, run the following commands or add them to\r\n",
      "  your .zshrc:\r\n",
      "\r\n",
      "      autoload -Uz compinit && compinit\r\n",
      "      autoload bashcompinit && bashcompinit\r\n",
      "      source tab-qiime\r\n",
      "\r\n",
      "\u001b[1mOptions\u001b[0m:\r\n",
      "  \u001b[94m--version\u001b[0m   Show the version and exit.\r\n",
      "  \u001b[94m--help\u001b[0m      Show this message and exit.\r\n",
      "\r\n",
      "\u001b[1mCommands\u001b[0m:\r\n",
      "  \u001b[94minfo\u001b[0m                Display information about current deployment.\r\n",
      "  \u001b[94mtools\u001b[0m               Tools for working with QIIME 2 files.\r\n",
      "  \u001b[94mdev\u001b[0m                 Utilities for developers and advanced users.\r\n",
      "  \u001b[94malignment\u001b[0m           Plugin for generating and manipulating alignments.\r\n",
      "  \u001b[94mcomposition\u001b[0m         Plugin for compositional data analysis.\r\n",
      "  \u001b[94mcutadapt\u001b[0m            Plugin for removing adapter sequences, primers, and\r\n",
      "                      other unwanted sequence from sequence data.\r\n",
      "  \u001b[94mdada2\u001b[0m               Plugin for sequence quality control with DADA2.\r\n",
      "  \u001b[94mdeblur\u001b[0m              Plugin for sequence quality control with Deblur.\r\n",
      "  \u001b[94mdemux\u001b[0m               Plugin for demultiplexing & viewing sequence quality.\r\n",
      "  \u001b[94mdiversity\u001b[0m           Plugin for exploring community diversity.\r\n",
      "  \u001b[94mdiversity-lib\u001b[0m       Plugin for computing community diversity.\r\n",
      "  \u001b[94memperor\u001b[0m             Plugin for ordination plotting with Emperor.\r\n",
      "  \u001b[94mfeature-classifier\u001b[0m  Plugin for taxonomic classification.\r\n",
      "  \u001b[94mfeature-table\u001b[0m       Plugin for working with sample by feature tables.\r\n",
      "  \u001b[94mfragment-insertion\u001b[0m  Plugin for extending phylogenies.\r\n",
      "  \u001b[94mgneiss\u001b[0m              Plugin for building compositional models.\r\n",
      "  \u001b[94mlongitudinal\u001b[0m        Plugin for paired sample and time series analyses.\r\n",
      "  \u001b[94mmetadata\u001b[0m            Plugin for working with Metadata.\r\n",
      "  \u001b[94mphylogeny\u001b[0m           Plugin for generating and manipulating phylogenies.\r\n",
      "  \u001b[94mquality-control\u001b[0m     Plugin for quality control of feature and sequence data.\r\n",
      "  \u001b[94mquality-filter\u001b[0m      Plugin for PHRED-based filtering and trimming.\r\n",
      "  \u001b[94msample-classifier\u001b[0m   Plugin for machine learning prediction of sample\r\n",
      "                      metadata.\r\n",
      "  \u001b[94mtaxa\u001b[0m                Plugin for working with feature taxonomy annotations.\r\n",
      "  \u001b[94mvsearch\u001b[0m             Plugin for clustering and dereplicating with vsearch.\r\n"
     ]
    }
   ],
   "source": [
    "!qiime --help"
   ]
  },
  {
   "cell_type": "markdown",
   "id": "f00901ad",
   "metadata": {},
   "source": [
    "Demultiplexed"
   ]
  },
  {
   "cell_type": "code",
   "execution_count": 13,
   "id": "69b6a077",
   "metadata": {},
   "outputs": [
    {
     "name": "stdout",
     "output_type": "stream",
     "text": [
      "Usage: \u001b[94mqiime demux emp-paired\u001b[0m [OPTIONS]\n",
      "\n",
      "  Demultiplex paired-end sequence data (i.e., map barcode reads to sample ids)\n",
      "  for data generated with the Earth Microbiome Project (EMP) amplicon\n",
      "  sequencing protocol. Details about this protocol can be found at\n",
      "  http://www.earthmicrobiome.org/protocols-and-standards/\n",
      "\n",
      "\u001b[1mInputs\u001b[0m:\n",
      "  \u001b[94m\u001b[4m--i-seqs\u001b[0m ARTIFACT \u001b[32mEMPPairedEndSequences\u001b[0m\n",
      "                       The paired-end sequences to be demultiplexed.\n",
      "                                                                    \u001b[35m[required]\u001b[0m\n",
      "\u001b[1mParameters\u001b[0m:\n",
      "  \u001b[94m\u001b[4m--m-barcodes-file\u001b[0m METADATA\n",
      "  \u001b[94m\u001b[4m--m-barcodes-column\u001b[0m COLUMN  \u001b[32mMetadataColumn[Categorical]\u001b[0m\n",
      "                       The sample metadata column containing the per-sample\n",
      "                       barcodes.                                    \u001b[35m[required]\u001b[0m\n",
      "  \u001b[94m--p-golay-error-correction\u001b[0m / \u001b[94m--p-no-golay-error-correction\u001b[0m\n",
      "                       Perform 12nt Golay error correction on the barcode\n",
      "                       reads.                                  \u001b[35m[default: True]\u001b[0m\n",
      "  \u001b[94m--p-rev-comp-barcodes\u001b[0m / \u001b[94m--p-no-rev-comp-barcodes\u001b[0m\n",
      "                       If provided, the barcode sequence reads will be\n",
      "                       reverse complemented prior to demultiplexing.\n",
      "                                                              \u001b[35m[default: False]\u001b[0m\n",
      "  \u001b[94m--p-rev-comp-mapping-barcodes\u001b[0m / \u001b[94m--p-no-rev-comp-mapping-barcodes\u001b[0m\n",
      "                       If provided, the barcode sequences in the sample\n",
      "                       metadata will be reverse complemented prior to\n",
      "                       demultiplexing.                        \u001b[35m[default: False]\u001b[0m\n",
      "  \u001b[94m--p-ignore-description-mismatch\u001b[0m / \u001b[94m--p-no-ignore-description-mismatch\u001b[0m\n",
      "                       If enabled, ignore mismatches in sequence record\n",
      "                       description fields.                    \u001b[35m[default: False]\u001b[0m\n",
      "\u001b[1mOutputs\u001b[0m:\n",
      "  \u001b[94m\u001b[4m--o-per-sample-sequences\u001b[0m ARTIFACT \u001b[32m\u001b[0m\n",
      "    \u001b[32mSampleData[PairedEndSequencesWithQuality]\u001b[0m\n",
      "                       The resulting demultiplexed sequences.       \u001b[35m[required]\u001b[0m\n",
      "  \u001b[94m\u001b[4m--o-error-correction-details\u001b[0m ARTIFACT \u001b[32mErrorCorrectionDetails\u001b[0m\n",
      "                       Detail about the barcode error corrections.  \u001b[35m[required]\u001b[0m\n",
      "\u001b[1mMiscellaneous\u001b[0m:\n",
      "  \u001b[94m--output-dir\u001b[0m PATH    Output unspecified results to a directory\n",
      "  \u001b[94m--verbose\u001b[0m / \u001b[94m--quiet\u001b[0m  Display verbose output to stdout and/or stderr during\n",
      "                       execution of this action. Or silence output if\n",
      "                       execution is successful (silence is golden).\n",
      "  \u001b[94m--example-data\u001b[0m PATH  Write example data and exit.\n",
      "  \u001b[94m--citations\u001b[0m          Show citations and exit.\n",
      "  \u001b[94m--help\u001b[0m               Show this message and exit.\n",
      "\n",
      "\u001b[33m                    There was a problem with the command:                     \u001b[0m\n",
      "\u001b[31m\u001b[1m (1/1) Invalid value for '--i-seqs': emp-paired-end-sequences.qza does not\n",
      "  exist.\u001b[0m\n",
      "\u001b[0m"
     ]
    }
   ],
   "source": [
    "!qiime demux emp-paired \\\n",
    " --m-barcodes-file ../rawdata/sample-metadata.tsv \\\n",
    " --m-barcodes-column BarcodeSequence \\\n",
    " --p-no-rev-comp-mapping-barcodes \\\n",
    " --i-seqs emp-paired-end-sequences.qza \\\n",
    " --o-per-sample-sequences demux-full.qza \\\n",
    " --o-error-correction-details demux-details.qza \\\n",
    " --p-no-golay-error-correction "
   ]
  },
  {
   "cell_type": "code",
   "execution_count": 5,
   "id": "b0c576b0-d5d2-4a28-8081-676a1fecb309",
   "metadata": {},
   "outputs": [
    {
     "ename": "SyntaxError",
     "evalue": "invalid syntax (1215720388.py, line 1)",
     "output_type": "error",
     "traceback": [
      "\u001b[0;36m  Cell \u001b[0;32mIn[5], line 1\u001b[0;36m\u001b[0m\n\u001b[0;31m    qiime tools import \\\u001b[0m\n\u001b[0m          ^\u001b[0m\n\u001b[0;31mSyntaxError\u001b[0m\u001b[0;31m:\u001b[0m invalid syntax\n"
     ]
    }
   ],
   "source": [
    "!qiime tools import \\\n",
    "  --type 'SampleData[PairedEndSequencesWithQuality]' \\\n",
    "  --input-path casava-18-paired-end-demultiplexed \\\n",
    "  --input-format CasavaOneEightSingleLanePerSampleDirFmt \\\n",
    "  --output-path demux-paired-end.qza"
   ]
  },
  {
   "cell_type": "code",
   "execution_count": null,
   "id": "260bb407",
   "metadata": {},
   "outputs": [],
   "source": []
  }
 ],
 "metadata": {
  "kernelspec": {
   "display_name": "qiime2-2023.5",
   "language": "python",
   "name": "qiime2-2023.5"
  },
  "language_info": {
   "codemirror_mode": {
    "name": "ipython",
    "version": 3
   },
   "file_extension": ".py",
   "mimetype": "text/x-python",
   "name": "python",
   "nbconvert_exporter": "python",
   "pygments_lexer": "ipython3",
   "version": "3.11.4"
  }
 },
 "nbformat": 4,
 "nbformat_minor": 5
}
