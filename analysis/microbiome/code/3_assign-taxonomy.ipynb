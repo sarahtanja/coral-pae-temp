{
 "cells": [
  {
   "cell_type": "raw",
   "id": "e15ca787-fd40-4888-94e7-b78a721b05b9",
   "metadata": {},
   "source": [
    "---\n",
    "title: \"Microbiome Sequence Analysis\"\n",
    "subtitle: \"Community composition from 16S Sequence Data of Montipora capitata corals exposed to heat and plasticizers\"\n",
    "author: \"Sarah Tanja\"\n",
    "format: html\n",
    "editor: visual\n",
    "toc: true\n",
    "toc-title: Contents <i class=\"bi bi-bookmark-heart\"></i>\n",
    "toc-depth: 5\n",
    "toc-location: left\n",
    "reference-location: margin\n",
    "citation-location: margin\n",
    "bibliography: ./references/qiime2.bib\n",
    "---"
   ]
  },
  {
   "cell_type": "markdown",
   "id": "56c12bb8-df65-4c49-b01a-11d3b1b8b664",
   "metadata": {},
   "source": [
    "The goals of this script are:\n",
    "1. To assign taxonomy to all the sequences in the feature table. We get to find out who these features are!"
   ]
  },
  {
   "cell_type": "markdown",
   "id": "8a7997d9-10ca-4323-85e2-676ee96f60b5",
   "metadata": {},
   "source": [
    "## Python 3 API import qiime plugins"
   ]
  },
  {
   "cell_type": "code",
   "execution_count": 1,
   "id": "a593cfd4-fcb7-4a42-8440-457f99e65015",
   "metadata": {},
   "outputs": [],
   "source": [
    "from qiime2 import Visualization\n",
    "from qiime2 import Artifact"
   ]
  },
  {
   "attachments": {},
   "cell_type": "markdown",
   "id": "050e112f-8ac8-4d92-a755-57ae21f3d236",
   "metadata": {},
   "source": [
    "# [Taxonomic Classification](https://docs.qiime2.org/2023.5/tutorials/moving-pictures-usage/#taxonomic-analysis:~:text=and%20bottom%20plots.)\n",
    "\n",
    "In the next sections we’ll begin to explore the taxonomic composition of the samples, and again relate that to sample metadata. The first step in this process is to assign taxonomy to the sequences in our FeatureData[Sequence] QIIME 2 artifact. We’ll do that using a pre-trained Naive Bayes classifier and the q2-feature-classifier plugin. This classifier was trained on the Greengenes 13_8 99% OTUs, where the sequences have been trimmed to only include 250 bases from the region of the 16S that was sequenced in this analysis (the V4 region, bound by the 515F/806R primer pair). We’ll apply this classifier to our sequences, and we can generate a visualization of the resulting mapping from sequence to taxonomy.\n",
    "\n",
    "Taxonomic classifiers perform best when they are trained based on your specific sample preparation and sequencing parameters, including the primers that were used for amplification and the length of your sequence reads. Therefore in general you should follow the instructions in Training feature classifiers with q2-feature-classifier to train your own taxonomic classifiers. We provide some common classifiers on our data resources page, including Silva-based 16S classifiers, though in the future we may stop providing these in favor of having users train their own classifiers which will be most relevant to their sequence data.\n",
    "\n",
    "We can learn a lot from diversity metrics, alpha and beta. But to really dig into the data, we need to know what microbes are in each sample 🦠. To do this, we'll classify the reads in QIIME2 using a Bayesian classifier. Several such classifiers are available at https://docs.qiime2.org/2023.9/data-resources/#taxonomy-classifiers-for-use-with-q2-feature-classifier"
   ]
  },
  {
   "cell_type": "code",
   "execution_count": 2,
   "id": "a863ce8b-8b0c-4d30-a106-e7ed87ef06c4",
   "metadata": {},
   "outputs": [
    {
     "name": "stdout",
     "output_type": "stream",
     "text": [
      "Requirement already satisfied: wget in /home/shared/8TB_HDD_02/stanja/miniconda3/envs/qiime2-2023.5/lib/python3.8/site-packages (3.2)\n"
     ]
    }
   ],
   "source": [
    "!pip install wget\n",
    "import wget"
   ]
  },
  {
   "cell_type": "code",
   "execution_count": 4,
   "id": "d91908d0-8b59-4bd5-964a-edea45d4d9aa",
   "metadata": {},
   "outputs": [],
   "source": [
    "import os\n",
    "import shutil"
   ]
  },
  {
   "cell_type": "code",
   "execution_count": 5,
   "id": "ac669cb6-a420-4769-8932-75f1a055b8a3",
   "metadata": {},
   "outputs": [
    {
     "name": "stdout",
     "output_type": "stream",
     "text": [
      "Creating taxonomy-classifiers in ../data...\n"
     ]
    }
   ],
   "source": [
    "# Specify the path to the \"output\" directory\n",
    "output_dir = \"../data\"  # Replace with the actual path to your \"output\" directory\n",
    "\n",
    "# Directory name\n",
    "dir_name = \"taxonomy-classifiers\"\n",
    "\n",
    "# Full path to the \"demux\" directory in the \"output\" directory\n",
    "dir_path = os.path.join(output_dir, dir_name)\n",
    "\n",
    "# Check if the directory exists\n",
    "if os.path.exists(dir_path) and os.path.isdir(dir_path):\n",
    "    # If it exists, delete its contents\n",
    "    print(f\"Removing contents of {dir_name}...\")\n",
    "    for item in os.listdir(dir_path):\n",
    "        item_path = os.path.join(dir_path, item)\n",
    "        if os.path.isfile(item_path):\n",
    "            os.remove(item_path)\n",
    "        elif os.path.isdir(item_path):\n",
    "            shutil.rmtree(item_path)\n",
    "else:\n",
    "    # If it doesn't exist, create an empty folder\n",
    "    print(f\"Creating {dir_name} in {output_dir}...\")\n",
    "    os.makedirs(dir_path)"
   ]
  },
  {
   "cell_type": "code",
   "execution_count": 7,
   "id": "ba89c85e-29fc-4e67-acee-acc5c5e3ad01",
   "metadata": {},
   "outputs": [
    {
     "name": "stdout",
     "output_type": "stream",
     "text": [
      "100% [......................................................................] 148294965 / 148294965"
     ]
    },
    {
     "data": {
      "text/plain": [
       "'../data/taxonomy-classifiers//silva-138-99-515-806-nb-classifier (1).qza'"
      ]
     },
     "execution_count": 7,
     "metadata": {},
     "output_type": "execute_result"
    }
   ],
   "source": [
    "# Specify the directory where you want to save the downloaded file\n",
    "output_directory = '../data/taxonomy-classifiers/'\n",
    "\n",
    "# Download the file and save it to the specified directory\n",
    "wget.download('https://data.qiime2.org/2023.9/common/silva-138-99-515-806-nb-classifier.qza', out=output_directory)"
   ]
  },
  {
   "cell_type": "markdown",
   "id": "54974b94-da03-4bf5-b472-ff128d8ed9d3",
   "metadata": {},
   "source": [
    "# other potential taxonomy classifiers to get/try?\n",
    "https://data.qiime2.org/2023.9/common/silva-138-99-nb-classifier.qza\n",
    "https://data.qiime2.org/2023.9/common/silva-138-99-515-806-nb-classifier.qza\n",
    "https://data.qiime2.org/classifiers/greengenes/gg_2022_10_backbone_full_length.nb.qza\n",
    "https://data.qiime2.org/classifiers/greengenes/gg_2022_10_backbone.v4.nb.qza\n",
    "http://ftp.microbio.me/greengenes_release/2022.10/"
   ]
  },
  {
   "cell_type": "markdown",
   "id": "e08a0af1-3913-435d-a3b5-88a6a7647465",
   "metadata": {},
   "source": [
    "## Silva 515/806"
   ]
  },
  {
   "cell_type": "code",
   "execution_count": 13,
   "id": "4dfddcfa-096c-4182-a04e-ccc8e2b6d917",
   "metadata": {},
   "outputs": [
    {
     "name": "stdout",
     "output_type": "stream",
     "text": [
      "Deleting taxonomy in ../output...\n"
     ]
    }
   ],
   "source": [
    "# Specify the path to the \"output\" directory\n",
    "output_dir = \"../output\"  # Replace with the actual path to your \"output\" directory\n",
    "\n",
    "# Directory name\n",
    "dir_name = \"taxonomy\"\n",
    "\n",
    "# Full path to the \"demux\" directory in the \"output\" directory\n",
    "dir_path = os.path.join(output_dir, dir_name)\n",
    "\n",
    "# Check if the directory exists and delete it if it does\n",
    "if os.path.exists(dir_path) and os.path.isdir(dir_path):\n",
    "    print(f\"Deleting {dir_name} in {output_dir}...\")\n",
    "    shutil.rmtree(dir_path)"
   ]
  },
  {
   "cell_type": "code",
   "execution_count": 14,
   "id": "c3c7dd91-dc38-4a75-bf27-b57851e091fe",
   "metadata": {},
   "outputs": [
    {
     "name": "stdout",
     "output_type": "stream",
     "text": [
      "\u001b[32mSaved FeatureData[Taxonomy] to: ../output/taxonomy/classification.qza\u001b[0m\n",
      "\u001b[0m"
     ]
    }
   ],
   "source": [
    "!qiime feature-classifier classify-sklearn \\\n",
    "    --i-reads ../output/dada2/representative_sequences.qza \\\n",
    "    --i-classifier ../data/taxonomy-classifiers/silva-138-99-515-806-nb-classifier.qza \\\n",
    "    --p-n-jobs 2 \\\n",
    "    --output-dir ../output/taxonomy --verbose"
   ]
  },
  {
   "cell_type": "code",
   "execution_count": 15,
   "id": "e16a9df2-96f0-45e8-8b2f-c500708b70bc",
   "metadata": {},
   "outputs": [
    {
     "name": "stdout",
     "output_type": "stream",
     "text": [
      "\u001b[32mSaved Visualization to: ../output/taxonomy/taxa_barplot.qzv\u001b[0m\n",
      "\u001b[0m"
     ]
    }
   ],
   "source": [
    "!qiime taxa barplot \\\n",
    "    --i-table ../output/dada2/table.qza \\\n",
    "    --i-taxonomy ../output/taxonomy/classification.qza \\\n",
    "    --m-metadata-file ../data/sample-metadata-verbose.tsv \\\n",
    "    --o-visualization ../output/taxonomy/taxa_barplot.qzv"
   ]
  },
  {
   "cell_type": "code",
   "execution_count": 16,
   "id": "9c31bc10-8c2e-492d-b14d-7594ae93746e",
   "metadata": {},
   "outputs": [
    {
     "data": {
      "text/html": [
       "<div><img onload=\"(function(div, url){\n",
       "if (typeof require !== 'undefined') {\n",
       "    var baseURL = require.toUrl('').split('/').slice(0, -2).join('/');\n",
       "} else {\n",
       "    var baseURL = JSON.parse(\n",
       "        document.getElementById('jupyter-config-data').innerHTML\n",
       "    ).baseUrl.slice(0, -1);\n",
       "}\n",
       "url = baseURL + url;\n",
       "fetch(url).then(function(res) {\n",
       "    if (res.status === 404) {\n",
       "        div.innerHTML = 'Install QIIME 2 Jupyter extension with:<br />' +\n",
       "                        '<code>jupyter serverextension enable --py qiime2' +\n",
       "                        ' --sys-prefix</code><br />then restart your server.' +\n",
       "                        '<br /><br />(Interactive output not available on ' +\n",
       "                        'static notebook viewer services like nbviewer.)';\n",
       "    } else if (res.status === 409) {\n",
       "        div.innerHTML = 'Visualization no longer in scope. Re-run this cell' +\n",
       "                        ' to see the visualization.';\n",
       "    } else if (res.ok) {\n",
       "        url = res.url;\n",
       "        div.innerHTML = '<iframe src=\\'' + url + '\\' style=\\'' +\n",
       "                        'width: 100%; height: 700px; border: 0;\\'>' +\n",
       "                        '</iframe><hr />Open in a: <a href=\\'' + url + '\\'' +\n",
       "                        ' target=\\'_blank\\'>new window</a>'\n",
       "    } else {\n",
       "        div.innerHTML = 'Something has gone wrong. Check notebook server for' +\n",
       "                        ' errors.';\n",
       "    }\n",
       "});\n",
       "})(this.parentElement, '/qiime2/redirect?location=/tmp/qiime2/stanja/data/e3ae5ea4-1d47-4230-af39-d39d15a61a6e')\" src=\"data:image/gif;base64,R0lGODlhAQABAIAAAP///wAAACH5BAEAAAAALAAAAAABAAEAAAICRAEAOw==\" /></div>"
      ],
      "text/plain": [
       "<visualization: Visualization uuid: e3ae5ea4-1d47-4230-af39-d39d15a61a6e>"
      ]
     },
     "execution_count": 16,
     "metadata": {},
     "output_type": "execute_result"
    }
   ],
   "source": [
    "Visualization.load(\"../output/taxonomy/taxa_barplot.qzv\")"
   ]
  },
  {
   "cell_type": "markdown",
   "id": "bf556fd5-ccec-4529-bbfa-8c0073941950",
   "metadata": {},
   "source": [
    "# Next Steps\n",
    "<br>\n",
    "- Filter all the bacteria that showed up in the 'blank' sample out of the treatment samples\n",
    "<br>\n",
    "- How do I interpret/integrate the mock community?\n",
    "<br>\n",
    "- Remove chloroplasts\n",
    "<br>\n",
    "- I want to know which taxa are uniquely present in each treatment, and which ones stay the same\n",
    " - ANCOM, composition plugin (apply ANalysis of Composition of Microbiomes (ANCOM) to identify features that are differentially abundant across groups\n",
    "<br>\n",
    "- Use [PICRUST](https://library.qiime2.org/plugins/q2-picrust2/13/) for functional analysis\n"
   ]
  }
 ],
 "metadata": {
  "kernelspec": {
   "display_name": "Python 3 (ipykernel)",
   "language": "python",
   "name": "python3"
  },
  "language_info": {
   "codemirror_mode": {
    "name": "ipython",
    "version": 3
   },
   "file_extension": ".py",
   "mimetype": "text/x-python",
   "name": "python",
   "nbconvert_exporter": "python",
   "pygments_lexer": "ipython3",
   "version": "3.8.16"
  }
 },
 "nbformat": 4,
 "nbformat_minor": 5
}
