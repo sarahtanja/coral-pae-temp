{
 "cells": [
  {
   "cell_type": "raw",
   "id": "e15ca787-fd40-4888-94e7-b78a721b05b9",
   "metadata": {},
   "source": [
    "---\n",
    "title: \"Microbiome Sequence Analysis\"\n",
    "subtitle: \"Community composition from 16S Sequence Data of Montipora capitata corals exposed to heat and plasticizers\"\n",
    "author: \"Sarah Tanja\"\n",
    "format: html\n",
    "editor: visual\n",
    "toc: true\n",
    "toc-title: Contents <i class=\"bi bi-bookmark-heart\"></i>\n",
    "toc-depth: 5\n",
    "toc-location: left\n",
    "reference-location: margin\n",
    "citation-location: margin\n",
    "bibliography: ./references/qiime2.bib\n",
    "---"
   ]
  },
  {
   "cell_type": "markdown",
   "id": "56c12bb8-df65-4c49-b01a-11d3b1b8b664",
   "metadata": {},
   "source": [
    "The goals of this script are:\n",
    "1. To assign taxonomy to all the sequences in the feature table. We get to find out who these features are!"
   ]
  },
  {
   "cell_type": "markdown",
   "id": "8a7997d9-10ca-4323-85e2-676ee96f60b5",
   "metadata": {},
   "source": [
    "## Python 3 API import qiime plugins"
   ]
  },
  {
   "cell_type": "code",
   "execution_count": 3,
   "id": "a593cfd4-fcb7-4a42-8440-457f99e65015",
   "metadata": {},
   "outputs": [],
   "source": [
    "from qiime2 import Visualization\n",
    "from qiime2 import Artifact"
   ]
  },
  {
   "attachments": {},
   "cell_type": "markdown",
   "id": "050e112f-8ac8-4d92-a755-57ae21f3d236",
   "metadata": {},
   "source": [
    "# [Taxonomic Classification](https://docs.qiime2.org/2023.5/tutorials/moving-pictures-usage/#taxonomic-analysis:~:text=and%20bottom%20plots.)\n",
    "\n",
    "In the next sections we’ll begin to explore the taxonomic composition of the samples, and again relate that to sample metadata. The first step in this process is to assign taxonomy to the sequences in our FeatureData[Sequence] QIIME 2 artifact. We’ll do that using a pre-trained Naive Bayes classifier and the q2-feature-classifier plugin. This classifier was trained on the Greengenes 13_8 99% OTUs, where the sequences have been trimmed to only include 250 bases from the region of the 16S that was sequenced in this analysis (the V4 region, bound by the 515F/806R primer pair). We’ll apply this classifier to our sequences, and we can generate a visualization of the resulting mapping from sequence to taxonomy.\n",
    "\n",
    "Taxonomic classifiers perform best when they are trained based on your specific sample preparation and sequencing parameters, including the primers that were used for amplification and the length of your sequence reads. Therefore in general you should follow the instructions in Training feature classifiers with q2-feature-classifier to train your own taxonomic classifiers. We provide some common classifiers on our data resources page, including Silva-based 16S classifiers, though in the future we may stop providing these in favor of having users train their own classifiers which will be most relevant to their sequence data.\n",
    "\n",
    "We can learn a lot from diversity metrics, alpha and beta. But to really dig into the data, we need to know what microbes are in each sample 🦠. To do this, we'll classify the reads in QIIME2 using a Bayesian classifier. Several such classifiers are available at https://docs.qiime2.org/2023.9/data-resources/#taxonomy-classifiers-for-use-with-q2-feature-classifier"
   ]
  },
  {
   "cell_type": "code",
   "execution_count": null,
   "id": "a863ce8b-8b0c-4d30-a106-e7ed87ef06c4",
   "metadata": {},
   "outputs": [],
   "source": [
    "!pip install wget\n",
    "import wget"
   ]
  },
  {
   "cell_type": "code",
   "execution_count": 78,
   "id": "ba89c85e-29fc-4e67-acee-acc5c5e3ad01",
   "metadata": {},
   "outputs": [
    {
     "name": "stdout",
     "output_type": "stream",
     "text": [
      "100% [......................................................................] 148294965 / 148294965"
     ]
    },
    {
     "data": {
      "text/plain": [
       "'../data/taxonomy-classifiers//silva-138-99-515-806-nb-classifier.qza'"
      ]
     },
     "execution_count": 78,
     "metadata": {},
     "output_type": "execute_result"
    }
   ],
   "source": [
    "# Specify the directory where you want to save the downloaded file\n",
    "output_directory = '../data/taxonomy-classifiers/'\n",
    "\n",
    "# Download the file and save it to the specified directory\n",
    "wget.download('https://data.qiime2.org/2023.9/common/silva-138-99-nb-classifier.qza', out=output_directory)\n",
    "wget.download('https://data.qiime2.org/2023.9/common/silva-138-99-515-806-nb-classifier.qza', out=output_directory)"
   ]
  },
  {
   "cell_type": "code",
   "execution_count": null,
   "id": "0b1b7b6c-d27c-4921-a635-1a8fc1a466d4",
   "metadata": {},
   "outputs": [],
   "source": [
    "# other potential taxonomy classifiers to get/try?\n",
    "https://data.qiime2.org/2023.9/common/silva-138-99-nb-classifier.qza\n",
    "https://data.qiime2.org/2023.9/common/silva-138-99-515-806-nb-classifier.qza\n",
    "https://data.qiime2.org/classifiers/greengenes/gg_2022_10_backbone_full_length.nb.qza\n",
    "https://data.qiime2.org/classifiers/greengenes/gg_2022_10_backbone.v4.nb.qza\n",
    "http://ftp.microbio.me/greengenes_release/2022.10/"
   ]
  },
  {
   "cell_type": "code",
   "execution_count": 79,
   "id": "d97eba6e-3b17-49cf-ae98-a0fd945b1a99",
   "metadata": {},
   "outputs": [
    {
     "name": "stdout",
     "output_type": "stream",
     "text": [
      "Usage: \u001b[94mqiime feature-classifier classify-sklearn\u001b[0m [OPTIONS]\n",
      "\n",
      "  Classify reads by taxon using a fitted classifier.\n",
      "\n",
      "\u001b[1mInputs\u001b[0m:\n",
      "  \u001b[94m\u001b[4m--i-reads\u001b[0m ARTIFACT \u001b[32mFeatureData[Sequence]\u001b[0m\n",
      "                         The feature data to be classified.         \u001b[35m[required]\u001b[0m\n",
      "  \u001b[94m\u001b[4m--i-classifier\u001b[0m ARTIFACT\n",
      "    \u001b[32mTaxonomicClassifier\u001b[0m  The taxonomic classifier for classifying the reads.\n",
      "                                                                    \u001b[35m[required]\u001b[0m\n",
      "\u001b[1mParameters\u001b[0m:\n",
      "  \u001b[94m--p-reads-per-batch\u001b[0m VALUE \u001b[32mInt % Range(1, None) | Str % Choices('auto')\u001b[0m\n",
      "                         Number of reads to process in each batch. If \"auto\",\n",
      "                         this parameter is autoscaled to min( number of query\n",
      "                         sequences / \u001b[4mn-jobs\u001b[0m, 20000).         \u001b[35m[default: 'auto']\u001b[0m\n",
      "  \u001b[94m--p-n-jobs\u001b[0m INTEGER     The maximum number of concurrently worker processes.\n",
      "                         If -1 all CPUs are used. If 1 is given, no parallel\n",
      "                         computing code is used at all, which is useful for\n",
      "                         debugging. For \u001b[4mn-jobs\u001b[0m below -1, (n_cpus + 1 + \u001b[4mn-jobs\u001b[0m)\n",
      "                         are used. Thus for \u001b[4mn-jobs\u001b[0m = -2, all CPUs but one are\n",
      "                         used.                                    \u001b[35m[default: 1]\u001b[0m\n",
      "  \u001b[94m--p-pre-dispatch\u001b[0m TEXT  \"all\" or expression, as in \"3*n_jobs\". The number of\n",
      "                         batches (of tasks) to be pre-dispatched.\n",
      "                                                         \u001b[35m[default: '2*n_jobs']\u001b[0m\n",
      "  \u001b[94m--p-confidence\u001b[0m VALUE \u001b[32mFloat % Range(0, 1, inclusive_end=True) | Str %\u001b[0m\n",
      "    \u001b[32mChoices('disable')\u001b[0m   Confidence threshold for limiting taxonomic depth.\n",
      "                         Set to \"disable\" to disable confidence calculation,\n",
      "                         or 0 to calculate confidence but not apply it to\n",
      "                         limit the taxonomic depth of the assignments.\n",
      "                                                                \u001b[35m[default: 0.7]\u001b[0m\n",
      "  \u001b[94m--p-read-orientation\u001b[0m TEXT \u001b[32mChoices('same', 'reverse-complement', 'auto')\u001b[0m\n",
      "                         Direction of reads with respect to reference\n",
      "                         sequences. same will cause reads to be classified\n",
      "                         unchanged; reverse-complement will cause reads to be\n",
      "                         reversed and complemented prior to classification.\n",
      "                         \"auto\" will autodetect orientation based on the\n",
      "                         confidence estimates for the first 100 reads.\n",
      "                                                             \u001b[35m[default: 'auto']\u001b[0m\n",
      "\u001b[1mOutputs\u001b[0m:\n",
      "  \u001b[94m\u001b[4m--o-classification\u001b[0m ARTIFACT \u001b[32mFeatureData[Taxonomy]\u001b[0m\n",
      "                                                                    \u001b[35m[required]\u001b[0m\n",
      "\u001b[1mMiscellaneous\u001b[0m:\n",
      "  \u001b[94m--output-dir\u001b[0m PATH      Output unspecified results to a directory\n",
      "  \u001b[94m--verbose\u001b[0m / \u001b[94m--quiet\u001b[0m    Display verbose output to stdout and/or stderr\n",
      "                         during execution of this action. Or silence output if\n",
      "                         execution is successful (silence is golden).\n",
      "  \u001b[94m--example-data\u001b[0m PATH    Write example data and exit.\n",
      "  \u001b[94m--citations\u001b[0m            Show citations and exit.\n",
      "  \u001b[94m--help\u001b[0m                 Show this message and exit.\n",
      "\n",
      "\u001b[33m                  There were some problems with the command:                  \u001b[0m\n",
      "\u001b[31m\u001b[1m (1/2) Invalid value for '--i-classifier': ../data/taxonomy-\n",
      "  classifier/silva-138-99-515-806.qza does not exist.\u001b[0m\n",
      "\u001b[31m\u001b[1m (2/2) Invalid value for '--o-classification': Directory '../output/taxon'\n",
      "  does not exist, cannot save 'taxa.qza' into it.\u001b[0m\n",
      "\u001b[0m"
     ]
    }
   ],
   "source": [
    "!qiime feature-classifier classify-sklearn \\\n",
    "    --i-reads ../output/dada/representative_sequences.qza \\\n",
    "    --i-classifier ../data/taxonomy-classifier/silva-138-99-515-806.qza \\\n",
    "    --p-n-jobs 2 \\\n",
    "    --o-classification ../output/taxon/taxa.qza"
   ]
  },
  {
   "cell_type": "markdown",
   "id": "e08a0af1-3913-435d-a3b5-88a6a7647465",
   "metadata": {},
   "source": [
    "## Silva 515/806"
   ]
  },
  {
   "cell_type": "code",
   "execution_count": 82,
   "id": "c3c7dd91-dc38-4a75-bf27-b57851e091fe",
   "metadata": {},
   "outputs": [
    {
     "name": "stdout",
     "output_type": "stream",
     "text": [
      "\u001b[32mSaved FeatureData[Taxonomy] to: ../output/taxonomy/classification.qza\u001b[0m\n",
      "\u001b[0m"
     ]
    }
   ],
   "source": [
    "!qiime feature-classifier classify-sklearn \\\n",
    "    --i-reads ../output/dada/representative_sequences.qza \\\n",
    "    --i-classifier ../data/taxonomy-classifiers/silva-138-99-515-806-nb-classifier.qza \\\n",
    "    --p-n-jobs 2 \\\n",
    "    --output-dir ../output/taxonomy"
   ]
  },
  {
   "cell_type": "code",
   "execution_count": 1,
   "id": "e16a9df2-96f0-45e8-8b2f-c500708b70bc",
   "metadata": {},
   "outputs": [
    {
     "name": "stdout",
     "output_type": "stream",
     "text": [
      "\u001b[32mSaved Visualization to: ../output/taxonomy/taxa_barplot.qzv\u001b[0m\n",
      "\u001b[0m"
     ]
    }
   ],
   "source": [
    "!qiime taxa barplot \\\n",
    "    --i-table ../output/dada/table.qza \\\n",
    "    --i-taxonomy ../output/taxonomy/classification.qza \\\n",
    "    --m-metadata-file ../data/sample-metadata-verbose.tsv \\\n",
    "    --o-visualization ../output/taxonomy/taxa_barplot.qzv"
   ]
  },
  {
   "cell_type": "code",
   "execution_count": 4,
   "id": "9c31bc10-8c2e-492d-b14d-7594ae93746e",
   "metadata": {},
   "outputs": [
    {
     "data": {
      "text/html": [
       "<div><img onload=\"(function(div, url){\n",
       "if (typeof require !== 'undefined') {\n",
       "    var baseURL = require.toUrl('').split('/').slice(0, -2).join('/');\n",
       "} else {\n",
       "    var baseURL = JSON.parse(\n",
       "        document.getElementById('jupyter-config-data').innerHTML\n",
       "    ).baseUrl.slice(0, -1);\n",
       "}\n",
       "url = baseURL + url;\n",
       "fetch(url).then(function(res) {\n",
       "    if (res.status === 404) {\n",
       "        div.innerHTML = 'Install QIIME 2 Jupyter extension with:<br />' +\n",
       "                        '<code>jupyter serverextension enable --py qiime2' +\n",
       "                        ' --sys-prefix</code><br />then restart your server.' +\n",
       "                        '<br /><br />(Interactive output not available on ' +\n",
       "                        'static notebook viewer services like nbviewer.)';\n",
       "    } else if (res.status === 409) {\n",
       "        div.innerHTML = 'Visualization no longer in scope. Re-run this cell' +\n",
       "                        ' to see the visualization.';\n",
       "    } else if (res.ok) {\n",
       "        url = res.url;\n",
       "        div.innerHTML = '<iframe src=\\'' + url + '\\' style=\\'' +\n",
       "                        'width: 100%; height: 700px; border: 0;\\'>' +\n",
       "                        '</iframe><hr />Open in a: <a href=\\'' + url + '\\'' +\n",
       "                        ' target=\\'_blank\\'>new window</a>'\n",
       "    } else {\n",
       "        div.innerHTML = 'Something has gone wrong. Check notebook server for' +\n",
       "                        ' errors.';\n",
       "    }\n",
       "});\n",
       "})(this.parentElement, '/qiime2/redirect?location=/tmp/qiime2/stanja/data/819f146b-08a7-4279-a961-bb9ef059c363')\" src=\"data:image/gif;base64,R0lGODlhAQABAIAAAP///wAAACH5BAEAAAAALAAAAAABAAEAAAICRAEAOw==\" /></div>"
      ],
      "text/plain": [
       "<visualization: Visualization uuid: 819f146b-08a7-4279-a961-bb9ef059c363>"
      ]
     },
     "execution_count": 4,
     "metadata": {},
     "output_type": "execute_result"
    }
   ],
   "source": [
    "Visualization.load(\"../output/taxonomy/taxa_barplot.qzv\")"
   ]
  },
  {
   "cell_type": "markdown",
   "id": "bf556fd5-ccec-4529-bbfa-8c0073941950",
   "metadata": {},
   "source": [
    "# Next Steps\n",
    "<br>\n",
    "- Filter all the bacteria that showed up in the 'blank' sample out of the treatment samples\n",
    "<br>\n",
    "- How do I interpret/integrate the mock community?\n",
    "<br>\n",
    "- Remove chloroplasts\n",
    "<br>\n",
    "- I want to know which taxa are uniquely present in each treatment, and which ones stay the same\n",
    " - ANCOM, composition plugin (apply ANalysis of Composition of Microbiomes (ANCOM) to identify features that are differentially abundant across groups\n",
    "<br>\n",
    "- Use [PICRUST](https://library.qiime2.org/plugins/q2-picrust2/13/) for functional analysis\n"
   ]
  }
 ],
 "metadata": {
  "kernelspec": {
   "display_name": "Python 3 (ipykernel)",
   "language": "python",
   "name": "python3"
  },
  "language_info": {
   "codemirror_mode": {
    "name": "ipython",
    "version": 3
   },
   "file_extension": ".py",
   "mimetype": "text/x-python",
   "name": "python",
   "nbconvert_exporter": "python",
   "pygments_lexer": "ipython3",
   "version": "3.8.16"
  }
 },
 "nbformat": 4,
 "nbformat_minor": 5
}
