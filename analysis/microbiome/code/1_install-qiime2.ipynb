{
 "cells": [
  {
   "cell_type": "code",
   "execution_count": null,
   "id": "fff6773f-e36a-4beb-bb52-f269914b04ed",
   "metadata": {},
   "outputs": [],
   "source": [
    "---\n",
    "title: \"Microbiome Sequence Analysis\"\n",
    "subtitle: \"Setting Up The Workflow: Git Credentials, Jupyter, and Installing QIIME 2\"\n",
    "author: \"Sarah Tanja\"\n",
    "format: html\n",
    "editor: visual\n",
    "toc: true\n",
    "toc-title: Contents <i class=\"bi bi-bookmark-heart\"></i>\n",
    "toc-depth: 5\n",
    "toc-location: left\n",
    "---"
   ]
  },
  {
   "cell_type": "markdown",
   "id": "8aeb31eb-bbd9-460d-bed3-4a6b5a6e5523",
   "metadata": {},
   "source": [
    ":::callout-info\n",
    "I am working on a PC within a Windows Subsystem for Linux (WSL) and using GitHub to backup my code files \n",
    ":::"
   ]
  },
  {
   "cell_type": "markdown",
   "id": "93bea845-02e7-4da6-88c6-5c023ca0b870",
   "metadata": {},
   "source": [
    "## Installing QIIME 2 Overview\n",
    "\n",
    "Here I am installing QIIME 2 on my personal PC within a `conda` environment by following the steps outlined in the [QIIME 2 docs webpage](https://docs.qiime2.org/2023.5/install/native/).\n",
    "\n",
    "To do this I have to:\n",
    "- Install `Miniconda`\n",
    "- Test & Update `Miniconda`\n",
    "- Install `QIIME 2`"
   ]
  },
  {
   "cell_type": "markdown",
   "id": "f1f416a5-1315-4186-9223-caddc21d8788",
   "metadata": {},
   "source": [
    "## Install `Miniconda`\n",
    "\n",
    "[Miniconda](https://docs.conda.io/en/latest/miniconda.html) provides the `conda` environment and package manager, and is the recommended way to install `QIIME 2`. Follow the [Miniconda instructions](https://conda.io/projects/conda/en/latest/user-guide/install/index.html) for downloading and installing `Miniconda`. Here, I choose to work with `Miniconda3`, because I also have `Python 3` set as my kernel. I am also following [instructions for downloading to a Linux environment](https://conda.io/projects/conda/en/latest/user-guide/install/linux.html), because I am operating inside the WSL.\n",
    "\n",
    "It is important to follow all of the directions, particularly ensuring that you run `conda init` at the end of the installation process, to ensure that your `Miniconda` installation is fully installed and available for the following commands."
   ]
  },
  {
   "cell_type": "markdown",
   "id": "6e24368d-1322-4b66-a889-4af21be82de7",
   "metadata": {},
   "source": [
    "Open Terminal application and copy the following into your terminal window:"
   ]
  },
  {
   "cell_type": "markdown",
   "id": "e607e230-91a4-4d70-9abe-17e040ea8e17",
   "metadata": {},
   "source": [
    "In the Ubuntu terminal run:"
   ]
  },
  {
   "cell_type": "raw",
   "id": "fbbbeca4-0263-42f4-9f78-a266cb8babe2",
   "metadata": {},
   "source": [
    "curl -O https://repo.anaconda.com/miniconda/Miniconda3-py311_23.5.2-0-Linux-x86_64.sh"
   ]
  },
  {
   "cell_type": "code",
   "execution_count": 3,
   "id": "877b4899-2e33-486e-86ea-d3d9d25a4389",
   "metadata": {
    "scrolled": true
   },
   "outputs": [
    {
     "ename": "SyntaxError",
     "evalue": "invalid syntax (911247533.py, line 1)",
     "output_type": "error",
     "traceback": [
      "\u001b[0;36m  Cell \u001b[0;32mIn[3], line 1\u001b[0;36m\u001b[0m\n\u001b[0;31m    bash Miniconda3-latest-Linux-x86_64.sh\u001b[0m\n\u001b[0m         ^\u001b[0m\n\u001b[0;31mSyntaxError\u001b[0m\u001b[0;31m:\u001b[0m invalid syntax\n"
     ]
    }
   ],
   "source": [
    "bash Miniconda3-py311_23.5.2-0-Linux-x86_64.sh"
   ]
  },
  {
   "cell_type": "markdown",
   "id": "ed2d5da3-1a2e-4dbd-a3c6-c362739a8fc8",
   "metadata": {},
   "source": [
    "Read the Miniconda End User License Agreement in the Terminal, press 'ENTER' to reach the bottom (careful once you hit the 'Export; Cryptography Notice' header or you'll blow past it and have to re-execute the above bash command) where you will be prompted with:\n",
    "\n",
    "Do you accept the license terms? [yes|no]\n",
    " \n",
    "[no] >>> yes \n",
    "\r\n",
    "Miniconda3 will now be installed into this locatio n:\r\n",
    "/home/sarahtanja/minico\n",
    "  3\r\n",
    "\r\n",
    "  - Press ENTER to confirm the lo\n",
    "  ion\r\n",
    "  - Press CTRL-C to abort the insta\n",
    "   tion\r\n",
    "  - Or specify a different locati\n",
    "   \n",
    "and\n",
    "\n",
    "Do you wish the installer to initialize Miniconda3\r\n",
    "by running conda init? [yes|no]\r\n",
    "[no] >>> y\n",
    "\n",
    "eson below\n"
   ]
  },
  {
   "cell_type": "markdown",
   "id": "a3d6efb0-9b74-41cf-881a-2df7f17e5809",
   "metadata": {},
   "source": [
    "Follow all prompts in the Terminal to complete the install."
   ]
  },
  {
   "cell_type": "markdown",
   "id": "5bb3b382-ae58-40fc-803c-bbab7a83d17d",
   "metadata": {},
   "source": [
    "## Test & Update `Miniconda`"
   ]
  },
  {
   "cell_type": "markdown",
   "id": "a96e5078-e12a-40de-8451-62ca6c77985a",
   "metadata": {},
   "source": [
    "In the Ubuntu terminal run:"
   ]
  },
  {
   "cell_type": "code",
   "execution_count": null,
   "id": "8b0ab28d-d4bc-4f06-a357-8f0b89ad318a",
   "metadata": {},
   "outputs": [],
   "source": [
    "conda list\n",
    "conda update conda"
   ]
  },
  {
   "cell_type": "code",
   "execution_count": null,
   "id": "bf265d83-47e4-4e3a-bb15-b2044c801d0d",
   "metadata": {},
   "outputs": [],
   "source": [
    "curl -O https://repo.anaconda.com/miniconda/Miniconda3-py311_23.5.2-0-Linux-x86_64.sh"
   ]
  },
  {
   "cell_type": "markdown",
   "id": "aeb416e8-a11f-4247-a453-cb8cf46cabbe",
   "metadata": {},
   "source": [
    "## Install `wget`"
   ]
  },
  {
   "cell_type": "markdown",
   "id": "af745bce-3ef1-4e3d-b6b7-46baf5f3e240",
   "metadata": {},
   "source": [
    "In the Ubuntu terminal run:"
   ]
  },
  {
   "cell_type": "code",
   "execution_count": null,
   "id": "76bed1f2-d35e-4e40-a5a5-c4b28d9b253e",
   "metadata": {},
   "outputs": [],
   "source": [
    "conda install wget"
   ]
  },
  {
   "cell_type": "markdown",
   "id": "d64ed129-93fd-42d0-ba8e-a224eb8f7c67",
   "metadata": {},
   "source": [
    "::: callout-tip\n",
    "follow all in-terminal prompts to complete the install\n",
    ":::"
   ]
  },
  {
   "cell_type": "markdown",
   "id": "5ae21a86-043c-4204-b7b2-aaad3defc9c5",
   "metadata": {},
   "source": [
    "## Install `QIIME 2`"
   ]
  },
  {
   "cell_type": "markdown",
   "id": "351f0301-932d-4afd-ad6e-335b77d49b20",
   "metadata": {},
   "source": [
    "In the Ubuntu terminal run:"
   ]
  },
  {
   "cell_type": "code",
   "execution_count": 2,
   "id": "afaac21a-bc81-4178-bba7-975cfd81a222",
   "metadata": {},
   "outputs": [
    {
     "ename": "SyntaxError",
     "evalue": "invalid syntax (3812832855.py, line 1)",
     "output_type": "error",
     "traceback": [
      "\u001b[0;36m  Cell \u001b[0;32mIn[2], line 1\u001b[0;36m\u001b[0m\n\u001b[0;31m    wget https://data.qiime2.org/distro/core/qiime2-2023.5-py38-linux-conda.yml\u001b[0m\n\u001b[0m         ^\u001b[0m\n\u001b[0;31mSyntaxError\u001b[0m\u001b[0;31m:\u001b[0m invalid syntax\n"
     ]
    }
   ],
   "source": [
    "wget https://data.qiime2.org/distro/core/qiime2-2023.5-py38-linux-conda.yml"
   ]
  },
  {
   "cell_type": "code",
   "execution_count": null,
   "id": "7fb72399-4673-4671-a988-a92624a3571b",
   "metadata": {},
   "outputs": [],
   "source": [
    "conda env create -n qiime2-2023.5 --file qiime2-2023.5-py38-linux-conda.yml"
   ]
  },
  {
   "cell_type": "markdown",
   "id": "730960d8-452c-4db6-9a0d-5450ab3cf919",
   "metadata": {},
   "source": [
    "![qiime-2-terminal-screenshot](../references/1_install/qiime2-install-terminal-screenshot.png)"
   ]
  },
  {
   "cell_type": "markdown",
   "id": "8df99ce0-3023-40b9-baf9-70ad7be4ac4e",
   "metadata": {},
   "source": [
    "Running the following code removed the .yml file from the home directory"
   ]
  },
  {
   "cell_type": "code",
   "execution_count": null,
   "id": "b9704eb1-655c-4ea1-80a9-932140059f25",
   "metadata": {},
   "outputs": [],
   "source": [
    "rm qiime2-2023.5-py38-linux-conda.yml"
   ]
  },
  {
   "cell_type": "code",
   "execution_count": null,
   "id": "f261bdca-84ad-4326-b4a0-9e4402ffb222",
   "metadata": {},
   "outputs": [],
   "source": []
  },
  {
   "cell_type": "code",
   "execution_count": 1,
   "id": "45b87c7b-fe0f-439e-bee0-6c98a1d17e4c",
   "metadata": {
    "scrolled": true
   },
   "outputs": [
    {
     "ename": "ValueError",
     "evalue": "The python kernel does not appear to be a conda environment.  Please use ``%pip install`` instead.",
     "output_type": "error",
     "traceback": [
      "\u001b[0;31m---------------------------------------------------------------------------\u001b[0m",
      "\u001b[0;31mValueError\u001b[0m                                Traceback (most recent call last)",
      "Cell \u001b[0;32mIn[1], line 1\u001b[0m\n\u001b[0;32m----> 1\u001b[0m \u001b[43mget_ipython\u001b[49m\u001b[43m(\u001b[49m\u001b[43m)\u001b[49m\u001b[38;5;241;43m.\u001b[39;49m\u001b[43mrun_line_magic\u001b[49m\u001b[43m(\u001b[49m\u001b[38;5;124;43m'\u001b[39;49m\u001b[38;5;124;43mconda\u001b[39;49m\u001b[38;5;124;43m'\u001b[39;49m\u001b[43m,\u001b[49m\u001b[43m \u001b[49m\u001b[38;5;124;43m'\u001b[39;49m\u001b[38;5;124;43mactivate qiime2-2023.5\u001b[39;49m\u001b[38;5;124;43m'\u001b[39;49m\u001b[43m)\u001b[49m\n",
      "File \u001b[0;32m~/.local/lib/python3.8/site-packages/IPython/core/interactiveshell.py:2417\u001b[0m, in \u001b[0;36mInteractiveShell.run_line_magic\u001b[0;34m(self, magic_name, line, _stack_depth)\u001b[0m\n\u001b[1;32m   2415\u001b[0m     kwargs[\u001b[38;5;124m'\u001b[39m\u001b[38;5;124mlocal_ns\u001b[39m\u001b[38;5;124m'\u001b[39m] \u001b[38;5;241m=\u001b[39m \u001b[38;5;28mself\u001b[39m\u001b[38;5;241m.\u001b[39mget_local_scope(stack_depth)\n\u001b[1;32m   2416\u001b[0m \u001b[38;5;28;01mwith\u001b[39;00m \u001b[38;5;28mself\u001b[39m\u001b[38;5;241m.\u001b[39mbuiltin_trap:\n\u001b[0;32m-> 2417\u001b[0m     result \u001b[38;5;241m=\u001b[39m \u001b[43mfn\u001b[49m\u001b[43m(\u001b[49m\u001b[38;5;241;43m*\u001b[39;49m\u001b[43margs\u001b[49m\u001b[43m,\u001b[49m\u001b[43m \u001b[49m\u001b[38;5;241;43m*\u001b[39;49m\u001b[38;5;241;43m*\u001b[39;49m\u001b[43mkwargs\u001b[49m\u001b[43m)\u001b[49m\n\u001b[1;32m   2419\u001b[0m \u001b[38;5;66;03m# The code below prevents the output from being displayed\u001b[39;00m\n\u001b[1;32m   2420\u001b[0m \u001b[38;5;66;03m# when using magics with decodator @output_can_be_silenced\u001b[39;00m\n\u001b[1;32m   2421\u001b[0m \u001b[38;5;66;03m# when the last Python token in the expression is a ';'.\u001b[39;00m\n\u001b[1;32m   2422\u001b[0m \u001b[38;5;28;01mif\u001b[39;00m \u001b[38;5;28mgetattr\u001b[39m(fn, magic\u001b[38;5;241m.\u001b[39mMAGIC_OUTPUT_CAN_BE_SILENCED, \u001b[38;5;28;01mFalse\u001b[39;00m):\n",
      "File \u001b[0;32m~/.local/lib/python3.8/site-packages/IPython/core/magics/packaging.py:87\u001b[0m, in \u001b[0;36mPackagingMagics.conda\u001b[0;34m(self, line)\u001b[0m\n\u001b[1;32m     81\u001b[0m \u001b[38;5;250m\u001b[39m\u001b[38;5;124;03m\"\"\"Run the conda package manager within the current kernel.\u001b[39;00m\n\u001b[1;32m     82\u001b[0m \n\u001b[1;32m     83\u001b[0m \u001b[38;5;124;03mUsage:\u001b[39;00m\n\u001b[1;32m     84\u001b[0m \u001b[38;5;124;03m  %conda install [pkgs]\u001b[39;00m\n\u001b[1;32m     85\u001b[0m \u001b[38;5;124;03m\"\"\"\u001b[39;00m\n\u001b[1;32m     86\u001b[0m \u001b[38;5;28;01mif\u001b[39;00m \u001b[38;5;129;01mnot\u001b[39;00m _is_conda_environment():\n\u001b[0;32m---> 87\u001b[0m     \u001b[38;5;28;01mraise\u001b[39;00m \u001b[38;5;167;01mValueError\u001b[39;00m(\u001b[38;5;124m\"\u001b[39m\u001b[38;5;124mThe python kernel does not appear to be a conda environment.  \u001b[39m\u001b[38;5;124m\"\u001b[39m\n\u001b[1;32m     88\u001b[0m                      \u001b[38;5;124m\"\u001b[39m\u001b[38;5;124mPlease use ``\u001b[39m\u001b[38;5;124m%\u001b[39m\u001b[38;5;124mpip install`` instead.\u001b[39m\u001b[38;5;124m\"\u001b[39m)\n\u001b[1;32m     90\u001b[0m conda \u001b[38;5;241m=\u001b[39m _get_conda_executable()\n\u001b[1;32m     91\u001b[0m args \u001b[38;5;241m=\u001b[39m shlex\u001b[38;5;241m.\u001b[39msplit(line)\n",
      "\u001b[0;31mValueError\u001b[0m: The python kernel does not appear to be a conda environment.  Please use ``%pip install`` instead."
     ]
    }
   ],
   "source": [
    "conda activate qiime2-2023.5"
   ]
  },
  {
   "cell_type": "code",
   "execution_count": null,
   "id": "9118a348-b3d9-495b-a640-c33d4649cbf3",
   "metadata": {},
   "outputs": [],
   "source": []
  }
 ],
 "metadata": {
  "kernelspec": {
   "display_name": "Python 3 (ipykernel)",
   "language": "python",
   "name": "python3"
  },
  "language_info": {
   "codemirror_mode": {
    "name": "ipython",
    "version": 3
   },
   "file_extension": ".py",
   "mimetype": "text/x-python",
   "name": "python",
   "nbconvert_exporter": "python",
   "pygments_lexer": "ipython3",
   "version": "3.8.10"
  }
 },
 "nbformat": 4,
 "nbformat_minor": 5
}
