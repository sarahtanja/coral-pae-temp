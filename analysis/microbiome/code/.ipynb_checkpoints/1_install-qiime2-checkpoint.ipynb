{
 "cells": [
  {
   "cell_type": "code",
   "execution_count": null,
   "id": "fff6773f-e36a-4beb-bb52-f269914b04ed",
   "metadata": {},
   "outputs": [],
   "source": [
    "---\n",
    "title: \"Microbiome Sequence Analysis\"\n",
    "subtitle: \"Setting Up The Workflow: Git Credentials, Jupyter, and Installing QIIME 2\"\n",
    "author: \"Sarah Tanja\"\n",
    "format: html\n",
    "editor: visual\n",
    "toc: true\n",
    "toc-title: Contents <i class=\"bi bi-bookmark-heart\"></i>\n",
    "toc-depth: 5\n",
    "toc-location: left\n",
    "---"
   ]
  },
  {
   "cell_type": "markdown",
   "id": "8aeb31eb-bbd9-460d-bed3-4a6b5a6e5523",
   "metadata": {},
   "source": [
    ":::callout-info\n",
    "I am working on a PC within a Windows Subsystem for Linux (WSL) and using GitHub to backup my code files \n",
    ":::"
   ]
  },
  {
   "cell_type": "markdown",
   "id": "93bea845-02e7-4da6-88c6-5c023ca0b870",
   "metadata": {},
   "source": [
    "## Installing QIIME 2 Overview\n",
    "\n",
    "Here I am installing QIIME 2 on my personal PC within a `conda` environment by following the steps outlined in the [QIIME 2 docs webpage](https://docs.qiime2.org/2023.5/install/native/). I am working within a Jupyter Notebook in JupyterLab.\n",
    "\n",
    "To do all of this I have to:\n",
    "- Install `Git` Credential Manager\n",
    "- Add a `Jupyter` kernel for `bash`\n",
    "- Install `Miniconda`\n",
    "- Test & Update `Miniconda`\n",
    "- Install `QIIME 2`"
   ]
  },
  {
   "cell_type": "code",
   "execution_count": null,
   "id": "896f51bd-cd14-4788-acea-55ad9b196392",
   "metadata": {},
   "outputs": [],
   "source": [
    "pwd"
   ]
  },
  {
   "cell_type": "markdown",
   "id": "e5cdabf9-5aac-4168-9b02-a414808b7bb9",
   "metadata": {},
   "source": [
    "## Install `Git` Credential Manager\n",
    "Learn about [Git - Credential Storage](https://git-scm.com/book/en/v2/Git-Tools-Credential-Storage) "
   ]
  },
  {
   "cell_type": "markdown",
   "id": "5b1e7087-a2e4-421a-ab22-160ecf6b0f76",
   "metadata": {},
   "source": [
    "## Add a `Jupyer` kernel for `bash`\n",
    ":::callout-tip\n",
    "I followed direction to add a bash kernel from this [QIIME 2 forum post](https://forum.qiime2.org/t/jupyter-lab-notebook-in-qiime-2-v-2021-4/20182/2)\n",
    ":::\n",
    "https://github.com/takluyver/bash_kernel"
   ]
  },
  {
   "cell_type": "markdown",
   "id": "d67ab4f1-8000-4d0c-a133-4d70fa4d557e",
   "metadata": {},
   "source": [
    "In Ubuntu terminal:"
   ]
  },
  {
   "cell_type": "code",
   "execution_count": null,
   "id": "e22ef512-f3cf-416e-9b77-a6a0e7adf273",
   "metadata": {},
   "outputs": [],
   "source": [
    "pip install bash_kernel\n",
    "python3 -m bash_kernel.install"
   ]
  },
  {
   "cell_type": "markdown",
   "id": "b49769a7-951a-405d-bb0d-7563981318ce",
   "metadata": {},
   "source": [
    "In Jupyter Notebook, select the `bash` kernel"
   ]
  },
  {
   "cell_type": "markdown",
   "id": "f1f416a5-1315-4186-9223-caddc21d8788",
   "metadata": {},
   "source": [
    "## Install `Miniconda`\n",
    "\n",
    "[Miniconda](https://docs.conda.io/en/latest/miniconda.html) provides the `conda` environment and package manager, and is the recommended way to install `QIIME 2`. Follow the [Miniconda instructions](https://conda.io/projects/conda/en/latest/user-guide/install/index.html) for downloading and installing `Miniconda`. Here, I choose to work with `Miniconda3`, because I also have `Python 3` set as my kernel. I am also following [instructions for downloading to a Linux environment](https://conda.io/projects/conda/en/latest/user-guide/install/linux.html), because I am operating inside the WSL.\n",
    "\n",
    "It is important to follow all of the directions, particularly ensuring that you run `conda init` at the end of the installation process, to ensure that your `Miniconda` installation is fully installed and available for the following commands."
   ]
  },
  {
   "cell_type": "raw",
   "id": "fbbbeca4-0263-42f4-9f78-a266cb8babe2",
   "metadata": {},
   "source": [
    "cd ~/\n",
    "curl -O https://repo.anaconda.com/miniconda/Miniconda3-py311_23.5.2-0-Linux-x86_64.sh"
   ]
  },
  {
   "cell_type": "code",
   "execution_count": null,
   "id": "877b4899-2e33-486e-86ea-d3d9d25a4389",
   "metadata": {
    "scrolled": true
   },
   "outputs": [],
   "source": [
    "bash Miniconda3-py311_23.5.2-0-Linux-x86_64.sh"
   ]
  },
  {
   "cell_type": "markdown",
   "id": "ed2d5da3-1a2e-4dbd-a3c6-c362739a8fc8",
   "metadata": {},
   "source": [
    "Read the Miniconda End User License Agreement in the Terminal, press 'ENTER' to reach the bottom (careful once you hit the 'Export; Cryptography Notice' header or you'll blow past it and have to re-execute the above bash command) where you will be prompted with:\n",
    "\n",
    "Do you accept the license terms? [yes|no]\n",
    " \n",
    "[no] >>> yes \n",
    "\r\n",
    "Miniconda3 will now be installed into this locatio n:\r\n",
    "/home/sarahtanja/minico\n",
    "  3\r\n",
    "\r\n",
    "  - Press ENTER to confirm the lo\n",
    "  ion\r\n",
    "  - Press CTRL-C to abort the insta\n",
    "   tion\r\n",
    "  - Or specify a different locati\n",
    "   \n",
    "and\n",
    "\n",
    "Do you wish the installer to initialize Miniconda3\r\n",
    "by running conda init? [yes|no]\r\n",
    "[no] >>> y\n",
    "\n",
    "eson below\n"
   ]
  },
  {
   "cell_type": "markdown",
   "id": "a3d6efb0-9b74-41cf-881a-2df7f17e5809",
   "metadata": {},
   "source": [
    "Follow all prompts in the Terminal to complete the install."
   ]
  },
  {
   "cell_type": "markdown",
   "id": "5bb3b382-ae58-40fc-803c-bbab7a83d17d",
   "metadata": {},
   "source": [
    "## Test & Update `Miniconda`"
   ]
  },
  {
   "cell_type": "markdown",
   "id": "a96e5078-e12a-40de-8451-62ca6c77985a",
   "metadata": {},
   "source": [
    "In the Ubuntu terminal run:"
   ]
  },
  {
   "cell_type": "code",
   "execution_count": null,
   "id": "107968d5-d36b-4dca-9dde-56be4bb427e0",
   "metadata": {},
   "outputs": [],
   "source": [
    "conda list"
   ]
  },
  {
   "cell_type": "markdown",
   "id": "91f5eb05-2ae6-4bb0-b02f-036fcd31bb2d",
   "metadata": {},
   "source": [
    "Copy and run the following command in terminal to interact with the prompt:"
   ]
  },
  {
   "cell_type": "code",
   "execution_count": null,
   "id": "917c0a7c-13fa-4016-9a59-c044be77e023",
   "metadata": {},
   "outputs": [],
   "source": [
    "conda update conda"
   ]
  },
  {
   "cell_type": "markdown",
   "id": "d64ed129-93fd-42d0-ba8e-a224eb8f7c67",
   "metadata": {},
   "source": [
    "::: callout-tip\n",
    "follow all in-terminal prompts to complete the install\n",
    ":::"
   ]
  },
  {
   "cell_type": "markdown",
   "id": "aeb416e8-a11f-4247-a453-cb8cf46cabbe",
   "metadata": {},
   "source": [
    "## Install `wget`"
   ]
  },
  {
   "cell_type": "code",
   "execution_count": 1,
   "id": "552d7ac9-0611-4117-9d2b-64655ff8e584",
   "metadata": {},
   "outputs": [
    {
     "name": "stdout",
     "output_type": "stream",
     "text": [
      "Collecting package metadata (current_repodata.json): done\n",
      "Solving environment: done\n",
      "\n",
      "# All requested packages already installed.\n",
      "\n"
     ]
    }
   ],
   "source": [
    "conda install wget"
   ]
  },
  {
   "cell_type": "markdown",
   "id": "5ae21a86-043c-4204-b7b2-aaad3defc9c5",
   "metadata": {},
   "source": [
    "## Install `QIIME 2`"
   ]
  },
  {
   "cell_type": "markdown",
   "id": "351f0301-932d-4afd-ad6e-335b77d49b20",
   "metadata": {},
   "source": [
    "In the Ubuntu terminal run:"
   ]
  },
  {
   "cell_type": "code",
   "execution_count": 2,
   "id": "afaac21a-bc81-4178-bba7-975cfd81a222",
   "metadata": {},
   "outputs": [
    {
     "name": "stdout",
     "output_type": "stream",
     "text": [
      "--2023-07-24 16:09:52--  https://data.qiime2.org/distro/core/qiime2-2023.5-py38-linux-conda.yml\n",
      "Resolving data.qiime2.org (data.qiime2.org)... 54.200.1.12\n",
      "Connecting to data.qiime2.org (data.qiime2.org)|54.200.1.12|:443... connected.\n",
      "HTTP request sent, awaiting response... 302 FOUND\n",
      "Location: https://raw.githubusercontent.com/qiime2/environment-files/master/2023.5/release/qiime2-2023.5-py38-linux-conda.yml [following]\n",
      "--2023-07-24 16:09:52--  https://raw.githubusercontent.com/qiime2/environment-files/master/2023.5/release/qiime2-2023.5-py38-linux-conda.yml\n",
      "Resolving raw.githubusercontent.com (raw.githubusercontent.com)... 185.199.111.133, 185.199.108.133, 185.199.109.133, ...\n",
      "Connecting to raw.githubusercontent.com (raw.githubusercontent.com)|185.199.111.133|:443... connected.\n",
      "HTTP request sent, awaiting response... 200 OK\n",
      "Length: 15206 (15K) [text/plain]\n",
      "Saving to: ‘qiime2-2023.5-py38-linux-conda.yml’\n",
      "\n",
      "qiime2-2023.5-py38- 100%[===================>]  14.85K  --.-KB/s    in 0.001s  \n",
      "\n",
      "2023-07-24 16:09:53 (11.7 MB/s) - ‘qiime2-2023.5-py38-linux-conda.yml’ saved [15206/15206]\n",
      "\n"
     ]
    }
   ],
   "source": [
    "wget https://data.qiime2.org/distro/core/qiime2-2023.5-py38-linux-conda.yml"
   ]
  },
  {
   "cell_type": "code",
   "execution_count": 4,
   "id": "7fb72399-4673-4671-a988-a92624a3571b",
   "metadata": {},
   "outputs": [
    {
     "name": "stdout",
     "output_type": "stream",
     "text": [
      "\n",
      "CondaValueError: prefix already exists: /home/sarahtanja/apps/\u001b[C/envs/qiime2-2023.5\n",
      "\n"
     ]
    },
    {
     "ename": "",
     "evalue": "1",
     "output_type": "error",
     "traceback": []
    }
   ],
   "source": [
    "conda env create -n qiime2-2023.5 --file qiime2-2023.5-py38-linux-conda.yml"
   ]
  },
  {
   "cell_type": "code",
   "execution_count": null,
   "id": "b9704eb1-655c-4ea1-80a9-932140059f25",
   "metadata": {},
   "outputs": [],
   "source": [
    "rm qiime2-2023.5-py38-linux-conda.yml"
   ]
  },
  {
   "cell_type": "code",
   "execution_count": null,
   "id": "45b87c7b-fe0f-439e-bee0-6c98a1d17e4c",
   "metadata": {
    "scrolled": true
   },
   "outputs": [],
   "source": [
    "conda activate qiime2-2023.5"
   ]
  },
  {
   "cell_type": "code",
   "execution_count": null,
   "id": "f261bdca-84ad-4326-b4a0-9e4402ffb222",
   "metadata": {},
   "outputs": [],
   "source": [
    "qiime --help"
   ]
  },
  {
   "cell_type": "code",
   "execution_count": null,
   "id": "9118a348-b3d9-495b-a640-c33d4649cbf3",
   "metadata": {},
   "outputs": [],
   "source": []
  }
 ],
 "metadata": {
  "kernelspec": {
   "display_name": "Bash",
   "language": "bash",
   "name": "bash"
  },
  "language_info": {
   "codemirror_mode": "shell",
   "file_extension": ".sh",
   "mimetype": "text/x-sh",
   "name": "bash"
  }
 },
 "nbformat": 4,
 "nbformat_minor": 5
}
