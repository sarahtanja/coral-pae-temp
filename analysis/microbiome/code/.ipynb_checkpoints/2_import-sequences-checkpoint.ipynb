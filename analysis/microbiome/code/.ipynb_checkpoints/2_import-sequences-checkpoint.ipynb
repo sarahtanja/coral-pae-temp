{
 "cells": [
  {
   "cell_type": "raw",
   "id": "e15ca787-fd40-4888-94e7-b78a721b05b9",
   "metadata": {},
   "source": [
    "---\n",
    "title: \"Microbiome Sequence Analysis\"\n",
    "subtitle: \"Importing 16S Sequence Data\"\n",
    "author: \"Sarah Tanja\"\n",
    "format: html\n",
    "editor: visual\n",
    "toc: true\n",
    "toc-title: Contents <i class=\"bi bi-bookmark-heart\"></i>\n",
    "toc-depth: 5\n",
    "toc-location: left\n",
    "reference-location: margin\n",
    "citation-location: margin\n",
    "bibliography: ./references/qiime2.bib\n",
    "---"
   ]
  },
  {
   "cell_type": "markdown",
   "id": "122fda22-a268-433a-b619-ec18f7946413",
   "metadata": {},
   "source": [
    "## Overview\n",
    "\n",
    "The 16S sequences were provided to me from Mr. DNA via a DropBox download link. They are **Demultiplexed** (aka **Demuxed**) sequences that still have the forward and reverse primers in the sequences.\n",
    "\n",
    "-   The Raw Data is **demultiplexed**\n",
    "\n",
    "-   A R1 and R2 fastq.gz file has been generated for each individual sample\n",
    "\n",
    "-   All forward reads are binned into the R1 fastq.gz files\n",
    "\n",
    "-   All reverse reads are binned into the R2 fastq.gz files\n",
    "\n",
    "-   Other than demultiplexing; you can consider the Raw Data on BaseSpace as untouched (**The Forward and Reverse Primer Sequences have not been removed**)\n",
    "\n",
    "Here I follow the QIIME2 [Casava 1.8 paired-end demultiplexed fastq](https://docs.qiime2.org/2023.5/tutorials/importing/#:~:text=Casava%201.8%20paired%2Dend%20demultiplexed%20fastq) tutorial example on importing data, using the files provided to me by Mr. DNA, Molecular Research via dropbox. \n",
    "\n",
    "## Data download\n",
    "\n",
    "I got an email from Mr. DNA with a Dropbox link to the data files, where I downloaded two .zip folders; one had raw data files and the other had analysis pipeline files that Mr. DNA generated.\n",
    "\n",
    "Here I am working with the raw data files located in `coral-pae-temp/analysis/microbiome/rawdata/demux`\n",
    "\n",
    "In the `demux` folder is a `fastq.gz` file for each sample.\n",
    "\n",
    "The file name includes the sample identifier and should look like `4.Ea_S1_L001_R1_001.fastq.gz`. \n",
    "The underscore-separated fields in this file name are:\n",
    "\n",
    "1.  the sample identifier,\n",
    "\n",
    "2.  the barcode sequence or a barcode identifier,\n",
    "\n",
    "3.  the lane number,\n",
    "\n",
    "4.  the direction of the read (i.e. R1 or R2, because these are paired-end reads), and\n",
    "\n",
    "5.  the set number.\n"
   ]
  },
  {
   "cell_type": "markdown",
   "id": "6ae66c8a",
   "metadata": {},
   "source": [
    "Make an output directory "
   ]
  },
  {
   "cell_type": "code",
   "execution_count": null,
   "id": "c0f3d69b-9f9d-478b-b753-460049fd83dd",
   "metadata": {},
   "outputs": [],
   "source": [
    "!cd ../ ; mkdir output"
   ]
  },
  {
   "cell_type": "markdown",
   "id": "18dc8856-97ef-42d6-9f4c-3cdd23ea0f83",
   "metadata": {},
   "source": [
    "Make a table of the metadata "
   ]
  },
  {
   "cell_type": "code",
   "execution_count": null,
   "id": "c420fcd4-0a0c-4fa7-a36f-4a1d4069b4ed",
   "metadata": {},
   "outputs": [],
   "source": [
    "!qiime metadata tabulate \\\n",
    "  --m-input-file ../rawdata/sample-metadata.tsv \\\n",
    "  --o-visualization ../output/metadata.qzv"
   ]
  },
  {
   "cell_type": "code",
   "execution_count": 4,
   "id": "fd415645-5a55-4d00-8dfd-e2d2246a3c3e",
   "metadata": {},
   "outputs": [
    {
     "data": {
      "text/html": [
       "<div><img onload=\"(function(div, url){\n",
       "if (typeof require !== 'undefined') {\n",
       "    var baseURL = require.toUrl('').split('/').slice(0, -2).join('/');\n",
       "} else {\n",
       "    var baseURL = JSON.parse(\n",
       "        document.getElementById('jupyter-config-data').innerHTML\n",
       "    ).baseUrl.slice(0, -1);\n",
       "}\n",
       "url = baseURL + url;\n",
       "fetch(url).then(function(res) {\n",
       "    if (res.status === 404) {\n",
       "        div.innerHTML = 'Install QIIME 2 Jupyter extension with:<br />' +\n",
       "                        '<code>jupyter serverextension enable --py qiime2' +\n",
       "                        ' --sys-prefix</code><br />then restart your server.' +\n",
       "                        '<br /><br />(Interactive output not available on ' +\n",
       "                        'static notebook viewer services like nbviewer.)';\n",
       "    } else if (res.status === 409) {\n",
       "        div.innerHTML = 'Visualization no longer in scope. Re-run this cell' +\n",
       "                        ' to see the visualization.';\n",
       "    } else if (res.ok) {\n",
       "        url = res.url;\n",
       "        div.innerHTML = '<iframe src=\\'' + url + '\\' style=\\'' +\n",
       "                        'width: 100%; height: 700px; border: 0;\\'>' +\n",
       "                        '</iframe><hr />Open in a: <a href=\\'' + url + '\\'' +\n",
       "                        ' target=\\'_blank\\'>new window</a>'\n",
       "    } else {\n",
       "        div.innerHTML = 'Something has gone wrong. Check notebook server for' +\n",
       "                        ' errors.';\n",
       "    }\n",
       "});\n",
       "})(this.parentElement, '/qiime2/redirect?location=/tmp/qiime2/stanja/data/507e06dc-a50d-405a-a736-62fde3e04c12')\" src=\"data:image/gif;base64,R0lGODlhAQABAIAAAP///wAAACH5BAEAAAAALAAAAAABAAEAAAICRAEAOw==\" /></div>"
      ],
      "text/plain": [
       "<visualization: Visualization uuid: 507e06dc-a50d-405a-a736-62fde3e04c12>"
      ]
     },
     "execution_count": 4,
     "metadata": {},
     "output_type": "execute_result"
    }
   ],
   "source": [
    "from qiime2 import Visualization\n",
    "Visualization.load('../output/metadata.qzv')"
   ]
  },
  {
   "cell_type": "markdown",
   "id": "d9afbd41",
   "metadata": {},
   "source": [
    "Import Sequences into qiime"
   ]
  },
  {
   "cell_type": "code",
   "execution_count": null,
   "id": "dbb298fe-3e96-4f98-9060-408d3b24511a",
   "metadata": {},
   "outputs": [],
   "source": [
    "!qiime tools import \\\n",
    "  --type 'SampleData[PairedEndSequencesWithQuality]' \\\n",
    "  --input-path ../rawdata/demux \\\n",
    "  --input-format CasavaOneEightSingleLanePerSampleDirFmt \\\n",
    "  --output-path ../output/demux-paired-end.qza"
   ]
  },
  {
   "cell_type": "markdown",
   "id": "17971af4-e264-4f18-b33a-3e774fdf7295",
   "metadata": {},
   "source": [
    "The `demux-paired-end.qza` artifact contains raw, demultiplexed sequences that still have forward and reverse primers"
   ]
  },
  {
   "cell_type": "markdown",
   "id": "5cc3897b-7598-406d-8813-da555c48ebb8",
   "metadata": {},
   "source": [
    "## Trim primers from paired-end sequences using `cutadapt`\n",
    "\n",
    "> \"The PCR primers (F515/R806) were developed against the V4 region of the 16S rRNA, which we determined would yield optimal community clustering with reads of this length using a procedure similar to that of ref. 15. [For reference, this primer pair amplifies the region 533–786 in the Escherichia coli strain 83972 sequence (greengenes accession no. prokMSA_id:470367).]The reverse PCR primer is barcoded with a 12-base errorcorrecting Golay code to facilitate multiplexing of up to ≈1,500 samples per lane, and both PCR primers contain sequencer adapter regions.\" - (Caporasco et al. 2011)\n",
    "\n",
    "Caporaso, J. G., Lauber, C. L., Walters, W. A., Berg-Lyons, D., Lozupone, C. A., Turnbaugh, P. J., Fierer, N., & Knight, R. (2011). Global patterns of 16S rRNA diversity at a depth of millions of sequences per sample. Proceedings of the National Academy of Sciences, 108(supplement_1), 4516–4522. https://doi.org/10.1073/pnas.1000080107\n",
    "\n",
    "> \"The V4 variable region of the 16S rRNA gene was amplified using the 515F (5′-­GTGCCAGCMGCCGCGGTAA-­3′) and 806R (5′-­GGACTACHVGGGTWTCTAAT-­3′) primer set (Caporaso et al. 2011). ” - (Brown et al. 2021)\n",
    "\n",
    "Brown, Tanya, Dylan Sonett, Jesse R. Zaneveld, and Jacqueline L. Padilla-Gamiño. 2021. “Characterization of the Microbiome and Immune Response in Corals with Chronic Montipora White Syndrome.” Molecular Ecology 30 (11): 2591–2606. https://doi.org/10.1111/mec.15899."
   ]
  },
  {
   "cell_type": "code",
   "execution_count": 6,
   "id": "967c62c9-a86a-48f6-9d5f-6d6a5501e1ae",
   "metadata": {},
   "outputs": [
    {
     "name": "stdout",
     "output_type": "stream",
     "text": [
      "\u001b[32mSaved SampleData[PairedEndSequencesWithQuality] to: ../output/demux-trimmed.qza\u001b[0m\n",
      "\u001b[0m"
     ]
    }
   ],
   "source": [
    "!qiime cutadapt trim-paired \\\n",
    "  --i-demultiplexed-sequences ../output/demux-paired-end.qza \\\n",
    "  --p-cores 4 \\\n",
    "  --p-front-f GTGYCAGCMGCCGCGGTAA \\\n",
    "  --p-front-r GGACTACNVGGGTWTCTAAT \\\n",
    "  --o-trimmed-sequences ../output/demux-trimmed.qza"
   ]
  },
  {
   "cell_type": "markdown",
   "id": "f00901ad",
   "metadata": {},
   "source": [
    "## Visualize trimmed & demultiplexed sequences"
   ]
  },
  {
   "cell_type": "code",
   "execution_count": 7,
   "id": "69b6a077",
   "metadata": {},
   "outputs": [
    {
     "name": "stdout",
     "output_type": "stream",
     "text": [
      "\u001b[32mSaved Visualization to: ../output/demux-trimmed-summary.qzv\u001b[0m\n",
      "\u001b[0m"
     ]
    }
   ],
   "source": [
    "!qiime demux summarize \\\n",
    "  --i-data ../output/demux-trimmed.qza \\\n",
    "  --o-visualization ../output/demux-trimmed-summary.qzv"
   ]
  },
  {
   "cell_type": "code",
   "execution_count": 8,
   "id": "da27f217-31b2-4cb5-8edb-6fd6bd70f48f",
   "metadata": {},
   "outputs": [
    {
     "data": {
      "text/html": [
       "<div><img onload=\"(function(div, url){\n",
       "if (typeof require !== 'undefined') {\n",
       "    var baseURL = require.toUrl('').split('/').slice(0, -2).join('/');\n",
       "} else {\n",
       "    var baseURL = JSON.parse(\n",
       "        document.getElementById('jupyter-config-data').innerHTML\n",
       "    ).baseUrl.slice(0, -1);\n",
       "}\n",
       "url = baseURL + url;\n",
       "fetch(url).then(function(res) {\n",
       "    if (res.status === 404) {\n",
       "        div.innerHTML = 'Install QIIME 2 Jupyter extension with:<br />' +\n",
       "                        '<code>jupyter serverextension enable --py qiime2' +\n",
       "                        ' --sys-prefix</code><br />then restart your server.' +\n",
       "                        '<br /><br />(Interactive output not available on ' +\n",
       "                        'static notebook viewer services like nbviewer.)';\n",
       "    } else if (res.status === 409) {\n",
       "        div.innerHTML = 'Visualization no longer in scope. Re-run this cell' +\n",
       "                        ' to see the visualization.';\n",
       "    } else if (res.ok) {\n",
       "        url = res.url;\n",
       "        div.innerHTML = '<iframe src=\\'' + url + '\\' style=\\'' +\n",
       "                        'width: 100%; height: 700px; border: 0;\\'>' +\n",
       "                        '</iframe><hr />Open in a: <a href=\\'' + url + '\\'' +\n",
       "                        ' target=\\'_blank\\'>new window</a>'\n",
       "    } else {\n",
       "        div.innerHTML = 'Something has gone wrong. Check notebook server for' +\n",
       "                        ' errors.';\n",
       "    }\n",
       "});\n",
       "})(this.parentElement, '/qiime2/redirect?location=/tmp/qiime2/stanja/data/3c84a0c5-dce4-4493-9653-d29cad778c05')\" src=\"data:image/gif;base64,R0lGODlhAQABAIAAAP///wAAACH5BAEAAAAALAAAAAABAAEAAAICRAEAOw==\" /></div>"
      ],
      "text/plain": [
       "<visualization: Visualization uuid: 3c84a0c5-dce4-4493-9653-d29cad778c05>"
      ]
     },
     "execution_count": 8,
     "metadata": {},
     "output_type": "execute_result"
    }
   ],
   "source": [
    "Visualization.load('../output/demux-trimmed-summary.qzv')"
   ]
  },
  {
   "cell_type": "markdown",
   "id": "873d9098-a910-4845-ade0-8b55c7622239",
   "metadata": {},
   "source": [
    "## [Denoise with DADA2](https://docs.qiime2.org/2023.5/tutorials/moving-pictures/#sequence-quality-control-and-feature-table-construction:~:text=with%20QIIME%201.-,Option%201%3A%20DADA2%C2%B6,-DADA2%20is%20a)\n",
    "\n",
    "[DADA2](https://pubmed.ncbi.nlm.nih.gov/27214047/) is a pipeline for detecting and correcting (where possible) Illumina amplicon sequence data. \n",
    "\n",
    "As implemented in the q2-dada2 plugin, this quality control process will additionally filter any phiX reads (commonly present in marker gene Illumina sequence data) that are identified in the sequencing data, and will filter chimeric sequences.\n",
    "\n",
    "The dada2 denoise-paired method requires four parameters that are used in quality filtering: \n",
    "--p-trim-left-f m, which trims off the first m bases of each sequence in the forward reads\n",
    "--p-trim-left-r n, which trims off the first m bases of each sequence in the reverse reads\n",
    "--p-trunc-len-f o, which truncates each sequence at position o in the forward reads \n",
    "--p-trunc-len-f o, which truncates each sequence at position o in the reverse reads \n",
    "\n",
    "This allows the user to remove low quality regions of the sequences. \n",
    "\n",
    "What is a 'good' quality score?\n",
    "In QIIME 2's interactive quality plots, the quality scores typically range from 0 to 40. Quality scores reflect the accuracy of base calls in sequencing data, with higher scores indicating higher accuracy. The most common quality score scale used in modern sequencing technologies is the Phred scale.\r\n",
    "\r\n",
    "In the Phred scale:\r\n",
    "\r\n",
    "A quality score of 10 corresponds to a 1 in 10 chance of an incorrect base call (90% accuracy).\r\n",
    "A quality score of 20 corresponds to a 1 in 100 chance of an incorrect base call (99% accuracy).\r\n",
    "A quality score of 30 corresponds to a 1 in 1000 chance of an incorrect base call (99.9% accur\n",
    "A \"good\" quality score in this context depends on your specific analysis goals and the sequencing platform you're using. However, many researchers consider quality scores above 20 to be generally acceptable for downstream analysis. Scores above 30 are often seen as very high quality.a\n",
    "In theew the Interactive Quality Plot tab in the `demux-trimmed-summary.qzv` file that was generated by `qiime demux summarize`, lots, we see that the quality scores of the bases are high, between a score of 11 in the lowest 2nd percentile and a score of 37 in the bottom 25th percentile and higher. So we won’t trim any bases from the beginning of the sequeI sort of arbitrarily picked 230 as the sequence base position for both the forward and reverse read to truncate.... I'm not sure this is even necessary... a low score of 11 doesn't seem so bad. But, I'm going to keep it in here until I can double check this with someone who knows better.\n",
    "\n",
    "ases. This next command may take up to 10 minutes to run, and is the slowest step"
   ]
  },
  {
   "cell_type": "code",
   "execution_count": null,
   "id": "fc5e87b8-0b3b-46ab-b1e2-4291fb1ed11b",
   "metadata": {},
   "outputs": [],
   "source": [
    "!qiime dada2 denoise-paired \\\n",
    "  --i-demultiplexed-seqs ../output/demux-trimmed.qza \\\n",
    "  --p-trim-left-f 0 \\\n",
    "  --p-trim-left-r 0 \\\n",
    "  --p-trunc-len-f 230 \\\n",
    "  --p-trunc-len-r 230 \\\n",
    "  --p-n-threads 10 \\\n",
    "  --o-table ../output/dada2-table.qza \\\n",
    "  --o-representative-sequences ../output/dada2-rep-seqs.qza \\\n",
    "  --o-denoising-stats ../output/dada2-denoising-stats.qza"
   ]
  },
  {
   "cell_type": "markdown",
   "id": "8b8a4bf5-1039-47e1-87b7-61b4ca4d0863",
   "metadata": {},
   "source": [
    "## Summarize & tabulate the feature table\n",
    "After the quality filtering step completes, you’ll want to explore the resulting data. You can do this using the following two commands, which will create visual summaries of the data. The `feature-table summarize` command will give you information on how many sequences are associated with each sample and with each feature, histograms of those distributions, and some related summary statistics. The `feature-table tabulate-seqs` command will provide a mapping of feature IDs to sequences, and provide links to easily BLAST each sequence against the NCBI nt database.\n",
    "\n",
    "The following step generates a summary visualization of a feature table. \n",
    "Feature tables in QIIME 2 represent the abundance of different biological features (such as bacterial taxa or OTUs) across samples.\r",
    " \n",
    " In this command:\n",
    " `\r\n",
    "\r\n",
    "--i-table table`, ies the input feature table in QIIME 2 artifact format (.qza file) that you want to summa.\n",
    " `e.\r\n",
    "\r\n",
    "--o-visualization tab`, ifies the output visualization in QIIME 2 artifact format (.qzv file) that will contain the summary r.\n",
    " `lts.\r\n",
    "\r\n",
    "--m-sample-metadata-file sample-meta`, ecifies the metadata file (usually in tab-separated values format) that contains additional information about the samples in your feature ta le. The metadata will be used to generate additional summary plots that allow you to explore the relationships between features and m\n",
    "\n",
    "The feature-table summarize command will give you information on how many sequences are associated with each sample and with each feature, histograms of those distributions, and some related summary statistics.lizations."
   ]
  },
  {
   "cell_type": "code",
   "execution_count": null,
   "id": "e697f80d-6c84-417d-8ac0-b6971c1e9bf5",
   "metadata": {},
   "outputs": [],
   "source": [
    "!qiime feature-table summarize \\\n",
    "  --i-table ../output/dada2-table.qza \\\n",
    "  --o-visualization ../output/dada2-table.qzv \\\n",
    "  --m-sample-metadata-file ../rawdata/sample-metadata.tsv"
   ]
  }
 ],
 "metadata": {
  "kernelspec": {
   "display_name": "Python 3 (ipykernel)",
   "language": "python",
   "name": "python3"
  },
  "language_info": {
   "codemirror_mode": {
    "name": "ipython",
    "version": 3
   },
   "file_extension": ".py",
   "mimetype": "text/x-python",
   "name": "python",
   "nbconvert_exporter": "python",
   "pygments_lexer": "ipython3",
   "version": "3.8.16"
  }
 },
 "nbformat": 4,
 "nbformat_minor": 5
}
