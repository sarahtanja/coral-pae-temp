{
 "cells": [
  {
   "cell_type": "raw",
   "id": "e15ca787-fd40-4888-94e7-b78a721b05b9",
   "metadata": {},
   "source": [
    "---\n",
    "title: \"Microbiome Sequence Analysis\"\n",
    "subtitle: \"Importing 16S Sequence Data\"\n",
    "author: \"Sarah Tanja\"\n",
    "format: html\n",
    "editor: visual\n",
    "toc: true\n",
    "toc-title: Contents <i class=\"bi bi-bookmark-heart\"></i>\n",
    "toc-depth: 5\n",
    "toc-location: left\n",
    "reference-location: margin\n",
    "citation-location: margin\n",
    "bibliography: ./references/qiime2.bib\n",
    "---"
   ]
  },
  {
   "cell_type": "markdown",
   "id": "122fda22-a268-433a-b619-ec18f7946413",
   "metadata": {},
   "source": [
    "## Overview\n",
    "\n",
    "The 16S sequences were provided to me from Mr. DNA via a DropBox download link. They are **Demultiplexed** (aka **Demuxed**) sequences that still have the forward and reverse primers in the sequences.\n",
    "\n",
    "-   The Raw Data is **demultiplexed**\n",
    "\n",
    "-   A R1 and R2 fastq.gz file has been generated for each individual sample\n",
    "\n",
    "-   All forward reads are binned into the R1 fastq.gz files\n",
    "\n",
    "-   All reverse reads are binned into the R2 fastq.gz files\n",
    "\n",
    "-   Other than demultiplexing; you can consider the Raw Data on BaseSpace as untouched (**The Forward and Reverse Primer Sequences have not been removed**)\n",
    "\n",
    "Here I follow the QIIME2 [Casava 1.8 paired-end demultiplexed fastq](https://docs.qiime2.org/2023.5/tutorials/importing/#:~:text=Casava%201.8%20paired%2Dend%20demultiplexed%20fastq) tutorial example on importing data, using the files provided to me by Mr. DNA, Molecular Research via dropbox. \n",
    "\n",
    "## Data download\n",
    "\n",
    "I got an email from Mr. DNA with a Dropbox link to the data files, where I downloaded two .zip folders; one had raw data files and the other had analysis pipeline files that Mr. DNA generated.\n",
    "\n",
    "Here I am working with the raw data files located in `coral-pae-temp/analysis/microbiome/rawdata/demux`\n",
    "\n",
    "In the `demux` folder is a `fastq.gz` file for each sample.\n",
    "\n",
    "The file name includes the sample identifier and should look like `4.Ea_S1_L001_R1_001.fastq.gz`. \n",
    "The underscore-separated fields in this file name are:\n",
    "\n",
    "1.  the sample identifier,\n",
    "\n",
    "2.  the barcode sequence or a barcode identifier,\n",
    "\n",
    "3.  the lane number,\n",
    "\n",
    "4.  the direction of the read (i.e. R1 or R2, because these are paired-end reads), and\n",
    "\n",
    "5.  the set number.\n"
   ]
  },
  {
   "cell_type": "markdown",
   "id": "6ae66c8a",
   "metadata": {},
   "source": [
    "Make an output directory "
   ]
  },
  {
   "cell_type": "code",
   "execution_count": 8,
   "id": "c0f3d69b-9f9d-478b-b753-460049fd83dd",
   "metadata": {},
   "outputs": [],
   "source": [
    "!cd ../ ; mkdir output"
   ]
  },
  {
   "cell_type": "markdown",
   "id": "18dc8856-97ef-42d6-9f4c-3cdd23ea0f83",
   "metadata": {},
   "source": [
    "Make a table of the metadata that you can drag into qiime2view"
   ]
  },
  {
   "cell_type": "code",
   "execution_count": 9,
   "id": "c420fcd4-0a0c-4fa7-a36f-4a1d4069b4ed",
   "metadata": {},
   "outputs": [
    {
     "name": "stdout",
     "output_type": "stream",
     "text": [
      "\u001b[32mSaved Visualization to: ../output/metadata.qzv\u001b[0m\n",
      "\u001b[0m"
     ]
    }
   ],
   "source": [
    "!qiime metadata tabulate \\\n",
    "  --m-input-file ../rawdata/sample-metadata.tsv \\\n",
    "  --o-visualization ../output/metadata.qzv"
   ]
  },
  {
   "cell_type": "markdown",
   "id": "3a565265",
   "metadata": {},
   "source": [
    "drag metadata.qzv into (view.qiime2.org)[https://view.qiime2.org/]"
   ]
  },
  {
   "cell_type": "markdown",
   "id": "d9afbd41",
   "metadata": {},
   "source": [
    "Import Sequences into qiime"
   ]
  },
  {
   "cell_type": "code",
   "execution_count": 10,
   "id": "dbb298fe-3e96-4f98-9060-408d3b24511a",
   "metadata": {},
   "outputs": [
    {
     "name": "stdout",
     "output_type": "stream",
     "text": [
      "\u001b[32mImported ../rawdata/demux as CasavaOneEightSingleLanePerSampleDirFmt to ../output/demux-paired-end.qza\u001b[0m\n",
      "\u001b[0m"
     ]
    }
   ],
   "source": [
    "!qiime tools import \\\n",
    "  --type 'SampleData[PairedEndSequencesWithQuality]' \\\n",
    "  --input-path ../rawdata/demux \\\n",
    "  --input-format CasavaOneEightSingleLanePerSampleDirFmt \\\n",
    "  --output-path ../output/demux-paired-end.qza"
   ]
  },
  {
   "cell_type": "markdown",
   "id": "17971af4-e264-4f18-b33a-3e774fdf7295",
   "metadata": {},
   "source": [
    "The `demux-paired-end.qza` artifact contains raw, demultiplexed sequences that still have forward and reverse primers"
   ]
  },
  {
   "cell_type": "markdown",
   "id": "5cc3897b-7598-406d-8813-da555c48ebb8",
   "metadata": {},
   "source": [
    "## Trim primers from paired-end sequences using `cutadapt`\n",
    "\n",
    "> \"The PCR primers (F515/R806) were developed against the V4 region of the 16S rRNA, which we determined would yield optimal community clustering with reads of this length using a procedure similar to that of ref. 15. [For reference, this primer pair amplifies the region 533–786 in the Escherichia coli strain 83972 sequence (greengenes accession no. prokMSA_id:470367).]The reverse PCR primer is barcoded with a 12-base errorcorrecting Golay code to facilitate multiplexing of up to ≈1,500 samples per lane, and both PCR primers contain sequencer adapter regions.\" - (Caporasco et al. 2011)\n",
    "\n",
    "Caporaso, J. G., Lauber, C. L., Walters, W. A., Berg-Lyons, D., Lozupone, C. A., Turnbaugh, P. J., Fierer, N., & Knight, R. (2011). Global patterns of 16S rRNA diversity at a depth of millions of sequences per sample. Proceedings of the National Academy of Sciences, 108(supplement_1), 4516–4522. https://doi.org/10.1073/pnas.1000080107\n",
    "\n",
    "> \"The V4 variable region of the 16S rRNA gene was amplified using the 515F (5′-­GTGCCAGCMGCCGCGGTAA-­3′) and 806R (5′-­GGACTACHVGGGTWTCTAAT-­3′) primer set (Caporaso et al. 2011). ” - (Brown et al. 2021)\n",
    "\n",
    "Brown, Tanya, Dylan Sonett, Jesse R. Zaneveld, and Jacqueline L. Padilla-Gamiño. 2021. “Characterization of the Microbiome and Immune Response in Corals with Chronic Montipora White Syndrome.” Molecular Ecology 30 (11): 2591–2606. https://doi.org/10.1111/mec.15899."
   ]
  },
  {
   "cell_type": "code",
   "execution_count": 13,
   "id": "967c62c9-a86a-48f6-9d5f-6d6a5501e1ae",
   "metadata": {},
   "outputs": [
    {
     "name": "stdout",
     "output_type": "stream",
     "text": [
      "\u001b[32mSaved SampleData[PairedEndSequencesWithQuality] to: ../output/demux-trimmed.qza\u001b[0m\n",
      "\u001b[0m"
     ]
    }
   ],
   "source": [
    "!qiime cutadapt trim-paired \\\n",
    "  --i-demultiplexed-sequences ../output/demux-paired-end.qza \\\n",
    "  --p-cores 4 \\\n",
    "  --p-front-f GTGCCAGCMGCCGCGGTAA \\\n",
    "  --p-front-r GGACTACHVGGGTWTCTAAT \\\n",
    "  --o-trimmed-sequences ../output/demux-trimmed.qza"
   ]
  },
  {
   "cell_type": "markdown",
   "id": "f00901ad",
   "metadata": {},
   "source": [
    "## Visualize trimmed & demultiplexed sequences"
   ]
  },
  {
   "cell_type": "code",
   "execution_count": 14,
   "id": "69b6a077",
   "metadata": {},
   "outputs": [
    {
     "name": "stdout",
     "output_type": "stream",
     "text": [
      "\u001b[32mSaved Visualization to: ../output/demux-trimmed-summary.qzv\u001b[0m\n",
      "\u001b[0m"
     ]
    }
   ],
   "source": [
    "!qiime demux summarize \\\n",
    "  --i-data ../output/demux-trimmed.qza \\\n",
    "  --o-visualization ../output/demux-trimmed-summary.qzv"
   ]
  },
  {
   "cell_type": "code",
   "execution_count": 1,
   "id": "f723aee8-434d-4a9a-b3cf-b7c8456c172f",
   "metadata": {},
   "outputs": [
    {
     "name": "stdout",
     "output_type": "stream",
     "text": [
      "usage: conda [-h] [--no-plugins] [-V] COMMAND ...\n",
      "conda: error: argument COMMAND: invalid choice: 'activate' (choose from 'clean', 'compare', 'config', 'create', 'info', 'init', 'install', 'list', 'notices', 'package', 'remove', 'uninstall', 'rename', 'run', 'search', 'update', 'upgrade', 'doctor', 'env', 'content-trust')\n",
      "\n",
      "Note: you may need to restart the kernel to use updated packages.\n"
     ]
    }
   ],
   "source": [
    "conda activate qiime2-2023.5"
   ]
  },
  {
   "cell_type": "code",
   "execution_count": 2,
   "id": "da27f217-31b2-4cb5-8edb-6fd6bd70f48f",
   "metadata": {},
   "outputs": [
    {
     "data": {
      "text/html": [
       "<div><img onload=\"(function(div, url){\n",
       "if (typeof require !== 'undefined') {\n",
       "    var baseURL = require.toUrl('').split('/').slice(0, -2).join('/');\n",
       "} else {\n",
       "    var baseURL = JSON.parse(\n",
       "        document.getElementById('jupyter-config-data').innerHTML\n",
       "    ).baseUrl.slice(0, -1);\n",
       "}\n",
       "url = baseURL + url;\n",
       "fetch(url).then(function(res) {\n",
       "    if (res.status === 404) {\n",
       "        div.innerHTML = 'Install QIIME 2 Jupyter extension with:<br />' +\n",
       "                        '<code>jupyter serverextension enable --py qiime2' +\n",
       "                        ' --sys-prefix</code><br />then restart your server.' +\n",
       "                        '<br /><br />(Interactive output not available on ' +\n",
       "                        'static notebook viewer services like nbviewer.)';\n",
       "    } else if (res.status === 409) {\n",
       "        div.innerHTML = 'Visualization no longer in scope. Re-run this cell' +\n",
       "                        ' to see the visualization.';\n",
       "    } else if (res.ok) {\n",
       "        url = res.url;\n",
       "        div.innerHTML = '<iframe src=\\'' + url + '\\' style=\\'' +\n",
       "                        'width: 100%; height: 700px; border: 0;\\'>' +\n",
       "                        '</iframe><hr />Open in a: <a href=\\'' + url + '\\'' +\n",
       "                        ' target=\\'_blank\\'>new window</a>'\n",
       "    } else {\n",
       "        div.innerHTML = 'Something has gone wrong. Check notebook server for' +\n",
       "                        ' errors.';\n",
       "    }\n",
       "});\n",
       "})(this.parentElement, '/qiime2/redirect?location=/tmp/qiime2/stanja/data/a6e62668-d890-4520-93e1-0b4d204ed1e8')\" src=\"data:image/gif;base64,R0lGODlhAQABAIAAAP///wAAACH5BAEAAAAALAAAAAABAAEAAAICRAEAOw==\" /></div>"
      ],
      "text/plain": [
       "<visualization: Visualization uuid: a6e62668-d890-4520-93e1-0b4d204ed1e8>"
      ]
     },
     "execution_count": 2,
     "metadata": {},
     "output_type": "execute_result"
    }
   ],
   "source": [
    "from qiime2 import Visualization\n",
    "Visualization.load('../output/demux-trimmed-summary.qzv')"
   ]
  },
  {
   "cell_type": "markdown",
   "id": "af8d6847-e156-453d-adbd-57f6749a67b8",
   "metadata": {},
   "source": [
    "## Denoise"
   ]
  },
  {
   "cell_type": "code",
   "execution_count": 15,
   "id": "fc5e87b8-0b3b-46ab-b1e2-4291fb1ed11b",
   "metadata": {},
   "outputs": [
    {
     "name": "stdout",
     "output_type": "stream",
     "text": [
      "\u001b[31m\u001b[1mPlugin error from dada2:\n",
      "\n",
      "  No reads passed the filter. trunc_len_f (298) or trunc_len_r (298) may be individually longer than read lengths, or trunc_len_f + trunc_len_r may be shorter than the length of the amplicon + 12 nucleotides (the length of the overlap). Alternatively, other arguments (such as max_ee or trunc_q) may be preventing reads from passing the filter.\n",
      "\n",
      "Debug info has been saved to /tmp/qiime2-q2cli-err-s30_1g9r.log\u001b[0m\n",
      "\u001b[0m"
     ]
    }
   ],
   "source": [
    "!qiime dada2 denoise-paired \\\n",
    "  --i-demultiplexed-seqs ../output/demux-trimmed.qza \\\n",
    "  --p-trim-left-f 0 \\\n",
    "  --p-trim-left-r 0 \\\n",
    "  --p-trunc-len-f 298 \\\n",
    "  --p-trunc-len-r 298 \\\n",
    "  --o-table ../output/table.qza \\\n",
    "  --o-representative-sequences ../output/rep-seqs.qza \\\n",
    "  --o-denoising-stats ../output/denoising-stats.qza"
   ]
  }
 ],
 "metadata": {
  "kernelspec": {
   "display_name": "Python 3 (ipykernel)",
   "language": "python",
   "name": "python3"
  },
  "language_info": {
   "codemirror_mode": {
    "name": "ipython",
    "version": 3
   },
   "file_extension": ".py",
   "mimetype": "text/x-python",
   "name": "python",
   "nbconvert_exporter": "python",
   "pygments_lexer": "ipython3",
   "version": "3.8.16"
  }
 },
 "nbformat": 4,
 "nbformat_minor": 5
}
