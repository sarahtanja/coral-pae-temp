{
 "cells": [
  {
   "cell_type": "markdown",
   "id": "eed08058-9a5e-477d-94a5-a0f5c47aa23b",
   "metadata": {},
   "source": [
    "---\n",
    "title: \"Microbiome Sequence Analysis\"\n",
    "subtitle: \"Importing 16S Sequence Data\"\n",
    "author: \"Sarah Tanja\"\n",
    "format: html\n",
    "editor: visual\n",
    "toc: true\n",
    "toc-title: Contents <i class=\"bi bi-bookmark-heart\"></i>\n",
    "toc-depth: 5\n",
    "toc-location: left\n",
    "reference-location: margin\n",
    "citation-location: margin\n",
    "bibliography: ./references/qiime2.bib\n",
    "---"
   ]
  },
  {
   "cell_type": "markdown",
   "id": "122fda22-a268-433a-b619-ec18f7946413",
   "metadata": {},
   "source": [
    "## Overview\n",
    "\n",
    "The 16S sequences were provided to me from Mr. DNA via a DropBox download link. They are **Demultiplexed** (aka **Demuxed**) sequences that still have the forward and reverse primers in the sequences.\n",
    "\n",
    "-   The Raw Data is **demultiplexed**\n",
    "\n",
    "-   A R1 and R2 fastq.gz file has been generated for each individual sample\n",
    "\n",
    "-   All forward reads are binned into the R1 fastq.gz files\n",
    "\n",
    "-   All reverse reads are binned into the R2 fastq.gz files\n",
    "\n",
    "-   Other than demultiplexing; you can consider the Raw Data on BaseSpace as untouched (**The Forward and Reverse Primer Sequences have not been removed**)\n",
    "\n",
    "Here I follow the QIIME2 [Casava 1.8 paired-end demultiplexed fastq](https://docs.qiime2.org/2023.5/tutorials/importing/#:~:text=Casava%201.8%20paired%2Dend%20demultiplexed%20fastq) tutorial example on importing data, using the files provided to me by Mr. DNA, Molecular Research via dropbox. \n",
    "\n",
    "## Data download\n",
    "\n",
    "I got an email from Mr. DNA with a Dropbox link to the data files, where I downloaded two .zip folders; one had raw data files and the other had analysis pipeline files that Mr. DNA generated.\n",
    "\n",
    "Here I am working with the raw data files located in `coral-pae-temp/analysis/microbiome/rawdata/demux`\n",
    "\n",
    "In the `demux` folder is a `fastq.gz` file for each sample.\n",
    "\n",
    "The file name includes the sample identifier and should look like `4.Ea_S1_L001_R1_001.fastq.gz`. \n",
    "The underscore-separated fields in this file name are:\n",
    "\n",
    "1.  the sample identifier,\n",
    "\n",
    "2.  the barcode sequence or a barcode identifier,\n",
    "\n",
    "3.  the lane number,\n",
    "\n",
    "4.  the direction of the read (i.e. R1 or R2, because these are paired-end reads), and\n",
    "\n",
    "5.  the set number.\n"
   ]
  },
  {
   "cell_type": "markdown",
   "id": "6ae66c8a",
   "metadata": {},
   "source": [
    "[Using Python to run QIIME2](https://docs.qiime2.org/2023.5/interfaces/artifact-api/)"
   ]
  },
  {
   "cell_type": "code",
   "execution_count": 7,
   "id": "c420fcd4-0a0c-4fa7-a36f-4a1d4069b4ed",
   "metadata": {},
   "outputs": [],
   "source": [
    "from qiime2.plugins import feature_table\n",
    "from qiime2 import Artifact"
   ]
  },
  {
   "cell_type": "markdown",
   "id": "d07d3edb-f17e-4f7e-adc2-76f88601e2a5",
   "metadata": {},
   "source": [
    "How Do You Run qiime2 in Jupyter?\n",
    "Checkout [this forum post](https://forum.qiime2.org/t/how-to-run-qiime2-in-jupiter-notebook/24705) \n",
    "Option 1. Activate qiime2 environment and install jupyter notebook there.\r\n",
    "\r\n",
    "Option 2. If jupyter notebook should be launched outside of environment, you need to install nb-kernels in \"base\":\r\n",
    "\r\n",
    "conda install -n notebook_env nb_conda_kernels\r\n",
    "\r\n",
    "and then inside of qiime2 env:\r\n",
    "\r\n",
    "conda install -c anaconda ipykernel\r\n",
    "\r\n",
    "In this case you will be able to choose qiime2 kernel in the notebook from \"base\".\r\n",
    "\r\n",
    "When launched, qiime2 commands can be executed by providing \"!\" sign at the beginning of the first line of the command, or by using qiime2\n",
    "\n",
    "Checkout [this forum post](https://forum.qiime2.org/t/activating-jupyterlab-in-qiime2/9697) python API.\n"
   ]
  },
  {
   "cell_type": "code",
   "execution_count": 6,
   "id": "dbb298fe-3e96-4f98-9060-408d3b24511a",
   "metadata": {},
   "outputs": [
    {
     "name": "stdout",
     "output_type": "stream",
     "text": [
      "usage: conda [-h] [--no-plugins] [-V] COMMAND ...\n",
      "conda: error: argument COMMAND: invalid choice: 'activate' (choose from 'clean', 'compare', 'config', 'create', 'info', 'init', 'install', 'list', 'notices', 'package', 'remove', 'uninstall', 'rename', 'run', 'search', 'update', 'upgrade', 'doctor', 'env', 'content-trust')\n"
     ]
    }
   ],
   "source": [
    "!conda activate qiime2-2023.5"
   ]
  },
  {
   "cell_type": "code",
   "execution_count": 7,
   "id": "f2708415",
   "metadata": {},
   "outputs": [
    {
     "name": "stdout",
     "output_type": "stream",
     "text": [
      "/bin/bash: qiime: command not found\n"
     ]
    }
   ],
   "source": [
    "!qiime --help"
   ]
  },
  {
   "cell_type": "code",
   "execution_count": 1,
   "id": "1c6a0c02-4182-4c5c-a5a9-11f10afafc73",
   "metadata": {},
   "outputs": [
    {
     "name": "stdout",
     "output_type": "stream",
     "text": [
      "1_install-qiime2.ipynb\t2_import-sequences.ipynb\n",
      "1-install-qiime2.qmd\t2-import-sequences.qmd\n"
     ]
    }
   ],
   "source": [
    "!ls"
   ]
  },
  {
   "cell_type": "code",
   "execution_count": null,
   "id": "b0c576b0-d5d2-4a28-8081-676a1fecb309",
   "metadata": {},
   "outputs": [],
   "source": [
    "qiime tools import \\\n",
    "  --type 'SampleData[PairedEndSequencesWithQuality]' \\\n",
    "  --input-path casava-18-paired-end-demultiplexed \\\n",
    "  --input-format CasavaOneEightSingleLanePerSampleDirFmt \\\n",
    "  --output-path demux-paired-end.qza"
   ]
  }
 ],
 "metadata": {
  "kernelspec": {
   "display_name": "qiime2-2023.5",
   "language": "python",
   "name": "qiime2-2023.5"
  },
  "language_info": {
   "codemirror_mode": {
    "name": "ipython",
    "version": 3
   },
   "file_extension": ".py",
   "mimetype": "text/x-python",
   "name": "python",
   "nbconvert_exporter": "python",
   "pygments_lexer": "ipython3",
   "version": "3.11.4"
  }
 },
 "nbformat": 4,
 "nbformat_minor": 5
}
