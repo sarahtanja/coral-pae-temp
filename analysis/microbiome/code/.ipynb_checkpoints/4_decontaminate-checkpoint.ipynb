{
 "cells": [
  {
   "cell_type": "raw",
   "id": "e15ca787-fd40-4888-94e7-b78a721b05b9",
   "metadata": {},
   "source": [
    "---\n",
    "title: \"Microbiome Sequence Analysis\"\n",
    "subtitle: \"Community composition from 16S Sequence Data of Montipora capitata corals exposed to heat and plasticizers\"\n",
    "author: \"Sarah Tanja\"\n",
    "format: html\n",
    "editor: visual\n",
    "toc: true\n",
    "toc-title: Contents <i class=\"bi bi-bookmark-heart\"></i>\n",
    "toc-depth: 5\n",
    "toc-location: left\n",
    "reference-location: margin\n",
    "citation-location: margin\n",
    "bibliography: ./references/qiime2.bib\n",
    "---"
   ]
  },
  {
   "cell_type": "markdown",
   "id": "56c12bb8-df65-4c49-b01a-11d3b1b8b664",
   "metadata": {},
   "source": [
    "There are three goals of this script:\n",
    "1. To check the results of the mock community extraction and sequencing to look for any bias in the extraction and sequencing methods that may influence the data \n",
    "2. To use the 'blank' sample to remove or decontaminate the coral samples from any background bacterial contamination from the lab\n",
    "3. Remove mitochondria, chloroplasts and unknown ASV's from the feature table\n",
    "\n",
    "We're going to use the qiime2 plugin [quality-control](https://docs.qiime2.org/2023.9/plugins/available/quality-control/) to achieve these goals\n",
    "\n",
    "This [qiime2 tutorial](https://docs.qiime2.org/2023.9/tutorials/quality-control/) will help"
   ]
  },
  {
   "cell_type": "markdown",
   "id": "8a7997d9-10ca-4323-85e2-676ee96f60b5",
   "metadata": {},
   "source": [
    "## Python 3 API import qiime plugins"
   ]
  },
  {
   "cell_type": "code",
   "execution_count": 1,
   "id": "a593cfd4-fcb7-4a42-8440-457f99e65015",
   "metadata": {},
   "outputs": [],
   "source": [
    "from qiime2 import Visualization\n",
    "from qiime2 import Artifact\n",
    "from qiime2.plugins import quality_control"
   ]
  },
  {
   "cell_type": "markdown",
   "id": "e8e86f75-f252-44d0-91b4-c2f7adee99f9",
   "metadata": {},
   "source": [
    "# Evaluate mock community\n",
    "\n",
    "[Zymo MIQ score](https://www.zymoresearch.com/blogs/blog/how-to-quantify-bias-with-mock-microbial-community-standards)\n",
    "\n",
    "[ZymoBIOMICS Microbial Community Standard](https://www.zymoresearch.com/blogs/blog/zymobiomics-microbial-standards-optimize-your-microbiomics-workflow%20%20%20%20%20%20%20%20)\n",
    "\n",
    "Analyzing 16S sequencing data of the [ZymoBIOMICS® Standard](https://www.zymoresearch.com/collections/zymobiomics-microbial-community-standards/products/zymobiomics-microbial-community-standard) When sequencing the ZymoBIOMICS® standards analyze them using your regular 16S analysis pipelines, such as Qiime and Mothur. You can compare the measured composition with the theoretical composition of the standard. Questions that should be kept in mind during this comparison include: (1) whether your measurement covers all strains with the proper taxonomy assignment and with correct abundance, (2) whether your measurement indicates the presence of foreign taxa with significant abundance. Taxonomy assignment might be incorrect or improper because of problems in the reference database. Abundance estimation might be off because of bias in DNA extraction, bias in library preparation, poor quality of MiSeq runs, etc. The presence of foreign taxa might indicate process contamination, poor sequencing quality, PCR chimera in library preparation, defects in bioinformatics analysis, defects in reference database, etc. Both the ZymoBIOMICS®Microbial Community Standard and the DNA Standard are certified to have low impurities levels, < 0.01% by DNA abundance. So any foreign taxa with abundance higher than 0.01% are derived from artifacts in your workflow.\n",
    "\n",
    "Checkout this Zymo resource page on [How to quantify bias with mock microbial community standards](https://www.zymoresearch.com/blogs/blog/how-to-quantify-bias-with-mock-microbial-community-standards)\n",
    "\n",
    "Measurement Integrity Quotient (MIQ) score\n",
    "The MIQ score simplifies bias assessment by assigning a score from 0 to 100 and can be interpreted like a grade on a high school exam, with >90 being excellent, 80-89 being good, and so on (Figure 1). This is achieved by measuring the fidelity of measured relative abundances compared to a known input. The MIQ score is presented in a user-friendly report which also includes different plots to visually represent the evaluation. These include radar plots, taxa bar plots, and read fate counts\n",
    "\n",
    "![example-shotgun-composition-MIQ-score](https://files.zymoresearch.com/images/blog_post-miq_score_figure-2b.png)\n",
    "\n",
    "Called and asked them to send me the raw sequence data for the theoretical composition of ZymoBIOMICS Microbial Community Standard [(Cat#D6300)](https://www.zymoresearch.com/collections/zymobiomics-microbial-community-standards/products/zymobiomics-microbial-community-standard)\n",
    "<br>\n",
    "Theoretical Composition Based on Genomic DNA: \n",
    "- Listeria monocytogenes - 12% \n",
    "- Pseudomonas aeruginosa - 12% \n",
    "- Bacillus subtilis - 12% \n",
    "- Escherichia coli - 12% \n",
    "- Salmonella enterica - 12% \n",
    "- Lactobacillus fermentum - 12% \n",
    "- Enterococcus faecalis - 12% \n",
    "- Staphylococcus aureus - 12%\n",
    "- Saccharomyces cerevisiae - 2%\n",
    "- Cryptococcus neoformans - 2%\n",
    "\n",
    "To do this we need:\n",
    "- mock-expected.qza \"FeatureTable[RelativeFrequency]\"\n",
    "- mock-observed.qza \"FeatureTable[RelativeFrequency]\""
   ]
  },
  {
   "cell_type": "markdown",
   "id": "d13c8a7c-781c-4d19-ab10-713645772cbf",
   "metadata": {},
   "source": [
    "Exclude the mock community from the feature table for downstream analysis"
   ]
  },
  {
   "cell_type": "code",
   "execution_count": 19,
   "id": "e1abe395-4be9-4fec-8f6c-2278a0065a28",
   "metadata": {},
   "outputs": [
    {
     "name": "stdout",
     "output_type": "stream",
     "text": [
      "\u001b[32mSaved FeatureTable[Frequency] to: ../output/filtered/table-no-mock.qza\u001b[0m\n",
      "\u001b[0m"
     ]
    }
   ],
   "source": [
    "!qiime feature-table filter-samples \\\n",
    "  --i-table ../output/dada2/table.qza \\\n",
    "  --m-metadata-file ../data/sample-metadata-verbose.tsv \\\n",
    "  --p-where \"BarcodeSequence ='GATTAAGGTG'\" \\\n",
    "  --p-exclude-ids true \\\n",
    "  --o-filtered-table ../output/filtered/table-no-mock.qza"
   ]
  },
  {
   "cell_type": "code",
   "execution_count": 21,
   "id": "4084962b-69d5-47d2-bfa1-07350f746b03",
   "metadata": {},
   "outputs": [
    {
     "name": "stdout",
     "output_type": "stream",
     "text": [
      "\u001b[32mSaved Visualization to: ../output/filtered/table-no-mock.qzv\u001b[0m\n",
      "\u001b[0m"
     ]
    }
   ],
   "source": [
    "!qiime feature-table summarize \\\n",
    "  --i-table ../output/filtered/table-no-mock.qza \\\n",
    "  --o-visualization ../output/filtered/table-no-mock.qzv \\\n",
    "  --m-sample-metadata-file ../data/sample-metadata-verbose.tsv"
   ]
  },
  {
   "cell_type": "code",
   "execution_count": 23,
   "id": "2b5ac87c-706d-484e-a1a8-5a539decb022",
   "metadata": {},
   "outputs": [
    {
     "data": {
      "text/html": [
       "<div><img onload=\"(function(div, url){\n",
       "if (typeof require !== 'undefined') {\n",
       "    var baseURL = require.toUrl('').split('/').slice(0, -2).join('/');\n",
       "} else {\n",
       "    var baseURL = JSON.parse(\n",
       "        document.getElementById('jupyter-config-data').innerHTML\n",
       "    ).baseUrl.slice(0, -1);\n",
       "}\n",
       "url = baseURL + url;\n",
       "fetch(url).then(function(res) {\n",
       "    if (res.status === 404) {\n",
       "        div.innerHTML = 'Install QIIME 2 Jupyter extension with:<br />' +\n",
       "                        '<code>jupyter serverextension enable --py qiime2' +\n",
       "                        ' --sys-prefix</code><br />then restart your server.' +\n",
       "                        '<br /><br />(Interactive output not available on ' +\n",
       "                        'static notebook viewer services like nbviewer.)';\n",
       "    } else if (res.status === 409) {\n",
       "        div.innerHTML = 'Visualization no longer in scope. Re-run this cell' +\n",
       "                        ' to see the visualization.';\n",
       "    } else if (res.ok) {\n",
       "        url = res.url;\n",
       "        div.innerHTML = '<iframe src=\\'' + url + '\\' style=\\'' +\n",
       "                        'width: 100%; height: 700px; border: 0;\\'>' +\n",
       "                        '</iframe><hr />Open in a: <a href=\\'' + url + '\\'' +\n",
       "                        ' target=\\'_blank\\'>new window</a>'\n",
       "    } else {\n",
       "        div.innerHTML = 'Something has gone wrong. Check notebook server for' +\n",
       "                        ' errors.';\n",
       "    }\n",
       "});\n",
       "})(this.parentElement, '/qiime2/redirect?location=/tmp/qiime2/stanja/data/c80fb7fc-4e7e-4582-9ce7-744f7f8b3df3')\" src=\"data:image/gif;base64,R0lGODlhAQABAIAAAP///wAAACH5BAEAAAAALAAAAAABAAEAAAICRAEAOw==\" /></div>"
      ],
      "text/plain": [
       "<visualization: Visualization uuid: c80fb7fc-4e7e-4582-9ce7-744f7f8b3df3>"
      ]
     },
     "execution_count": 23,
     "metadata": {},
     "output_type": "execute_result"
    }
   ],
   "source": [
    "Visualization.load('../output/filtered/table-no-mock.qzv')"
   ]
  },
  {
   "cell_type": "markdown",
   "id": "8a7756e6-dec6-4654-ac89-a5313ec38f85",
   "metadata": {},
   "source": [
    "# Decontaminate\n",
    "\n",
    "Here I want to take all the features that were found in the 'blank' sample, and subtract them from the feature table. aka, getting rid of contamination! Yay! \n",
    "\n",
    "We first need to generate some files for input:\n",
    "- query-seqs.qza \"FeatureData[Sequence]\"\n",
    "  | We want this to be a list of the sequences found in the blank, the ones we want to remove!\n",
    "- reference-seqs.qza \"FeatureData[Sequence]\"\n",
    "  | This is the list of sequences found in the coral samples\n",
    "\n",
    "We want to search for any sequences present in the query against the reference.\n",
    "Any sequences from the blank found in the coral will be 'hits', any sequences from the corals that don't match those in the blank will be 'miss'\n",
    "\n",
    "- query-table.qza \"FeatureTable[Frequency]\" | This will be all the coral samples"
   ]
  },
  {
   "cell_type": "markdown",
   "id": "0fbca8e6-3ba2-4b14-94db-347f43cb71f9",
   "metadata": {},
   "source": [
    "(Metadata-based filtering)[https://docs.qiime2.org/2019.4/tutorials/filtering/#:~:text=view%20%7C%20download-,Metadata%2Dbased%20filtering,-%C2%B6]\n",
    "\n",
    "Modify metadata to keep only the blank sample!"
   ]
  },
  {
   "cell_type": "code",
   "execution_count": 11,
   "id": "809f189c-05e1-4812-87d6-2d86159cb419",
   "metadata": {},
   "outputs": [],
   "source": [
    "import pandas as pd"
   ]
  },
  {
   "cell_type": "code",
   "execution_count": 12,
   "id": "bc941a5c-fa0e-47b8-9dad-4c0f1dddeef4",
   "metadata": {},
   "outputs": [
    {
     "data": {
      "text/html": [
       "<div>\n",
       "<style scoped>\n",
       "    .dataframe tbody tr th:only-of-type {\n",
       "        vertical-align: middle;\n",
       "    }\n",
       "\n",
       "    .dataframe tbody tr th {\n",
       "        vertical-align: top;\n",
       "    }\n",
       "\n",
       "    .dataframe thead th {\n",
       "        text-align: right;\n",
       "    }\n",
       "</style>\n",
       "<table border=\"1\" class=\"dataframe\">\n",
       "  <thead>\n",
       "    <tr style=\"text-align: right;\">\n",
       "      <th></th>\n",
       "      <th>#SampleID</th>\n",
       "      <th>BarcodeSequence</th>\n",
       "      <th>LinkerPrimerSequence</th>\n",
       "      <th>BarcodeName</th>\n",
       "      <th>ReversePrimer</th>\n",
       "      <th>ProjectName</th>\n",
       "      <th>Description</th>\n",
       "      <th>Pae</th>\n",
       "      <th>Temp</th>\n",
       "      <th>PaeTemp</th>\n",
       "      <th>Colony</th>\n",
       "      <th>Tank</th>\n",
       "    </tr>\n",
       "  </thead>\n",
       "  <tbody>\n",
       "    <tr>\n",
       "      <th>20</th>\n",
       "      <td>blank.</td>\n",
       "      <td>TATGTGCAAT</td>\n",
       "      <td>GTGYCAGCMGCCGCGGTAA</td>\n",
       "      <td>60bp_UDPi5_0093</td>\n",
       "      <td>GGACTACNVGGGTWTCTAAT</td>\n",
       "      <td>060823STillcus515F</td>\n",
       "      <td>blank.</td>\n",
       "      <td>blank</td>\n",
       "      <td>blank</td>\n",
       "      <td>blank</td>\n",
       "      <td>blank</td>\n",
       "      <td>blank</td>\n",
       "    </tr>\n",
       "  </tbody>\n",
       "</table>\n",
       "</div>"
      ],
      "text/plain": [
       "   #SampleID BarcodeSequence LinkerPrimerSequence      BarcodeName  \\\n",
       "20    blank.      TATGTGCAAT  GTGYCAGCMGCCGCGGTAA  60bp_UDPi5_0093   \n",
       "\n",
       "           ReversePrimer         ProjectName Description    Pae   Temp  \\\n",
       "20  GGACTACNVGGGTWTCTAAT  060823STillcus515F      blank.  blank  blank   \n",
       "\n",
       "   PaeTemp Colony   Tank  \n",
       "20   blank  blank  blank  "
      ]
     },
     "execution_count": 12,
     "metadata": {},
     "output_type": "execute_result"
    }
   ],
   "source": [
    "# read in tsv sample metadata as a csv\n",
    "df = pd.read_csv('../data/sample-metadata-verbose.tsv', delimiter='\\t')\n",
    "# make a list of SampleID values to remove\n",
    "keep = ['blank.']\n",
    "# remove those rows \n",
    "df = df[df['#SampleID'].isin(keep)]\n",
    "df"
   ]
  },
  {
   "cell_type": "code",
   "execution_count": 13,
   "id": "c1b40386-4957-4641-9d0f-762e7cffdc6c",
   "metadata": {},
   "outputs": [],
   "source": [
    "# save the new df as a tsv\n",
    "df.to_csv('../data/sample-metadata-blank.tsv', sep='\\t', index=False)"
   ]
  },
  {
   "cell_type": "code",
   "execution_count": null,
   "id": "9b885a25-abed-4674-b421-cbe495e64406",
   "metadata": {},
   "outputs": [],
   "source": [
    "Create feature table of only the blank sample"
   ]
  },
  {
   "cell_type": "code",
   "execution_count": 14,
   "id": "5ed77251-60e4-4ba9-9ff2-c76f78f80cd0",
   "metadata": {},
   "outputs": [
    {
     "name": "stdout",
     "output_type": "stream",
     "text": [
      "\u001b[32mSaved FeatureTable[Frequency] to: ../output/dada2/table-blank.qza\u001b[0m\n",
      "\u001b[0m"
     ]
    }
   ],
   "source": [
    "!qiime feature-table filter-samples \\\n",
    "  --i-table ../output/dada2/table.qza \\\n",
    "  --m-metadata-file ../data/sample-metadata-blank.tsv \\\n",
    "  --o-filtered-table ../output/filtered/table-blank.qza"
   ]
  },
  {
   "cell_type": "markdown",
   "id": "91f8a07a-4adb-4a69-ac0e-f6f30f465212",
   "metadata": {},
   "source": [
    " Alternatively, instead of using pandas, you can use `qiime feature-table filter-samples` :"
   ]
  },
  {
   "cell_type": "code",
   "execution_count": 36,
   "id": "036af6ba-07d9-49a0-922b-2db0c89b34e1",
   "metadata": {},
   "outputs": [
    {
     "name": "stdout",
     "output_type": "stream",
     "text": [
      "\u001b[32mSaved FeatureTable[Frequency] to: ../output/filtered/table-blank.qza\u001b[0m\n",
      "\u001b[0m"
     ]
    }
   ],
   "source": [
    "!qiime feature-table filter-samples \\\n",
    "  --i-table ../output/dada2/table.qza \\\n",
    "  --m-metadata-file ../data/sample-metadata-verbose.tsv \\\n",
    "  --p-where \"BarcodeSequence ='TATGTGCAAT'\" \\\n",
    "  --o-filtered-table ../output/filtered/table-blank.qza"
   ]
  },
  {
   "cell_type": "code",
   "execution_count": 38,
   "id": "1c8ce2ea-149d-4400-aca1-adeffccd18e4",
   "metadata": {},
   "outputs": [
    {
     "name": "stdout",
     "output_type": "stream",
     "text": [
      "\u001b[32mSaved Visualization to: ../output/filtered/table-blank.qzv\u001b[0m\n",
      "\u001b[0m"
     ]
    }
   ],
   "source": [
    "!qiime feature-table summarize \\\n",
    "  --i-table ../output/filtered/table-blank.qza \\\n",
    "  --o-visualization ../output/filtered/table-blank.qzv \\\n",
    "  --m-sample-metadata-file ../data/sample-metadata-blank.tsv"
   ]
  },
  {
   "cell_type": "code",
   "execution_count": 39,
   "id": "383577cb-ceac-4929-b729-f5c60cce6a78",
   "metadata": {},
   "outputs": [
    {
     "data": {
      "text/html": [
       "<div><img onload=\"(function(div, url){\n",
       "if (typeof require !== 'undefined') {\n",
       "    var baseURL = require.toUrl('').split('/').slice(0, -2).join('/');\n",
       "} else {\n",
       "    var baseURL = JSON.parse(\n",
       "        document.getElementById('jupyter-config-data').innerHTML\n",
       "    ).baseUrl.slice(0, -1);\n",
       "}\n",
       "url = baseURL + url;\n",
       "fetch(url).then(function(res) {\n",
       "    if (res.status === 404) {\n",
       "        div.innerHTML = 'Install QIIME 2 Jupyter extension with:<br />' +\n",
       "                        '<code>jupyter serverextension enable --py qiime2' +\n",
       "                        ' --sys-prefix</code><br />then restart your server.' +\n",
       "                        '<br /><br />(Interactive output not available on ' +\n",
       "                        'static notebook viewer services like nbviewer.)';\n",
       "    } else if (res.status === 409) {\n",
       "        div.innerHTML = 'Visualization no longer in scope. Re-run this cell' +\n",
       "                        ' to see the visualization.';\n",
       "    } else if (res.ok) {\n",
       "        url = res.url;\n",
       "        div.innerHTML = '<iframe src=\\'' + url + '\\' style=\\'' +\n",
       "                        'width: 100%; height: 700px; border: 0;\\'>' +\n",
       "                        '</iframe><hr />Open in a: <a href=\\'' + url + '\\'' +\n",
       "                        ' target=\\'_blank\\'>new window</a>'\n",
       "    } else {\n",
       "        div.innerHTML = 'Something has gone wrong. Check notebook server for' +\n",
       "                        ' errors.';\n",
       "    }\n",
       "});\n",
       "})(this.parentElement, '/qiime2/redirect?location=/tmp/qiime2/stanja/data/6f8e16cf-5248-4f36-9d41-7324235fd4a9')\" src=\"data:image/gif;base64,R0lGODlhAQABAIAAAP///wAAACH5BAEAAAAALAAAAAABAAEAAAICRAEAOw==\" /></div>"
      ],
      "text/plain": [
       "<visualization: Visualization uuid: 6f8e16cf-5248-4f36-9d41-7324235fd4a9>"
      ]
     },
     "execution_count": 39,
     "metadata": {},
     "output_type": "execute_result"
    }
   ],
   "source": [
    "Visualization.load('../output/filtered/table-blank.qzv')"
   ]
  },
  {
   "cell_type": "markdown",
   "id": "a5c85e58-5e25-4104-80d6-7789d5f27fa0",
   "metadata": {},
   "source": [
    "### Filter representative sequences \n",
    "Here I make an artifact file that contained only the sequences found in the blank sample.\n",
    "This artifact creation uses the blank-filtered frequency table and the representative sequences `FeatureData[Sequence]` as input. "
   ]
  },
  {
   "cell_type": "code",
   "execution_count": 32,
   "id": "29378ad3-43ca-4da4-a858-28f4a13f3ef1",
   "metadata": {},
   "outputs": [
    {
     "name": "stdout",
     "output_type": "stream",
     "text": [
      "\u001b[32mSaved FeatureData[Sequence] to: ../output/filtered/rep-seqs-blank.qza\u001b[0m\n",
      "\u001b[0m"
     ]
    }
   ],
   "source": [
    "!qiime feature-table filter-seqs \\\n",
    "  --i-data ../output/dada2/representative_sequences.qza \\\n",
    "  --i-table ../output/filtered/table-blank.qza \\\n",
    "  --o-filtered-data ../output/filtered/rep-seqs-blank.qza"
   ]
  },
  {
   "cell_type": "code",
   "execution_count": 5,
   "id": "5e54fe17-32c8-447c-9e7e-cd4427d0cee1",
   "metadata": {},
   "outputs": [
    {
     "name": "stdout",
     "output_type": "stream",
     "text": [
      "\u001b[32mSaved FeatureData[Sequence] to: ../output/filtered/hits.qza\u001b[0m\n",
      "\u001b[32mSaved FeatureData[Sequence] to: ../output/filtered/misses.qza\u001b[0m\n",
      "\u001b[0m"
     ]
    }
   ],
   "source": [
    "!qiime quality-control exclude-seqs \\\n",
    "  --i-query-sequences ../output/filtered/rep-seqs-blank.qza \\\n",
    "  --i-reference-sequences ../output/dada2/representative_sequences.qza \\\n",
    "  --p-method blast \\\n",
    "  --p-perc-identity 0.97 \\\n",
    "  --p-perc-query-aligned 0.97 \\\n",
    "  --o-sequence-hits ../output/filtered/hits.qza \\\n",
    "  --o-sequence-misses ../output/filtered/misses.qza"
   ]
  },
  {
   "cell_type": "code",
   "execution_count": 6,
   "id": "23c7e77c-53cd-4240-ba2a-a3054a4d4fa6",
   "metadata": {},
   "outputs": [
    {
     "name": "stdout",
     "output_type": "stream",
     "text": [
      "\u001b[32mUUID\u001b[0m:        fcdeb722-c761-4ca4-92fc-bf8b947dcc96\n",
      "\u001b[32mType\u001b[0m:        FeatureData[Sequence]\n",
      "\u001b[32mData format\u001b[0m: DNASequencesDirectoryFormat\n"
     ]
    }
   ],
   "source": [
    "!qiime tools peek ../output/filtered/hits.qza"
   ]
  },
  {
   "cell_type": "code",
   "execution_count": 7,
   "id": "c5574465-6538-4be5-a736-36ce77a6d088",
   "metadata": {},
   "outputs": [
    {
     "name": "stdout",
     "output_type": "stream",
     "text": [
      "\u001b[32mSaved FeatureTable[Frequency] to: ../output/filtered/no-hits-filtered-table.qza\u001b[0m\n",
      "\u001b[0m"
     ]
    }
   ],
   "source": [
    "!qiime feature-table filter-features \\\n",
    "  --i-table ../output/dada2/table.qza \\\n",
    "  --m-metadata-file ../output/filtered/hits.qza \\\n",
    "  --o-filtered-table ../output/filtered/no-hits-filtered-table.qza \\\n",
    "  --p-exclude-ids"
   ]
  },
  {
   "cell_type": "code",
   "execution_count": 8,
   "id": "1c95e7f8-955b-4dc4-9283-2566e994de66",
   "metadata": {},
   "outputs": [
    {
     "name": "stdout",
     "output_type": "stream",
     "text": [
      "\u001b[32mSaved Visualization to: ../output/filtered/no-hits-filtered-table.qzv\u001b[0m\n",
      "\u001b[0m"
     ]
    }
   ],
   "source": [
    "!qiime feature-table summarize \\\n",
    "  --i-table ../output/filtered/no-hits-filtered-table.qza \\\n",
    "  --o-visualization ../output/filtered/no-hits-filtered-table.qzv \\\n",
    "  --m-sample-metadata-file ../data/sample-metadata-verbose.tsv"
   ]
  },
  {
   "cell_type": "code",
   "execution_count": 12,
   "id": "b6b50763-b0db-4f39-bc3c-eb557bb89ef4",
   "metadata": {},
   "outputs": [
    {
     "data": {
      "text/html": [
       "<div><img onload=\"(function(div, url){\n",
       "if (typeof require !== 'undefined') {\n",
       "    var baseURL = require.toUrl('').split('/').slice(0, -2).join('/');\n",
       "} else {\n",
       "    var baseURL = JSON.parse(\n",
       "        document.getElementById('jupyter-config-data').innerHTML\n",
       "    ).baseUrl.slice(0, -1);\n",
       "}\n",
       "url = baseURL + url;\n",
       "fetch(url).then(function(res) {\n",
       "    if (res.status === 404) {\n",
       "        div.innerHTML = 'Install QIIME 2 Jupyter extension with:<br />' +\n",
       "                        '<code>jupyter serverextension enable --py qiime2' +\n",
       "                        ' --sys-prefix</code><br />then restart your server.' +\n",
       "                        '<br /><br />(Interactive output not available on ' +\n",
       "                        'static notebook viewer services like nbviewer.)';\n",
       "    } else if (res.status === 409) {\n",
       "        div.innerHTML = 'Visualization no longer in scope. Re-run this cell' +\n",
       "                        ' to see the visualization.';\n",
       "    } else if (res.ok) {\n",
       "        url = res.url;\n",
       "        div.innerHTML = '<iframe src=\\'' + url + '\\' style=\\'' +\n",
       "                        'width: 100%; height: 700px; border: 0;\\'>' +\n",
       "                        '</iframe><hr />Open in a: <a href=\\'' + url + '\\'' +\n",
       "                        ' target=\\'_blank\\'>new window</a>'\n",
       "    } else {\n",
       "        div.innerHTML = 'Something has gone wrong. Check notebook server for' +\n",
       "                        ' errors.';\n",
       "    }\n",
       "});\n",
       "})(this.parentElement, '/qiime2/redirect?location=/tmp/qiime2/stanja/data/0774ca34-1435-4a25-b5eb-fd3c6b5516f5')\" src=\"data:image/gif;base64,R0lGODlhAQABAIAAAP///wAAACH5BAEAAAAALAAAAAABAAEAAAICRAEAOw==\" /></div>"
      ],
      "text/plain": [
       "<visualization: Visualization uuid: 0774ca34-1435-4a25-b5eb-fd3c6b5516f5>"
      ]
     },
     "execution_count": 12,
     "metadata": {},
     "output_type": "execute_result"
    }
   ],
   "source": [
    "Visualization.load(\"../output/filtered/no-hits-filtered-table.qzv\")"
   ]
  },
  {
   "cell_type": "markdown",
   "id": "ba3c2e1d-ea89-49fb-8250-a0b25166f361",
   "metadata": {},
   "source": [
    "# Remove Mitochondria, Chloroplastis & Unknowns with Taxonomy-based filtering\n",
    "[qiime2 tutorial](https://docs.qiime2.org/2019.4/tutorials/filtering/)"
   ]
  },
  {
   "cell_type": "code",
   "execution_count": 13,
   "id": "eeaf0fda-7bc4-46ea-b3fa-62edaebc84de",
   "metadata": {},
   "outputs": [
    {
     "name": "stdout",
     "output_type": "stream",
     "text": [
      "\u001b[32mSaved FeatureTable[Frequency] to: ../output/filtered/table-taxon-filtered.qza\u001b[0m\n",
      "\u001b[0m"
     ]
    }
   ],
   "source": [
    "!qiime taxa filter-table \\\n",
    "  --i-table ../output/filtered/no-hits-filtered-table.qza \\\n",
    "  --i-taxonomy ../output/taxonomy/classification.qza \\\n",
    "  --p-exclude mitochondria,chloroplast,unassigned \\\n",
    "  --o-filtered-table ../output/filtered/table-taxon-filtered.qza"
   ]
  },
  {
   "cell_type": "markdown",
   "id": "27f3638f-7228-4650-8e10-1964c2496e76",
   "metadata": {},
   "source": [
    "Now let's view the taxonomy bar plot to confirm that mitochondria, chloroplasts, and unknown features were removed from the filtered feature table"
   ]
  },
  {
   "cell_type": "code",
   "execution_count": 14,
   "id": "bf3ccf79-313b-40ad-ac67-21323eb9dd61",
   "metadata": {},
   "outputs": [
    {
     "name": "stdout",
     "output_type": "stream",
     "text": [
      "\u001b[32mSaved Visualization to: ../output/taxonomy/taxa_barplot-taxon-filtered.qzv\u001b[0m\n",
      "\u001b[0m"
     ]
    }
   ],
   "source": [
    "!qiime taxa barplot \\\n",
    "    --i-table ../output/filtered/table-taxon-filtered.qza \\\n",
    "    --i-taxonomy ../output/taxonomy/classification.qza \\\n",
    "    --m-metadata-file ../data/sample-metadata-verbose.tsv \\\n",
    "    --o-visualization ../output/taxonomy/taxa_barplot-taxon-filtered.qzv"
   ]
  },
  {
   "cell_type": "code",
   "execution_count": 15,
   "id": "15735f59-2ffc-45e0-aa62-225d14e81ad2",
   "metadata": {},
   "outputs": [
    {
     "data": {
      "text/html": [
       "<div><img onload=\"(function(div, url){\n",
       "if (typeof require !== 'undefined') {\n",
       "    var baseURL = require.toUrl('').split('/').slice(0, -2).join('/');\n",
       "} else {\n",
       "    var baseURL = JSON.parse(\n",
       "        document.getElementById('jupyter-config-data').innerHTML\n",
       "    ).baseUrl.slice(0, -1);\n",
       "}\n",
       "url = baseURL + url;\n",
       "fetch(url).then(function(res) {\n",
       "    if (res.status === 404) {\n",
       "        div.innerHTML = 'Install QIIME 2 Jupyter extension with:<br />' +\n",
       "                        '<code>jupyter serverextension enable --py qiime2' +\n",
       "                        ' --sys-prefix</code><br />then restart your server.' +\n",
       "                        '<br /><br />(Interactive output not available on ' +\n",
       "                        'static notebook viewer services like nbviewer.)';\n",
       "    } else if (res.status === 409) {\n",
       "        div.innerHTML = 'Visualization no longer in scope. Re-run this cell' +\n",
       "                        ' to see the visualization.';\n",
       "    } else if (res.ok) {\n",
       "        url = res.url;\n",
       "        div.innerHTML = '<iframe src=\\'' + url + '\\' style=\\'' +\n",
       "                        'width: 100%; height: 700px; border: 0;\\'>' +\n",
       "                        '</iframe><hr />Open in a: <a href=\\'' + url + '\\'' +\n",
       "                        ' target=\\'_blank\\'>new window</a>'\n",
       "    } else {\n",
       "        div.innerHTML = 'Something has gone wrong. Check notebook server for' +\n",
       "                        ' errors.';\n",
       "    }\n",
       "});\n",
       "})(this.parentElement, '/qiime2/redirect?location=/tmp/qiime2/stanja/data/b8b9f9b0-ae4e-4977-8ecb-0d35d60d56ad')\" src=\"data:image/gif;base64,R0lGODlhAQABAIAAAP///wAAACH5BAEAAAAALAAAAAABAAEAAAICRAEAOw==\" /></div>"
      ],
      "text/plain": [
       "<visualization: Visualization uuid: b8b9f9b0-ae4e-4977-8ecb-0d35d60d56ad>"
      ]
     },
     "execution_count": 15,
     "metadata": {},
     "output_type": "execute_result"
    }
   ],
   "source": [
    "Visualization.load(\"../output/taxonomy/taxa_barplot-taxon-filtered.qzv\")"
   ]
  }
 ],
 "metadata": {
  "kernelspec": {
   "display_name": "Python 3 (ipykernel)",
   "language": "python",
   "name": "python3"
  },
  "language_info": {
   "codemirror_mode": {
    "name": "ipython",
    "version": 3
   },
   "file_extension": ".py",
   "mimetype": "text/x-python",
   "name": "python",
   "nbconvert_exporter": "python",
   "pygments_lexer": "ipython3",
   "version": "3.8.16"
  }
 },
 "nbformat": 4,
 "nbformat_minor": 5
}
