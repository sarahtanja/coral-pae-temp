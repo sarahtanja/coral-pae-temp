{
 "cells": [
  {
   "cell_type": "code",
   "execution_count": null,
   "id": "060f3167-73d6-4ab9-874a-87371ffb0354",
   "metadata": {},
   "outputs": [],
   "source": []
  },
  {
   "cell_type": "markdown",
   "id": "d1ffd853-f2af-4faf-ace4-b672e796f7c4",
   "metadata": {},
   "source": [
    "## PICRUSt2 \n",
    "(Phylogenetic Investigation of Communities by Reconstruction of Unobserved States) is a software for predicting functional abundances based only on marker gene sequences.\n",
    "\n",
    "Checkout the PICRUSt2 Tutorial [here](https://github.com/picrust/picrust2/wiki/PICRUSt2-Tutorial-(v2.5.2)\n",
    "\n",
    "q2-picrust : Plugin to run the PICRUSt2 pipeline to get EC, KO, and MetaCyc pathway predictions based on 16S data. Either EPA-NG or SEPP can be used to place sequences into the required reference phylogeny.\n",
    " "
   ]
  },
  {
   "cell_type": "code",
   "execution_count": null,
   "id": "debf4d7b-41cb-4c59-9282-174306525f48",
   "metadata": {},
   "outputs": [
    {
     "name": "stdout",
     "output_type": "stream",
     "text": [
      "Retrieving notices: ...working... done\n",
      "Collecting package metadata (current_repodata.json): done\n",
      "Solving environment: unsuccessful initial attempt using frozen solve. Retrying with flexible solve.\n",
      "Solving environment: unsuccessful attempt using repodata from current_repodata.json, retrying with next repodata source.\n",
      "Collecting package metadata (repodata.json): done\n",
      "Solving environment: done\n",
      "\n",
      "\n",
      "==> WARNING: A newer version of conda exists. <==\n",
      "  current version: 23.7.2\n",
      "  latest version: 23.9.0\n",
      "\n",
      "Please update conda by running\n",
      "\n",
      "    $ conda update -n base -c defaults conda\n",
      "\n",
      "Or to minimize the number of packages updated during conda update use\n",
      "\n",
      "     conda install conda=23.9.0\n",
      "\n",
      "\n",
      "\n",
      "## Package Plan ##\n",
      "\n",
      "  environment location: /home/shared/8TB_HDD_02/stanja/miniconda3/envs/qiime2-2023.5\n",
      "\n",
      "  added / updated specs:\n",
      "    - q2-picrust2=2023.2\n",
      "\n",
      "\n",
      "The following packages will be downloaded:\n",
      "\n",
      "    package                    |            build\n",
      "    ---------------------------|-----------------\n",
      "    coverage-7.3.2             |   py38h01eb140_0         270 KB  conda-forge\n",
      "    epa-ng-0.3.8               |       hdcf5f25_4         1.5 MB  bioconda\n",
      "    gappa-0.8.0                |       hdcf5f25_3         1.8 MB  bioconda\n",
      "    openssl-3.1.3              |       hd590300_0         2.5 MB  conda-forge\n",
      "    picrust2-2.5.2             |     pyhdfd78af_0          73 KB  bioconda\n",
      "    pytest-cov-4.1.0           |     pyhd8ed1ab_0          25 KB  conda-forge\n",
      "    q2-picrust2-2023.2         |           py38_0          21 KB  gavinmdouglas\n",
      "    r-castor-1.7.11            |    r42ha503ecb_0         2.4 MB  conda-forge\n",
      "    r-naturalsort-0.1.3        | r42hc72bb7e_1005          24 KB  conda-forge\n",
      "    ------------------------------------------------------------\n",
      "                                           Total:         8.6 MB\n",
      "\n",
      "The following NEW packages will be INSTALLED:\n",
      "\n",
      "  coverage           conda-forge/linux-64::coverage-7.3.2-py38h01eb140_0 \n",
      "  epa-ng             bioconda/linux-64::epa-ng-0.3.8-hdcf5f25_4 \n",
      "  gappa              bioconda/linux-64::gappa-0.8.0-hdcf5f25_3 \n",
      "  picrust2           bioconda/noarch::picrust2-2.5.2-pyhdfd78af_0 \n",
      "  pytest-cov         conda-forge/noarch::pytest-cov-4.1.0-pyhd8ed1ab_0 \n",
      "  q2-picrust2        gavinmdouglas/noarch::q2-picrust2-2023.2-py38_0 \n",
      "  r-castor           conda-forge/linux-64::r-castor-1.7.11-r42ha503ecb_0 \n",
      "  r-naturalsort      conda-forge/noarch::r-naturalsort-0.1.3-r42hc72bb7e_1005 \n",
      "\n",
      "The following packages will be UPDATED:\n",
      "\n",
      "  openssl                                  3.1.2-hd590300_0 --> 3.1.3-hd590300_0 \n",
      "\n",
      "\n",
      "Proceed ([y]/n)? "
     ]
    }
   ],
   "source": [
    "!conda install q2-picrust2=2023.2 \\\n",
    "-c conda-forge \\\n",
    "-c bioconda \\\n",
    "-c gavinmdouglas "
   ]
  }
 ],
 "metadata": {
  "kernelspec": {
   "display_name": "Python 3 (ipykernel)",
   "language": "python",
   "name": "python3"
  },
  "language_info": {
   "codemirror_mode": {
    "name": "ipython",
    "version": 3
   },
   "file_extension": ".py",
   "mimetype": "text/x-python",
   "name": "python",
   "nbconvert_exporter": "python",
   "pygments_lexer": "ipython3",
   "version": "3.8.16"
  }
 },
 "nbformat": 4,
 "nbformat_minor": 5
}
